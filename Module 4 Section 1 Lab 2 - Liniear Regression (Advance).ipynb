{
 "cells": [
  {
   "cell_type": "markdown",
   "metadata": {},
   "source": [
    "# Module 4 Section 1 Lab 1 - Liniear Regression (Advance)\n",
    "\n",
    "## Pendahuluan\n",
    "Kita mulai dengan kekurangan dari *Liniear Regression*.\n",
    "- Batasan utama *Liniear Regression* adalah asumsi linearitas antara variabel terikat dan variabel bebas. Di dunia nyata, data jarang dapat dipisahkan secara linier. Ini mengasumsikan bahwa ada hubungan garis lurus antara variabel dependen dan independen yang salah berkali-kali.\n",
    "- Rentan terhadap *noise* dan *overfitting*: jika jumlah observasi lebih kecil dari jumlah fitur, *Liniear Regression* tidak boleh digunakan. Jika tidak, dapat menyebabkan *overfitting* karena mulai mempertimbangkan *noise* dalam skenario saat membangun model.\n",
    "- Rawan *outlier*: *Liniear Regression* sangat sensitif terhadap *outlier* (anomali). Jadi, *outlier* harus dianalisis dan dihilangkan sebelum menerapkan *Liniear Regression* ke dataset.\n",
    "- Rawan multikolinearitas: Sebelum menerapkan *Liniear Regression*, multikolinearitas harus dihilangkan (menggunakan teknik reduksi dimensionalitas) karena diasumsikan tidak ada hubungan antar variabel bebas.\n",
    "\n",
    "\n",
    "## Objektif\n",
    "- Underfitting\n",
    "- Polynomial Regression\n",
    "- Overfitting\n",
    "- Konsep Regularization"
   ]
  },
  {
   "cell_type": "code",
   "execution_count": 1,
   "metadata": {},
   "outputs": [],
   "source": [
    "import pandas as pd\n",
    "import numpy as np\n",
    "import matplotlib.pyplot as plt\n",
    "\n",
    "from sklearn.model_selection import LeaveOneOut\n",
    "from sklearn.model_selection import cross_val_score\n",
    "from sklearn.metrics import mean_squared_error\n",
    "\n",
    "import warnings\n",
    "warnings.filterwarnings('ignore')\n",
    "\n",
    "%matplotlib inline"
   ]
  },
  {
   "cell_type": "markdown",
   "metadata": {},
   "source": [
    "# Underfitting\n",
    "Underfitting adalah ketika model gagal menangkap keseluruhan tren atau pola data. Misalnya: Model linier akan melakukan pekerjaan yang sangat buruk dalam menjelaskan variabel target jika kita memasangkan ke data nonlinier. \n",
    "\n",
    "Model yang underfitting dikatakan memiliki bias tinggi.\n",
    "\n",
    "- Bias adalah perbedaan antara prediksi dan kebenaran menggunakan model yang dilatih oleh algoritma pembelajaran tertentu.\n",
    "- Kesalahan karena bias adalah karena kita berasumsi bahwa model linier sederhana akan cocok dengan distribusi data non linier.\n",
    "\n",
    "**Apa yang terjadi disini?**\n",
    "Sebuah model linier tidak cocok dengan data non-linier. Tapi kemudian dapatkah kurva non-linier melakukan pekerjaan itu?"
   ]
  },
  {
   "cell_type": "markdown",
   "metadata": {},
   "source": [
    "# Polynomial Regression\n",
    "Salah satu cara untuk mengatasi underfitting adalah melalui fungsi polinomial. Mari kita lihat penerapan teknik ini.\n",
    "\n",
    "Jika kita memodelkan hasil sintesis kimia dalam hal suhu di mana sintesis berlangsung, kita mungkin menemukan bahwa hasil meningkat dengan meningkatkan jumlah untuk setiap unit kenaikan suhu. Dalam hal ini, kami dapat mengusulkan model kuadrat dari bentuk:\n",
    "\n",
    "$$ y = \\beta_{0}+\\beta_{1}x+\\beta_{2}x^2+\\varepsilon. $$\n",
    "\n",
    "Secara umum, kita dapat memodelkan nilai harapan $y$ sebagai polinomial derajat ke-$n$, menghasilkan model *Polynomial Regression* umum:\n",
    "\n",
    "$$ y = \\beta_{0}+\\beta_{1}x+\\beta_{2}x^2+\\cdots +\\beta_{n}x^n+\\varepsilon. $$\n",
    "\n",
    "Proyeksi polinomial dibangun ke dalam Scikit-Learn menggunakan `Polynomial Features`."
   ]
  },
  {
   "cell_type": "markdown",
   "metadata": {},
   "source": [
    "## Apa itu Transformator Fitur Polinomial?\n",
    "\n",
    "Ini adalah mengambil tingkat $n-th$ dari variabel kita. Di bawah ini adalah contoh mudah untuk menampilkan fungsinya:\n",
    "- Katakanlah kita ingin mengambil derajat ke- 1, 2 dan 3 dari angka 2, 3 & 4.\n",
    "- Secara intuitif kita tahu bahwa untuk 2 derajat ke-1, 2 dan 3 adalah: 2, 4 $(2^2)$ dan 8 $(2^3)$"
   ]
  },
  {
   "cell_type": "code",
   "execution_count": 2,
   "metadata": {},
   "outputs": [
    {
     "data": {
      "text/plain": [
       "array([[ 2.,  4.,  8.],\n",
       "       [ 3.,  9., 27.],\n",
       "       [ 4., 16., 64.]])"
      ]
     },
     "execution_count": 2,
     "metadata": {},
     "output_type": "execute_result"
    }
   ],
   "source": [
    "from sklearn.preprocessing import PolynomialFeatures\n",
    "\n",
    "x = np.array([2, 3, 4])\n",
    "poly = PolynomialFeatures(3, include_bias=False)\n",
    "poly.fit_transform(x[:, None])"
   ]
  },
  {
   "cell_type": "markdown",
   "metadata": {},
   "source": [
    "Pada contoh diatas, `3` dalam `PolynomialFeatures(3, include_bias=False)` pada dasarnya adalah nilai derajat polinomial hingga data yang kita inginkan ditransformasikan.\n",
    "\n",
    "Kita dapat melihat 3 nilai untuk 2,3 dan 4. Misalnya: $4^1$=(4), $4^2$=(16) dan $4^3$=(64)\n",
    "\n",
    "Sekarang, mari kita gunakan teknik yang sama untuk membuat model polinomial 7 derajat untuk data non-linier yang dihasilkan sebelumnya."
   ]
  },
  {
   "cell_type": "code",
   "execution_count": 4,
   "metadata": {},
   "outputs": [],
   "source": [
    "from sklearn.pipeline import make_pipeline\n",
    "from sklearn.linear_model import LinearRegression\n",
    "\n",
    "'''\n",
    "#make_pipeline() sama seperti Pipeline() \n",
    "digunakan untuk melakukan urutan transformasi yang berbeda pada dataset mentah sebelum menerapkan estimator akhir.\n",
    "'''\n",
    "\n",
    "poly_model = make_pipeline(PolynomialFeatures(7), LinearRegression())  "
   ]
  },
  {
   "cell_type": "code",
   "execution_count": 5,
   "metadata": {},
   "outputs": [
    {
     "data": {
      "image/png": "[encoded data removed]",
      "text/plain": [
       "<Figure size 576x432 with 1 Axes>"
      ]
     },
     "metadata": {
      "needs_background": "light"
     },
     "output_type": "display_data"
    }
   ],
   "source": [
    "rng = np.random.RandomState(1)\n",
    "x = 10 * rng.rand(50)\n",
    "y = np.sin(x) + 0.1 * rng.randn(50)\n",
    "xfit = np.linspace(0, 10, 1000)\n",
    "\n",
    "poly_model.fit(x[:, np.newaxis], y)\n",
    "yfit = poly_model.predict(xfit[:, np.newaxis])\n",
    "\n",
    "plt.figure(figsize=(8,6))\n",
    "plt.scatter(x, y)\n",
    "plt.plot(xfit, yfit)\n",
    "\n",
    "plt.xlabel(\"X\")\n",
    "plt.ylabel(\"Y\")\n",
    "plt.title(\"Sin Function\")"
   ]
  },
  {
   "cell_type": "markdown",
   "metadata": {},
   "source": [
    "Fungsi basis polinomial orde ke-7 dapat memberikan kecocokan yang sangat baik untuk data non-linier ini.\n",
    "\n",
    "Ada banyak keuntungan menggunakan *Polynomial Regression*:\n",
    "- Berbagai fungsi dapat disesuaikan dengan model\n",
    "- Fungsi polinomial cocok untuk berbagai kelengkungan\n",
    "- Memberikan pendekatan yang baik dari hubungan dan membuat transformasi lebih dapat ditafsirkan."
   ]
  },
  {
   "cell_type": "markdown",
   "metadata": {},
   "source": [
    "# Overfitting\n",
    "Overfitting terjadi ketika model kita mengikuti tren set data pelatihan dengan sangat ketat yaitu memberikan kesalahan pelatihan yang rendah, tetapi mungkin tidak bekerja dengan baik pada kumpulan data umum atau pengujian yaitu dapat memberikan kesalahan generalisasi yang tinggi pada set data pengujian.\n",
    "\n",
    "<center><img src=\"https://vatsalparsaniya.github.io/ML_Knowledge/_images/example.png\" width=650><br/></center>\n",
    "\n",
    "Baca selanjutnya: https://vatsalparsaniya.github.io/ML_Knowledge/Underfitting%20Overfitting/README.html"
   ]
  },
  {
   "cell_type": "markdown",
   "metadata": {},
   "source": [
    "# Konsep Regularization\n",
    "Teknik regularisasi digunakan untuk mengurangi kesalahan dengan memasang fungsi secara tepat pada set pelatihan yang diberikan untuk menghindari overfitting. \n",
    "\n",
    "Mari kita membangun intuisi dengan bantuan sebuah contoh sederhana:\n",
    "- Katakanlah orang tua sangat berhati-hati dengan masa depan anak-anaknya. \n",
    "- Dia ingin mereka sukses dalam hidup mereka tanpa ada aturan yang ketat. \n",
    "\n",
    "Dia mengambil keputusan tentang seberapa banyak fleksibilitas yang harus diberikan kepada anak-anaknya selama mereka dibesarkan:  \n",
    "- Namun, terlalu banyak pembatasan dapat menekan perkembangan karakter mereka; \n",
    "- Sedangkan terlalu banyak fleksibilitas dapat merusak mereka. \n",
    "- Dia memutuskan untuk mengatasi situasi ini dengan ide fleksibilitas regularized (pengaturan), yaitu memberikan fleksibilitas yang cukup ditambah dengan beberapa batasan.\n",
    "\n",
    "Perilaku overfitting terjadi ketika fungsi dasar tumpang tindih:\n",
    "- Koefisien fungsi basis yang berdekatan bertambah besar dan saling meniadakan.\n",
    "- Kita perlu membatasi lonjakan tersebut secara eksplisit dalam model dengan menghukum nilai besar dari parameter model. Hukuman seperti itu dikenal sebagai regularisasi.\n",
    "\n",
    "Regularisasi dapat dilakukan melalui:\n",
    "- L1 (juga disebut sebagai Lasso Penalization/Regression)\n",
    "- L2 (juga disebut sebagai Ridge Penalization/Regression)"
   ]
  },
  {
   "cell_type": "markdown",
   "metadata": {},
   "source": [
    "## L1 Regularization (Lasso)\n",
    "Melibatkan jumlah nilai absolut (1-norma) dari koefisien regresi. Di sini Penalty $(P)$ pada model adalah:\n",
    "\n",
    "$$ P=\\alpha\\sum_{i=1}^{n}\\left | \\theta_{n} \\right | $$\n",
    "\n",
    "Dan cost function-nya adalah:\n",
    "\n",
    "$$ J(\\theta)=\\frac{1}{2m}\\sum_{i=1}^{m}(h_{\\theta}x^{(i)}-y^{(i)})^2 + \\alpha\\sum_{n=1}^{N}\\left | \\theta_{n} \\right | $$\n",
    "\n",
    "- Di sini kita telah mengenal cost function.\n",
    "- Dengan menambahkan semua $\\theta$ ke cost function yang ingin kita minimalkan, kita dapat menambahkan batasan lebih lanjut pada parameter ini. Perhatikan bagaimana $\\theta_{0}$ tidak ada dalam rumus untuk $P$ karena batasannya dimulai dari $i=1$ hingga $i=n$, karena kita tidak menghukum intercept."
   ]
  },
  {
   "cell_type": "markdown",
   "metadata": {},
   "source": [
    "### Implementasi L1\n",
    "Parameter di Lasso mengatur kekuatan penalti dan harus ditentukan melalui cross-validation."
   ]
  },
  {
   "cell_type": "code",
   "execution_count": 6,
   "metadata": {},
   "outputs": [
    {
     "data": {
      "text/html": [
       "<div>\n",
       "<style scoped>\n",
       "    .dataframe tbody tr th:only-of-type {\n",
       "        vertical-align: middle;\n",
       "    }\n",
       "\n",
       "    .dataframe tbody tr th {\n",
       "        vertical-align: top;\n",
       "    }\n",
       "\n",
       "    .dataframe thead th {\n",
       "        text-align: right;\n",
       "    }\n",
       "</style>\n",
       "<table border=\"1\" class=\"dataframe\">\n",
       "  <thead>\n",
       "    <tr style=\"text-align: right;\">\n",
       "      <th></th>\n",
       "      <th>LotFrontage</th>\n",
       "      <th>LotArea</th>\n",
       "      <th>OverallQual</th>\n",
       "      <th>OverallCond</th>\n",
       "      <th>YearBuilt</th>\n",
       "      <th>YearRemodAdd</th>\n",
       "      <th>MasVnrArea</th>\n",
       "      <th>BsmtFinSF1</th>\n",
       "      <th>BsmtFinSF2</th>\n",
       "      <th>BsmtUnfSF</th>\n",
       "      <th>...</th>\n",
       "      <th>GarageArea</th>\n",
       "      <th>WoodDeckSF</th>\n",
       "      <th>OpenPorchSF</th>\n",
       "      <th>EnclosedPorch</th>\n",
       "      <th>3SsnPorch</th>\n",
       "      <th>ScreenPorch</th>\n",
       "      <th>PoolArea</th>\n",
       "      <th>MiscVal</th>\n",
       "      <th>YrSold</th>\n",
       "      <th>SalePrice</th>\n",
       "    </tr>\n",
       "  </thead>\n",
       "  <tbody>\n",
       "    <tr>\n",
       "      <th>0</th>\n",
       "      <td>65.0</td>\n",
       "      <td>8450</td>\n",
       "      <td>7</td>\n",
       "      <td>5</td>\n",
       "      <td>2003</td>\n",
       "      <td>2003</td>\n",
       "      <td>196.0</td>\n",
       "      <td>706</td>\n",
       "      <td>0</td>\n",
       "      <td>150</td>\n",
       "      <td>...</td>\n",
       "      <td>548</td>\n",
       "      <td>0</td>\n",
       "      <td>61</td>\n",
       "      <td>0</td>\n",
       "      <td>0</td>\n",
       "      <td>0</td>\n",
       "      <td>0</td>\n",
       "      <td>0</td>\n",
       "      <td>2008</td>\n",
       "      <td>208500</td>\n",
       "    </tr>\n",
       "    <tr>\n",
       "      <th>1</th>\n",
       "      <td>80.0</td>\n",
       "      <td>9600</td>\n",
       "      <td>6</td>\n",
       "      <td>8</td>\n",
       "      <td>1976</td>\n",
       "      <td>1976</td>\n",
       "      <td>0.0</td>\n",
       "      <td>978</td>\n",
       "      <td>0</td>\n",
       "      <td>284</td>\n",
       "      <td>...</td>\n",
       "      <td>460</td>\n",
       "      <td>298</td>\n",
       "      <td>0</td>\n",
       "      <td>0</td>\n",
       "      <td>0</td>\n",
       "      <td>0</td>\n",
       "      <td>0</td>\n",
       "      <td>0</td>\n",
       "      <td>2007</td>\n",
       "      <td>181500</td>\n",
       "    </tr>\n",
       "    <tr>\n",
       "      <th>2</th>\n",
       "      <td>68.0</td>\n",
       "      <td>11250</td>\n",
       "      <td>7</td>\n",
       "      <td>5</td>\n",
       "      <td>2001</td>\n",
       "      <td>2002</td>\n",
       "      <td>162.0</td>\n",
       "      <td>486</td>\n",
       "      <td>0</td>\n",
       "      <td>434</td>\n",
       "      <td>...</td>\n",
       "      <td>608</td>\n",
       "      <td>0</td>\n",
       "      <td>42</td>\n",
       "      <td>0</td>\n",
       "      <td>0</td>\n",
       "      <td>0</td>\n",
       "      <td>0</td>\n",
       "      <td>0</td>\n",
       "      <td>2008</td>\n",
       "      <td>223500</td>\n",
       "    </tr>\n",
       "    <tr>\n",
       "      <th>3</th>\n",
       "      <td>60.0</td>\n",
       "      <td>9550</td>\n",
       "      <td>7</td>\n",
       "      <td>5</td>\n",
       "      <td>1915</td>\n",
       "      <td>1970</td>\n",
       "      <td>0.0</td>\n",
       "      <td>216</td>\n",
       "      <td>0</td>\n",
       "      <td>540</td>\n",
       "      <td>...</td>\n",
       "      <td>642</td>\n",
       "      <td>0</td>\n",
       "      <td>35</td>\n",
       "      <td>272</td>\n",
       "      <td>0</td>\n",
       "      <td>0</td>\n",
       "      <td>0</td>\n",
       "      <td>0</td>\n",
       "      <td>2006</td>\n",
       "      <td>140000</td>\n",
       "    </tr>\n",
       "    <tr>\n",
       "      <th>4</th>\n",
       "      <td>84.0</td>\n",
       "      <td>14260</td>\n",
       "      <td>8</td>\n",
       "      <td>5</td>\n",
       "      <td>2000</td>\n",
       "      <td>2000</td>\n",
       "      <td>350.0</td>\n",
       "      <td>655</td>\n",
       "      <td>0</td>\n",
       "      <td>490</td>\n",
       "      <td>...</td>\n",
       "      <td>836</td>\n",
       "      <td>192</td>\n",
       "      <td>84</td>\n",
       "      <td>0</td>\n",
       "      <td>0</td>\n",
       "      <td>0</td>\n",
       "      <td>0</td>\n",
       "      <td>0</td>\n",
       "      <td>2008</td>\n",
       "      <td>250000</td>\n",
       "    </tr>\n",
       "  </tbody>\n",
       "</table>\n",
       "<p>5 rows × 35 columns</p>\n",
       "</div>"
      ],
      "text/plain": [
       "   LotFrontage  LotArea  OverallQual  OverallCond  YearBuilt  YearRemodAdd  \\\n",
       "0         65.0     8450            7            5       2003          2003   \n",
       "1         80.0     9600            6            8       1976          1976   \n",
       "2         68.0    11250            7            5       2001          2002   \n",
       "3         60.0     9550            7            5       1915          1970   \n",
       "4         84.0    14260            8            5       2000          2000   \n",
       "\n",
       "   MasVnrArea  BsmtFinSF1  BsmtFinSF2  BsmtUnfSF  ...  GarageArea  WoodDeckSF  \\\n",
       "0       196.0         706           0        150  ...         548           0   \n",
       "1         0.0         978           0        284  ...         460         298   \n",
       "2       162.0         486           0        434  ...         608           0   \n",
       "3         0.0         216           0        540  ...         642           0   \n",
       "4       350.0         655           0        490  ...         836         192   \n",
       "\n",
       "   OpenPorchSF  EnclosedPorch  3SsnPorch  ScreenPorch  PoolArea  MiscVal  \\\n",
       "0           61              0          0            0         0        0   \n",
       "1            0              0          0            0         0        0   \n",
       "2           42              0          0            0         0        0   \n",
       "3           35            272          0            0         0        0   \n",
       "4           84              0          0            0         0        0   \n",
       "\n",
       "   YrSold  SalePrice  \n",
       "0    2008     208500  \n",
       "1    2007     181500  \n",
       "2    2008     223500  \n",
       "3    2006     140000  \n",
       "4    2008     250000  \n",
       "\n",
       "[5 rows x 35 columns]"
      ]
     },
     "execution_count": 6,
     "metadata": {},
     "output_type": "execute_result"
    }
   ],
   "source": [
    "df = pd.read_csv('house_prices_multivariate.csv')\n",
    "df.head()"
   ]
  },
  {
   "cell_type": "code",
   "execution_count": 7,
   "metadata": {},
   "outputs": [],
   "source": [
    "from sklearn.model_selection import train_test_split\n",
    "\n",
    "X = df.iloc[:,:-1]\n",
    "y = df['SalePrice']\n",
    "\n",
    "# Membagi data ke dua set dengan 50% di setiap set (set latih dan set uji)\n",
    "X_train, X_test, y_train, y_test = train_test_split(X, y, random_state=9, train_size=0.5)"
   ]
  },
  {
   "cell_type": "code",
   "execution_count": 8,
   "metadata": {},
   "outputs": [
    {
     "name": "stdout",
     "output_type": "stream",
     "text": [
      "MSE:  1495556945.8879895\n",
      "R2:  0.768928290354447\n"
     ]
    }
   ],
   "source": [
    "from sklearn.linear_model import LinearRegression, Lasso\n",
    "from sklearn.metrics import mean_squared_error, r2_score\n",
    "\n",
    "lasso_model=Lasso(alpha=140, max_iter=100000, random_state=9)\n",
    "\n",
    "lasso_model.fit(X_train, y_train)\n",
    "\n",
    "y_pred = lasso_model.predict(X_test)\n",
    "\n",
    "print('MSE: ', mean_squared_error(y_test, y_pred))\n",
    "print('R2: ', r2_score(y_test, y_pred))"
   ]
  },
  {
   "cell_type": "markdown",
   "metadata": {},
   "source": [
    "## L2 Regularization (Ridge)\n",
    "L2 menghukum jumlah kuadrat (2-norma) dari koefisien model. Di sini Penalty $(P)$ pada model adalah:\n",
    "\n",
    "$$ P=\\alpha\\sum_{i=1}^{n}\\theta_{n}^{2}  $$\n",
    "\n",
    "Dan cost function-nya adalah:\n",
    "\n",
    "$$ J(\\theta)=\\frac{1}{2m}\\sum_{i=1}^{m}(h_{\\theta}x^{(i)}-y^{(i)})^2 + \\alpha\\sum_{n=1}^{N} \\theta_{n}^{2} $$\n",
    "\n",
    "- Regularisasi L2 akan memaksa parameter menjadi relatif kecil, semakin besar penalti, semakin kecil (dan semakin kuat untuk overfitting) koefisiennya.\n",
    "- Di sini kita mempertimbangkan setiap fitur tetapi kita menghukum koefisien berdasarkan seberapa signifikan fitur tersebut.\n",
    "\n",
    "Di sini, $α$ adalah hyper-parameter yang mengontrol kekuatan penalti. Parameter $α$ mengontrol kompleksitas model yang dihasilkan.\n",
    "- Dalam batas $α→0$, kita memulihkan hasil regresi linier standar.\n",
    "- Pada limit $α→∞$ , semua respon model akan diredam.\n",
    "\n",
    "Regularisasi L2 dapat dihitung dengan sangat efisien dengan biaya komputasi yang hampir tidak ada daripada model regresi linier asli."
   ]
  },
  {
   "cell_type": "markdown",
   "metadata": {},
   "source": [
    "### Implementasi L2"
   ]
  },
  {
   "cell_type": "code",
   "execution_count": 9,
   "metadata": {},
   "outputs": [
    {
     "name": "stdout",
     "output_type": "stream",
     "text": [
      "MSE:  1530184180.0177402\n",
      "R2:  0.7635781937147583\n"
     ]
    }
   ],
   "source": [
    "from sklearn.linear_model import LinearRegression, Ridge\n",
    "from sklearn.metrics import mean_squared_error, r2_score\n",
    "\n",
    "ridge_model=Ridge(alpha=140, max_iter=100000, random_state=9)\n",
    "\n",
    "ridge_model.fit(X_train, y_train)\n",
    "\n",
    "y_pred = ridge_model.predict(X_test)\n",
    "\n",
    "print('MSE: ', mean_squared_error(y_test, y_pred))\n",
    "print('R2: ', r2_score(y_test, y_pred))"
   ]
  },
  {
   "cell_type": "markdown",
   "metadata": {},
   "source": [
    "## L1 vs L2 Regularization\n",
    "\n",
    "<center><img src=\"https://miro.medium.com/max/700/0*tATGj-F5jlQU80GE.png\" width=650><br/></center>\n",
    "\n",
    "Baca selanjutnya: https://towardsdatascience.com/l1-and-l2-regularization-explained-874c3b03f668"
   ]
  },
  {
   "cell_type": "markdown",
   "metadata": {},
   "source": [
    "# Kesimpulan: Ridge or Lasso?\n",
    "Katakanlah kita memiliki kumpulan data besar yang memiliki 10.000 fitur. Dan beberapa fitur independen berkorelasi dengan fitur independen lainnya.\n",
    "\n",
    "Mana yang lebih cocok, Rigde atau Lasso?\n",
    "- Jika kita menerapkan **Ridge (L2)**, semua fitur akan dipertahankan tetapi **menyusutkan koefisien**. Namun masalahnya adalah model itu akan tetap kompleks karena ada 10.000 fitur, sehingga dapat menyebabkan kinerja model yang buruk.\n",
    "- Jika kita menerapkan **Lasso (L1)**, masalah utamanya adalah ketika kita memiliki variabel yang berkorelasi, itu akan mempertahankan hanya satu variabel dan menetapkan variabel lain yang berkorelasi ke nol. Itu mungkin akan menyebabkan hilangnya beberapa informasi yang mengakibatkan akurasi yang lebih rendah pada model kita."
   ]
  },
  {
   "cell_type": "markdown",
   "metadata": {},
   "source": []
  }
 ],
 "metadata": {
  "interpreter": {
   "hash": "b3ba2566441a7c06988d0923437866b63cedc61552a5af99d1f4fb67d367b25f"
  },
  "kernelspec": {
   "display_name": "Python 3.8.8 ('base')",
   "language": "python",
   "name": "python3"
  },
  "language_info": {
   "codemirror_mode": {
    "name": "ipython",
    "version": 3
   },
   "file_extension": ".py",
   "mimetype": "text/x-python",
   "name": "python",
   "nbconvert_exporter": "python",
   "pygments_lexer": "ipython3",
   "version": "3.8.8"
  },
  "orig_nbformat": 4
 },
 "nbformat": 4,
 "nbformat_minor": 2
}
