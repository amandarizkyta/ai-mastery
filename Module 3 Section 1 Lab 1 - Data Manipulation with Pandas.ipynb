{
 "cells": [
  {
   "cell_type": "markdown",
   "metadata": {
    "id": "LiA9rDkvZNLO",
    "slideshow": {
     "slide_type": "slide"
    }
   },
   "source": [
    "# Module 3 Section 1 Lab 1 - Data Manipulation with Pandas"
   ]
  },
  {
   "cell_type": "markdown",
   "metadata": {
    "id": "jqgJWw3zWnAp",
    "slideshow": {
     "slide_type": "subslide"
    }
   },
   "source": [
    "# Learning Objective\n",
    "\n",
    "1. Pandas Introduction: Series & DataFrame\n",
    "2. Basic Properties\n",
    "3. Selection & Filtering\n",
    "4. Data Aggregation\n",
    "5. Descriptive Statistical Analysis\n",
    "6. Transformasi Data - Menggunakan Map()\n",
    "7. Transformasi Data - Replacing Values\n",
    "8. Transformasi Data - Discretization & Binning\n",
    "9. Joining DataFrame\n",
    "3. Importing Files - Excel Sheets, CSV"
   ]
  },
  {
   "cell_type": "markdown",
   "metadata": {
    "id": "xNlQ-XVpkoeE",
    "slideshow": {
     "slide_type": "slide"
    }
   },
   "source": [
    "# Pandas Series And DataFrame\n",
    "\n",
    "Pandas adalah paket Python yang menyediakan struktur data yang cepat, fleksibel, dan ekspresif yang dirancang untuk bekerja dengan data \"relasional\" atau \"berlabel\" menjadi mudah dan intuitif.\n",
    "\n",
    "Pandas adalah tools yang sangat cocok untuk analisis dan pemodelan data.\n",
    "\n",
    "Dua struktur Pandas adalah **Series** dan **DataFrame**."
   ]
  },
  {
   "cell_type": "markdown",
   "metadata": {
    "id": "_ZOuH1fEzqj2",
    "slideshow": {
     "slide_type": "slide"
    }
   },
   "source": [
    "## Pandas Series"
   ]
  },
  {
   "cell_type": "markdown",
   "metadata": {
    "id": "1wlCsD392_ll",
    "slideshow": {
     "slide_type": "subslide"
    }
   },
   "source": [
    "Pandas Series adalah array berlabel satu dimensi yang mampu menampung data jenis apa pun (int, string, float, objek, dll). Axis labels disebut indeks.\n",
    "\n",
    "Pada kode di bawah ini, kita akan membuat array sederhana menggunakan numpy lalu dikonversi ke pandas Series."
   ]
  },
  {
   "cell_type": "code",
   "execution_count": 1,
   "metadata": {
    "colab": {
     "base_uri": "https://localhost:8080/"
    },
    "id": "FTU7-V8ykaXL",
    "outputId": "61aa8c72-27f3-4fc3-e418-26d77c4fe67e",
    "slideshow": {
     "slide_type": "-"
    }
   },
   "outputs": [],
   "source": [
    "# import library\n",
    "import numpy as np   \n",
    "import pandas as pd\n",
    "\n",
    "x = np.array(['a','b','c'])\n",
    "\n",
    "df = pd.Series(x)"
   ]
  },
  {
   "cell_type": "code",
   "execution_count": 2,
   "metadata": {
    "slideshow": {
     "slide_type": "fragment"
    }
   },
   "outputs": [
    {
     "data": {
      "text/plain": [
       "numpy.ndarray"
      ]
     },
     "execution_count": 2,
     "metadata": {},
     "output_type": "execute_result"
    }
   ],
   "source": [
    "type(x)"
   ]
  },
  {
   "cell_type": "code",
   "execution_count": 3,
   "metadata": {
    "slideshow": {
     "slide_type": "fragment"
    }
   },
   "outputs": [
    {
     "data": {
      "text/plain": [
       "pandas.core.series.Series"
      ]
     },
     "execution_count": 3,
     "metadata": {},
     "output_type": "execute_result"
    }
   ],
   "source": [
    "type(df)"
   ]
  },
  {
   "cell_type": "code",
   "execution_count": 5,
   "metadata": {
    "slideshow": {
     "slide_type": "fragment"
    }
   },
   "outputs": [
    {
     "data": {
      "text/plain": [
       "0    a\n",
       "1    b\n",
       "2    c\n",
       "dtype: object"
      ]
     },
     "execution_count": 5,
     "metadata": {},
     "output_type": "execute_result"
    }
   ],
   "source": [
    "df"
   ]
  },
  {
   "cell_type": "markdown",
   "metadata": {
    "id": "WNiBCQcr0Kts",
    "slideshow": {
     "slide_type": "fragment"
    }
   },
   "source": [
    "Kita dapat mengubah indeks menggunakan atribut `index`"
   ]
  },
  {
   "cell_type": "code",
   "execution_count": 9,
   "metadata": {
    "colab": {
     "base_uri": "https://localhost:8080/"
    },
    "id": "lKl6e7vtnOz9",
    "outputId": "4d718c85-eb2c-4073-d179-e5b5bdba7873",
    "scrolled": false,
    "slideshow": {
     "slide_type": "-"
    }
   },
   "outputs": [
    {
     "data": {
      "text/plain": [
       "a    1\n",
       "b    2\n",
       "c    3\n",
       "dtype: int64"
      ]
     },
     "execution_count": 9,
     "metadata": {},
     "output_type": "execute_result"
    }
   ],
   "source": [
    "ser = pd.Series([1,2,3], index=['a','b','c'])\n",
    "\n",
    "ser"
   ]
  },
  {
   "cell_type": "markdown",
   "metadata": {
    "slideshow": {
     "slide_type": "fragment"
    }
   },
   "source": [
    "Mengambil / mengakses elemen menggunakan indeks"
   ]
  },
  {
   "cell_type": "code",
   "execution_count": 10,
   "metadata": {
    "colab": {
     "base_uri": "https://localhost:8080/"
    },
    "id": "pd-Ts47fpjyU",
    "outputId": "ac9b006d-0f11-4ead-95cf-0c8e9764d301",
    "slideshow": {
     "slide_type": "-"
    }
   },
   "outputs": [
    {
     "name": "stdout",
     "output_type": "stream",
     "text": [
      "3\n"
     ]
    }
   ],
   "source": [
    "print(ser['c'])    "
   ]
  },
  {
   "cell_type": "markdown",
   "metadata": {
    "id": "DZrKqUNw0QfY",
    "slideshow": {
     "slide_type": "slide"
    }
   },
   "source": [
    "## Pandas DataFrame"
   ]
  },
  {
   "cell_type": "markdown",
   "metadata": {
    "id": "e5L7lhwE0bP6",
    "slideshow": {
     "slide_type": "subslide"
    }
   },
   "source": [
    "DataFrame adalah struktur data dua dimensi, yaitu data disejajarkan dalam mode tabular dalam baris dan kolom."
   ]
  },
  {
   "cell_type": "code",
   "execution_count": 11,
   "metadata": {
    "colab": {
     "base_uri": "https://localhost:8080/"
    },
    "id": "7HBIraeKphuv",
    "outputId": "795c651d-5aa4-4ef7-ae30-2d83e76c7ca0",
    "slideshow": {
     "slide_type": "fragment"
    }
   },
   "outputs": [
    {
     "data": {
      "text/plain": [
       "dict"
      ]
     },
     "execution_count": 11,
     "metadata": {},
     "output_type": "execute_result"
    }
   ],
   "source": [
    "# buat dictionary\n",
    "data = {\n",
    "    'name': ['Molly','Nur','Indar','Adit'],\n",
    "    'year': [2012, 2014, 2015, 2012],\n",
    "    'score': [8, 12, 25, 7]\n",
    "       }\n",
    "\n",
    "type(data) "
   ]
  },
  {
   "cell_type": "code",
   "execution_count": 12,
   "metadata": {
    "scrolled": true,
    "slideshow": {
     "slide_type": "fragment"
    }
   },
   "outputs": [
    {
     "name": "stdout",
     "output_type": "stream",
     "text": [
      "    name  year  score\n",
      "0  Molly  2012      8\n",
      "1    Nur  2014     12\n",
      "2  Indar  2015     25\n",
      "3   Adit  2012      7\n"
     ]
    }
   ],
   "source": [
    "# ubah dict menjadi dataframe\n",
    "df = pd.DataFrame(data)\n",
    "\n",
    "print(df)"
   ]
  },
  {
   "cell_type": "code",
   "execution_count": 13,
   "metadata": {
    "slideshow": {
     "slide_type": "fragment"
    }
   },
   "outputs": [
    {
     "name": "stdout",
     "output_type": "stream",
     "text": [
      "    name  year  score\n",
      "a  Molly  2012      8\n",
      "b    Nur  2014     12\n",
      "c  Indar  2015     25\n",
      "d   Adit  2012      7\n"
     ]
    }
   ],
   "source": [
    "df_2 = pd.DataFrame(data, index=['a','b','c','d'])\n",
    "\n",
    "print(df_2)"
   ]
  },
  {
   "cell_type": "code",
   "execution_count": 15,
   "metadata": {
    "slideshow": {
     "slide_type": "fragment"
    }
   },
   "outputs": [
    {
     "data": {
      "text/plain": [
       "pandas.core.frame.DataFrame"
      ]
     },
     "execution_count": 15,
     "metadata": {},
     "output_type": "execute_result"
    }
   ],
   "source": [
    "type(df_2)"
   ]
  },
  {
   "cell_type": "markdown",
   "metadata": {
    "id": "XenTLo2r0f-K",
    "slideshow": {
     "slide_type": "subslide"
    }
   },
   "source": [
    "Pandas menggunakan metode `loc()` dan `iloc()` untuk manipulasi data.\n",
    "\n",
    "`loc()` adalah metode pemilihan data berbasis label yang artinya kita harus memberikan nama baris atau kolom yang ingin kita pilih. Sedangkan, `iloc()` adalah metode pemilihan data berbasis indeks yang berarti bahwa kita harus memberikan indeks bilangan untuk memilih baris atau kolom tertentu."
   ]
  },
  {
   "cell_type": "code",
   "execution_count": 17,
   "metadata": {
    "colab": {
     "base_uri": "https://localhost:8080/"
    },
    "id": "a_S5cgPNwPLT",
    "outputId": "df96485e-a44d-4c09-dbb2-7cd12afd66ef",
    "slideshow": {
     "slide_type": "-"
    }
   },
   "outputs": [
    {
     "name": "stdout",
     "output_type": "stream",
     "text": [
      "name     Molly\n",
      "year      2012\n",
      "score        8\n",
      "Name: a, dtype: object\n"
     ]
    }
   ],
   "source": [
    "print(df_2.loc['a'])"
   ]
  },
  {
   "cell_type": "code",
   "execution_count": 19,
   "metadata": {
    "slideshow": {
     "slide_type": "-"
    }
   },
   "outputs": [
    {
     "name": "stdout",
     "output_type": "stream",
     "text": [
      "name     Molly\n",
      "year      2012\n",
      "score        8\n",
      "Name: a, dtype: object\n"
     ]
    }
   ],
   "source": [
    "print(df_2.iloc[0])"
   ]
  },
  {
   "cell_type": "markdown",
   "metadata": {
    "id": "ktBEG-8mktyx",
    "slideshow": {
     "slide_type": "slide"
    }
   },
   "source": [
    "# Pandas: DataFrame Basic Properties"
   ]
  },
  {
   "cell_type": "markdown",
   "metadata": {
    "id": "mTB5QqKq0qT9",
    "slideshow": {
     "slide_type": "subslide"
    }
   },
   "source": [
    "Kita akan mengonversi list sederhana menjadi pandas DataFrame."
   ]
  },
  {
   "cell_type": "code",
   "execution_count": 20,
   "metadata": {
    "colab": {
     "base_uri": "https://localhost:8080/"
    },
    "id": "WaaRGXyPk3Rg",
    "outputId": "25bba946-4bad-479b-870f-6bca09b155d1",
    "slideshow": {
     "slide_type": "-"
    }
   },
   "outputs": [
    {
     "name": "stdout",
     "output_type": "stream",
     "text": [
      "        0\n",
      "0   Tokyo\n",
      "1  Denver\n",
      "2     Rio\n",
      "3  Berlin\n"
     ]
    }
   ],
   "source": [
    "import pandas as pd\n",
    "\n",
    "# buat list sederhana\n",
    "lst = ['Tokyo', 'Denver', 'Rio', 'Berlin']\n",
    "\n",
    "# convert list ke dataframe\n",
    "df = pd.DataFrame(lst)\n",
    "\n",
    "print(df)"
   ]
  },
  {
   "cell_type": "markdown",
   "metadata": {
    "id": "SEUgdxe30yHD",
    "slideshow": {
     "slide_type": "fragment"
    }
   },
   "source": [
    "Di sini, kita akan mengonversi dict ke pandas Dataframe."
   ]
  },
  {
   "cell_type": "code",
   "execution_count": 21,
   "metadata": {
    "colab": {
     "base_uri": "https://localhost:8080/"
    },
    "id": "6kBiqWzm7qQv",
    "outputId": "e1e13756-823a-4764-ad4a-f564bae78138",
    "slideshow": {
     "slide_type": "-"
    }
   },
   "outputs": [
    {
     "name": "stdout",
     "output_type": "stream",
     "text": [
      "     Name  Age\n",
      "0   Tokyo   20\n",
      "1  Denver   22\n",
      "2     Rio   21\n",
      "3  Berlin   25\n"
     ]
    }
   ],
   "source": [
    "import pandas as pd\n",
    " \n",
    "data = {\n",
    "    'Name':['Tokyo', 'Denver', 'Rio', 'Berlin'],\n",
    "    'Age':[20, 22, 21, 25]\n",
    "        }\n",
    " \n",
    "df = pd.DataFrame(data)\n",
    " \n",
    "print(df)"
   ]
  },
  {
   "cell_type": "markdown",
   "metadata": {
    "slideshow": {
     "slide_type": "slide"
    }
   },
   "source": [
    "# Pandas: Selection & Filtering"
   ]
  },
  {
   "cell_type": "code",
   "execution_count": 26,
   "metadata": {
    "colab": {
     "base_uri": "https://localhost:8080/"
    },
    "id": "d00Lvan38NpS",
    "outputId": "e958f870-838a-4ba3-abd5-04302e338ae5",
    "slideshow": {
     "slide_type": "subslide"
    }
   },
   "outputs": [
    {
     "name": "stdout",
     "output_type": "stream",
     "text": [
      "                     Name  Age   Address Qualification  Score    Team\n",
      "0  Kuncahyo Setyo Nugroho   27   Jakarta           Msc     80  Team A\n",
      "1          Agusta Chandra   22   Bandung           BSc     45  Team B\n",
      "2             Anas Amirul   22     Medan           Mcs     73  Team A\n",
      "3      Edwin Gama Pradana   30  Surabaya           Phd     92  Team C\n",
      "4           Eko Triatmojo   26  Surabaya           Msc     26  Team A\n",
      "5            Ismail Akbar   24    Malang           Phd     80  Team A\n",
      "6           Irfan Rosyidi   40   Jakarta           Mcs     35  Team C \n",
      "\n",
      "\n"
     ]
    }
   ],
   "source": [
    "import pandas as pd\n",
    "\n",
    "data = {\n",
    "    'Name':['Kuncahyo Setyo Nugroho', 'Agusta Chandra', 'Anas Amirul', 'Edwin Gama Pradana', 'Eko Triatmojo', 'Ismail Akbar', 'Irfan Rosyidi'],\n",
    "    'Age':[27, 22, 22, 30, 26, 24, 40],\n",
    "    'Address':['Jakarta', 'Bandung', 'Medan', 'Surabaya', 'Surabaya', 'Malang', 'Jakarta'],\n",
    "    'Qualification':['Msc', 'BSc', 'Mcs', 'Phd', 'Msc', 'Phd', 'Mcs'],\n",
    "    'Score':[80, 45, 73, 92, 26, 80, 35],\n",
    "    'Team':['Team A', 'Team B', 'Team A', 'Team C', 'Team A', 'Team A', 'Team C']\n",
    "        }\n",
    " \n",
    "df = pd.DataFrame(data)\n",
    "print(df, '\\n\\n')"
   ]
  },
  {
   "cell_type": "code",
   "execution_count": 27,
   "metadata": {},
   "outputs": [
    {
     "data": {
      "text/html": [
       "<div>\n",
       "<style scoped>\n",
       "    .dataframe tbody tr th:only-of-type {\n",
       "        vertical-align: middle;\n",
       "    }\n",
       "\n",
       "    .dataframe tbody tr th {\n",
       "        vertical-align: top;\n",
       "    }\n",
       "\n",
       "    .dataframe thead th {\n",
       "        text-align: right;\n",
       "    }\n",
       "</style>\n",
       "<table border=\"1\" class=\"dataframe\">\n",
       "  <thead>\n",
       "    <tr style=\"text-align: right;\">\n",
       "      <th></th>\n",
       "      <th>Name</th>\n",
       "      <th>Age</th>\n",
       "      <th>Address</th>\n",
       "      <th>Qualification</th>\n",
       "      <th>Score</th>\n",
       "      <th>Team</th>\n",
       "    </tr>\n",
       "  </thead>\n",
       "  <tbody>\n",
       "    <tr>\n",
       "      <th>0</th>\n",
       "      <td>Kuncahyo Setyo Nugroho</td>\n",
       "      <td>27</td>\n",
       "      <td>Jakarta</td>\n",
       "      <td>Msc</td>\n",
       "      <td>80</td>\n",
       "      <td>Team A</td>\n",
       "    </tr>\n",
       "    <tr>\n",
       "      <th>1</th>\n",
       "      <td>Agusta Chandra</td>\n",
       "      <td>22</td>\n",
       "      <td>Bandung</td>\n",
       "      <td>BSc</td>\n",
       "      <td>45</td>\n",
       "      <td>Team B</td>\n",
       "    </tr>\n",
       "    <tr>\n",
       "      <th>2</th>\n",
       "      <td>Anas Amirul</td>\n",
       "      <td>22</td>\n",
       "      <td>Medan</td>\n",
       "      <td>Mcs</td>\n",
       "      <td>73</td>\n",
       "      <td>Team A</td>\n",
       "    </tr>\n",
       "    <tr>\n",
       "      <th>3</th>\n",
       "      <td>Edwin Gama Pradana</td>\n",
       "      <td>30</td>\n",
       "      <td>Surabaya</td>\n",
       "      <td>Phd</td>\n",
       "      <td>92</td>\n",
       "      <td>Team C</td>\n",
       "    </tr>\n",
       "    <tr>\n",
       "      <th>4</th>\n",
       "      <td>Eko Triatmojo</td>\n",
       "      <td>26</td>\n",
       "      <td>Surabaya</td>\n",
       "      <td>Msc</td>\n",
       "      <td>26</td>\n",
       "      <td>Team A</td>\n",
       "    </tr>\n",
       "    <tr>\n",
       "      <th>5</th>\n",
       "      <td>Ismail Akbar</td>\n",
       "      <td>24</td>\n",
       "      <td>Malang</td>\n",
       "      <td>Phd</td>\n",
       "      <td>80</td>\n",
       "      <td>Team A</td>\n",
       "    </tr>\n",
       "    <tr>\n",
       "      <th>6</th>\n",
       "      <td>Irfan Rosyidi</td>\n",
       "      <td>40</td>\n",
       "      <td>Jakarta</td>\n",
       "      <td>Mcs</td>\n",
       "      <td>35</td>\n",
       "      <td>Team C</td>\n",
       "    </tr>\n",
       "  </tbody>\n",
       "</table>\n",
       "</div>"
      ],
      "text/plain": [
       "                     Name  Age   Address Qualification  Score    Team\n",
       "0  Kuncahyo Setyo Nugroho   27   Jakarta           Msc     80  Team A\n",
       "1          Agusta Chandra   22   Bandung           BSc     45  Team B\n",
       "2             Anas Amirul   22     Medan           Mcs     73  Team A\n",
       "3      Edwin Gama Pradana   30  Surabaya           Phd     92  Team C\n",
       "4           Eko Triatmojo   26  Surabaya           Msc     26  Team A\n",
       "5            Ismail Akbar   24    Malang           Phd     80  Team A\n",
       "6           Irfan Rosyidi   40   Jakarta           Mcs     35  Team C"
      ]
     },
     "execution_count": 27,
     "metadata": {},
     "output_type": "execute_result"
    }
   ],
   "source": [
    "df"
   ]
  },
  {
   "cell_type": "code",
   "execution_count": 28,
   "metadata": {},
   "outputs": [
    {
     "data": {
      "text/html": [
       "<div>\n",
       "<style scoped>\n",
       "    .dataframe tbody tr th:only-of-type {\n",
       "        vertical-align: middle;\n",
       "    }\n",
       "\n",
       "    .dataframe tbody tr th {\n",
       "        vertical-align: top;\n",
       "    }\n",
       "\n",
       "    .dataframe thead th {\n",
       "        text-align: right;\n",
       "    }\n",
       "</style>\n",
       "<table border=\"1\" class=\"dataframe\">\n",
       "  <thead>\n",
       "    <tr style=\"text-align: right;\">\n",
       "      <th></th>\n",
       "      <th>0</th>\n",
       "      <th>1</th>\n",
       "      <th>2</th>\n",
       "      <th>3</th>\n",
       "      <th>4</th>\n",
       "      <th>5</th>\n",
       "      <th>6</th>\n",
       "    </tr>\n",
       "  </thead>\n",
       "  <tbody>\n",
       "    <tr>\n",
       "      <th>Name</th>\n",
       "      <td>Kuncahyo Setyo Nugroho</td>\n",
       "      <td>Agusta Chandra</td>\n",
       "      <td>Anas Amirul</td>\n",
       "      <td>Edwin Gama Pradana</td>\n",
       "      <td>Eko Triatmojo</td>\n",
       "      <td>Ismail Akbar</td>\n",
       "      <td>Irfan Rosyidi</td>\n",
       "    </tr>\n",
       "    <tr>\n",
       "      <th>Age</th>\n",
       "      <td>27</td>\n",
       "      <td>22</td>\n",
       "      <td>22</td>\n",
       "      <td>30</td>\n",
       "      <td>26</td>\n",
       "      <td>24</td>\n",
       "      <td>40</td>\n",
       "    </tr>\n",
       "    <tr>\n",
       "      <th>Address</th>\n",
       "      <td>Jakarta</td>\n",
       "      <td>Bandung</td>\n",
       "      <td>Medan</td>\n",
       "      <td>Surabaya</td>\n",
       "      <td>Surabaya</td>\n",
       "      <td>Malang</td>\n",
       "      <td>Jakarta</td>\n",
       "    </tr>\n",
       "    <tr>\n",
       "      <th>Qualification</th>\n",
       "      <td>Msc</td>\n",
       "      <td>BSc</td>\n",
       "      <td>Mcs</td>\n",
       "      <td>Phd</td>\n",
       "      <td>Msc</td>\n",
       "      <td>Phd</td>\n",
       "      <td>Mcs</td>\n",
       "    </tr>\n",
       "    <tr>\n",
       "      <th>Score</th>\n",
       "      <td>80</td>\n",
       "      <td>45</td>\n",
       "      <td>73</td>\n",
       "      <td>92</td>\n",
       "      <td>26</td>\n",
       "      <td>80</td>\n",
       "      <td>35</td>\n",
       "    </tr>\n",
       "    <tr>\n",
       "      <th>Team</th>\n",
       "      <td>Team A</td>\n",
       "      <td>Team B</td>\n",
       "      <td>Team A</td>\n",
       "      <td>Team C</td>\n",
       "      <td>Team A</td>\n",
       "      <td>Team A</td>\n",
       "      <td>Team C</td>\n",
       "    </tr>\n",
       "  </tbody>\n",
       "</table>\n",
       "</div>"
      ],
      "text/plain": [
       "                                    0               1            2  \\\n",
       "Name           Kuncahyo Setyo Nugroho  Agusta Chandra  Anas Amirul   \n",
       "Age                                27              22           22   \n",
       "Address                       Jakarta         Bandung        Medan   \n",
       "Qualification                     Msc             BSc          Mcs   \n",
       "Score                              80              45           73   \n",
       "Team                           Team A          Team B       Team A   \n",
       "\n",
       "                                3              4             5              6  \n",
       "Name           Edwin Gama Pradana  Eko Triatmojo  Ismail Akbar  Irfan Rosyidi  \n",
       "Age                            30             26            24             40  \n",
       "Address                  Surabaya       Surabaya        Malang        Jakarta  \n",
       "Qualification                 Phd            Msc           Phd            Mcs  \n",
       "Score                          92             26            80             35  \n",
       "Team                       Team C         Team A        Team A         Team C  "
      ]
     },
     "execution_count": 28,
     "metadata": {},
     "output_type": "execute_result"
    }
   ],
   "source": [
    "df.T"
   ]
  },
  {
   "cell_type": "markdown",
   "metadata": {},
   "source": [
    "Menampilkan data dari yang teratas. Nilai default adalah 5"
   ]
  },
  {
   "cell_type": "code",
   "execution_count": 32,
   "metadata": {
    "slideshow": {
     "slide_type": "-"
    }
   },
   "outputs": [
    {
     "data": {
      "text/html": [
       "<div>\n",
       "<style scoped>\n",
       "    .dataframe tbody tr th:only-of-type {\n",
       "        vertical-align: middle;\n",
       "    }\n",
       "\n",
       "    .dataframe tbody tr th {\n",
       "        vertical-align: top;\n",
       "    }\n",
       "\n",
       "    .dataframe thead th {\n",
       "        text-align: right;\n",
       "    }\n",
       "</style>\n",
       "<table border=\"1\" class=\"dataframe\">\n",
       "  <thead>\n",
       "    <tr style=\"text-align: right;\">\n",
       "      <th></th>\n",
       "      <th>Name</th>\n",
       "      <th>Age</th>\n",
       "      <th>Address</th>\n",
       "      <th>Qualification</th>\n",
       "      <th>Score</th>\n",
       "      <th>Team</th>\n",
       "    </tr>\n",
       "  </thead>\n",
       "  <tbody>\n",
       "    <tr>\n",
       "      <th>0</th>\n",
       "      <td>Kuncahyo Setyo Nugroho</td>\n",
       "      <td>27</td>\n",
       "      <td>Jakarta</td>\n",
       "      <td>Msc</td>\n",
       "      <td>80</td>\n",
       "      <td>Team A</td>\n",
       "    </tr>\n",
       "    <tr>\n",
       "      <th>1</th>\n",
       "      <td>Agusta Chandra</td>\n",
       "      <td>22</td>\n",
       "      <td>Bandung</td>\n",
       "      <td>BSc</td>\n",
       "      <td>45</td>\n",
       "      <td>Team B</td>\n",
       "    </tr>\n",
       "    <tr>\n",
       "      <th>2</th>\n",
       "      <td>Anas Amirul</td>\n",
       "      <td>22</td>\n",
       "      <td>Medan</td>\n",
       "      <td>Mcs</td>\n",
       "      <td>73</td>\n",
       "      <td>Team A</td>\n",
       "    </tr>\n",
       "  </tbody>\n",
       "</table>\n",
       "</div>"
      ],
      "text/plain": [
       "                     Name  Age  Address Qualification  Score    Team\n",
       "0  Kuncahyo Setyo Nugroho   27  Jakarta           Msc     80  Team A\n",
       "1          Agusta Chandra   22  Bandung           BSc     45  Team B\n",
       "2             Anas Amirul   22    Medan           Mcs     73  Team A"
      ]
     },
     "execution_count": 32,
     "metadata": {},
     "output_type": "execute_result"
    }
   ],
   "source": [
    "df.head(3)"
   ]
  },
  {
   "cell_type": "markdown",
   "metadata": {},
   "source": [
    "Menampilkan data dari yang terbawah. Nilai default adalah 5"
   ]
  },
  {
   "cell_type": "code",
   "execution_count": 34,
   "metadata": {
    "slideshow": {
     "slide_type": "-"
    }
   },
   "outputs": [
    {
     "data": {
      "text/html": [
       "<div>\n",
       "<style scoped>\n",
       "    .dataframe tbody tr th:only-of-type {\n",
       "        vertical-align: middle;\n",
       "    }\n",
       "\n",
       "    .dataframe tbody tr th {\n",
       "        vertical-align: top;\n",
       "    }\n",
       "\n",
       "    .dataframe thead th {\n",
       "        text-align: right;\n",
       "    }\n",
       "</style>\n",
       "<table border=\"1\" class=\"dataframe\">\n",
       "  <thead>\n",
       "    <tr style=\"text-align: right;\">\n",
       "      <th></th>\n",
       "      <th>Name</th>\n",
       "      <th>Age</th>\n",
       "      <th>Address</th>\n",
       "      <th>Qualification</th>\n",
       "      <th>Score</th>\n",
       "      <th>Team</th>\n",
       "    </tr>\n",
       "  </thead>\n",
       "  <tbody>\n",
       "    <tr>\n",
       "      <th>4</th>\n",
       "      <td>Eko Triatmojo</td>\n",
       "      <td>26</td>\n",
       "      <td>Surabaya</td>\n",
       "      <td>Msc</td>\n",
       "      <td>26</td>\n",
       "      <td>Team A</td>\n",
       "    </tr>\n",
       "    <tr>\n",
       "      <th>5</th>\n",
       "      <td>Ismail Akbar</td>\n",
       "      <td>24</td>\n",
       "      <td>Malang</td>\n",
       "      <td>Phd</td>\n",
       "      <td>80</td>\n",
       "      <td>Team A</td>\n",
       "    </tr>\n",
       "    <tr>\n",
       "      <th>6</th>\n",
       "      <td>Irfan Rosyidi</td>\n",
       "      <td>40</td>\n",
       "      <td>Jakarta</td>\n",
       "      <td>Mcs</td>\n",
       "      <td>35</td>\n",
       "      <td>Team C</td>\n",
       "    </tr>\n",
       "  </tbody>\n",
       "</table>\n",
       "</div>"
      ],
      "text/plain": [
       "            Name  Age   Address Qualification  Score    Team\n",
       "4  Eko Triatmojo   26  Surabaya           Msc     26  Team A\n",
       "5   Ismail Akbar   24    Malang           Phd     80  Team A\n",
       "6  Irfan Rosyidi   40   Jakarta           Mcs     35  Team C"
      ]
     },
     "execution_count": 34,
     "metadata": {},
     "output_type": "execute_result"
    }
   ],
   "source": [
    "df.tail(3)"
   ]
  },
  {
   "cell_type": "markdown",
   "metadata": {},
   "source": [
    "Menampilkan data sample. Nilai default adalah 1"
   ]
  },
  {
   "cell_type": "code",
   "execution_count": 36,
   "metadata": {},
   "outputs": [
    {
     "data": {
      "text/html": [
       "<div>\n",
       "<style scoped>\n",
       "    .dataframe tbody tr th:only-of-type {\n",
       "        vertical-align: middle;\n",
       "    }\n",
       "\n",
       "    .dataframe tbody tr th {\n",
       "        vertical-align: top;\n",
       "    }\n",
       "\n",
       "    .dataframe thead th {\n",
       "        text-align: right;\n",
       "    }\n",
       "</style>\n",
       "<table border=\"1\" class=\"dataframe\">\n",
       "  <thead>\n",
       "    <tr style=\"text-align: right;\">\n",
       "      <th></th>\n",
       "      <th>Name</th>\n",
       "      <th>Age</th>\n",
       "      <th>Address</th>\n",
       "      <th>Qualification</th>\n",
       "      <th>Score</th>\n",
       "      <th>Team</th>\n",
       "    </tr>\n",
       "  </thead>\n",
       "  <tbody>\n",
       "    <tr>\n",
       "      <th>2</th>\n",
       "      <td>Anas Amirul</td>\n",
       "      <td>22</td>\n",
       "      <td>Medan</td>\n",
       "      <td>Mcs</td>\n",
       "      <td>73</td>\n",
       "      <td>Team A</td>\n",
       "    </tr>\n",
       "    <tr>\n",
       "      <th>6</th>\n",
       "      <td>Irfan Rosyidi</td>\n",
       "      <td>40</td>\n",
       "      <td>Jakarta</td>\n",
       "      <td>Mcs</td>\n",
       "      <td>35</td>\n",
       "      <td>Team C</td>\n",
       "    </tr>\n",
       "  </tbody>\n",
       "</table>\n",
       "</div>"
      ],
      "text/plain": [
       "            Name  Age  Address Qualification  Score    Team\n",
       "2    Anas Amirul   22    Medan           Mcs     73  Team A\n",
       "6  Irfan Rosyidi   40  Jakarta           Mcs     35  Team C"
      ]
     },
     "execution_count": 36,
     "metadata": {},
     "output_type": "execute_result"
    }
   ],
   "source": [
    "df.sample(2)"
   ]
  },
  {
   "cell_type": "markdown",
   "metadata": {},
   "source": [
    "Memilih spesifik kolom"
   ]
  },
  {
   "cell_type": "code",
   "execution_count": 37,
   "metadata": {},
   "outputs": [
    {
     "data": {
      "text/html": [
       "<div>\n",
       "<style scoped>\n",
       "    .dataframe tbody tr th:only-of-type {\n",
       "        vertical-align: middle;\n",
       "    }\n",
       "\n",
       "    .dataframe tbody tr th {\n",
       "        vertical-align: top;\n",
       "    }\n",
       "\n",
       "    .dataframe thead th {\n",
       "        text-align: right;\n",
       "    }\n",
       "</style>\n",
       "<table border=\"1\" class=\"dataframe\">\n",
       "  <thead>\n",
       "    <tr style=\"text-align: right;\">\n",
       "      <th></th>\n",
       "      <th>Name</th>\n",
       "    </tr>\n",
       "  </thead>\n",
       "  <tbody>\n",
       "    <tr>\n",
       "      <th>0</th>\n",
       "      <td>Kuncahyo Setyo Nugroho</td>\n",
       "    </tr>\n",
       "    <tr>\n",
       "      <th>1</th>\n",
       "      <td>Agusta Chandra</td>\n",
       "    </tr>\n",
       "    <tr>\n",
       "      <th>2</th>\n",
       "      <td>Anas Amirul</td>\n",
       "    </tr>\n",
       "    <tr>\n",
       "      <th>3</th>\n",
       "      <td>Edwin Gama Pradana</td>\n",
       "    </tr>\n",
       "    <tr>\n",
       "      <th>4</th>\n",
       "      <td>Eko Triatmojo</td>\n",
       "    </tr>\n",
       "    <tr>\n",
       "      <th>5</th>\n",
       "      <td>Ismail Akbar</td>\n",
       "    </tr>\n",
       "    <tr>\n",
       "      <th>6</th>\n",
       "      <td>Irfan Rosyidi</td>\n",
       "    </tr>\n",
       "  </tbody>\n",
       "</table>\n",
       "</div>"
      ],
      "text/plain": [
       "                     Name\n",
       "0  Kuncahyo Setyo Nugroho\n",
       "1          Agusta Chandra\n",
       "2             Anas Amirul\n",
       "3      Edwin Gama Pradana\n",
       "4           Eko Triatmojo\n",
       "5            Ismail Akbar\n",
       "6           Irfan Rosyidi"
      ]
     },
     "execution_count": 37,
     "metadata": {},
     "output_type": "execute_result"
    }
   ],
   "source": [
    "df[['Name']]"
   ]
  },
  {
   "cell_type": "code",
   "execution_count": 38,
   "metadata": {
    "slideshow": {
     "slide_type": "-"
    }
   },
   "outputs": [
    {
     "data": {
      "text/html": [
       "<div>\n",
       "<style scoped>\n",
       "    .dataframe tbody tr th:only-of-type {\n",
       "        vertical-align: middle;\n",
       "    }\n",
       "\n",
       "    .dataframe tbody tr th {\n",
       "        vertical-align: top;\n",
       "    }\n",
       "\n",
       "    .dataframe thead th {\n",
       "        text-align: right;\n",
       "    }\n",
       "</style>\n",
       "<table border=\"1\" class=\"dataframe\">\n",
       "  <thead>\n",
       "    <tr style=\"text-align: right;\">\n",
       "      <th></th>\n",
       "      <th>Name</th>\n",
       "      <th>Team</th>\n",
       "    </tr>\n",
       "  </thead>\n",
       "  <tbody>\n",
       "    <tr>\n",
       "      <th>0</th>\n",
       "      <td>Kuncahyo Setyo Nugroho</td>\n",
       "      <td>Team A</td>\n",
       "    </tr>\n",
       "    <tr>\n",
       "      <th>1</th>\n",
       "      <td>Agusta Chandra</td>\n",
       "      <td>Team B</td>\n",
       "    </tr>\n",
       "    <tr>\n",
       "      <th>2</th>\n",
       "      <td>Anas Amirul</td>\n",
       "      <td>Team A</td>\n",
       "    </tr>\n",
       "    <tr>\n",
       "      <th>3</th>\n",
       "      <td>Edwin Gama Pradana</td>\n",
       "      <td>Team C</td>\n",
       "    </tr>\n",
       "    <tr>\n",
       "      <th>4</th>\n",
       "      <td>Eko Triatmojo</td>\n",
       "      <td>Team A</td>\n",
       "    </tr>\n",
       "    <tr>\n",
       "      <th>5</th>\n",
       "      <td>Ismail Akbar</td>\n",
       "      <td>Team A</td>\n",
       "    </tr>\n",
       "    <tr>\n",
       "      <th>6</th>\n",
       "      <td>Irfan Rosyidi</td>\n",
       "      <td>Team C</td>\n",
       "    </tr>\n",
       "  </tbody>\n",
       "</table>\n",
       "</div>"
      ],
      "text/plain": [
       "                     Name    Team\n",
       "0  Kuncahyo Setyo Nugroho  Team A\n",
       "1          Agusta Chandra  Team B\n",
       "2             Anas Amirul  Team A\n",
       "3      Edwin Gama Pradana  Team C\n",
       "4           Eko Triatmojo  Team A\n",
       "5            Ismail Akbar  Team A\n",
       "6           Irfan Rosyidi  Team C"
      ]
     },
     "execution_count": 38,
     "metadata": {},
     "output_type": "execute_result"
    }
   ],
   "source": [
    "df[['Name', 'Team']]"
   ]
  },
  {
   "cell_type": "markdown",
   "metadata": {},
   "source": [
    "Mmenampilkan dua baris pertama dengan *index slicing*"
   ]
  },
  {
   "cell_type": "code",
   "execution_count": 39,
   "metadata": {},
   "outputs": [
    {
     "data": {
      "text/html": [
       "<div>\n",
       "<style scoped>\n",
       "    .dataframe tbody tr th:only-of-type {\n",
       "        vertical-align: middle;\n",
       "    }\n",
       "\n",
       "    .dataframe tbody tr th {\n",
       "        vertical-align: top;\n",
       "    }\n",
       "\n",
       "    .dataframe thead th {\n",
       "        text-align: right;\n",
       "    }\n",
       "</style>\n",
       "<table border=\"1\" class=\"dataframe\">\n",
       "  <thead>\n",
       "    <tr style=\"text-align: right;\">\n",
       "      <th></th>\n",
       "      <th>Name</th>\n",
       "      <th>Age</th>\n",
       "      <th>Address</th>\n",
       "      <th>Qualification</th>\n",
       "      <th>Score</th>\n",
       "      <th>Team</th>\n",
       "    </tr>\n",
       "  </thead>\n",
       "  <tbody>\n",
       "    <tr>\n",
       "      <th>0</th>\n",
       "      <td>Kuncahyo Setyo Nugroho</td>\n",
       "      <td>27</td>\n",
       "      <td>Jakarta</td>\n",
       "      <td>Msc</td>\n",
       "      <td>80</td>\n",
       "      <td>Team A</td>\n",
       "    </tr>\n",
       "    <tr>\n",
       "      <th>1</th>\n",
       "      <td>Agusta Chandra</td>\n",
       "      <td>22</td>\n",
       "      <td>Bandung</td>\n",
       "      <td>BSc</td>\n",
       "      <td>45</td>\n",
       "      <td>Team B</td>\n",
       "    </tr>\n",
       "  </tbody>\n",
       "</table>\n",
       "</div>"
      ],
      "text/plain": [
       "                     Name  Age  Address Qualification  Score    Team\n",
       "0  Kuncahyo Setyo Nugroho   27  Jakarta           Msc     80  Team A\n",
       "1          Agusta Chandra   22  Bandung           BSc     45  Team B"
      ]
     },
     "execution_count": 39,
     "metadata": {},
     "output_type": "execute_result"
    }
   ],
   "source": [
    "# tanda : menandakan dari indeks ke 0, jika di depan.\n",
    "df[:2]"
   ]
  },
  {
   "cell_type": "markdown",
   "metadata": {},
   "source": [
    "Menampilkan baris terakhir dengan *index slicing*"
   ]
  },
  {
   "cell_type": "code",
   "execution_count": 41,
   "metadata": {},
   "outputs": [
    {
     "data": {
      "text/html": [
       "<div>\n",
       "<style scoped>\n",
       "    .dataframe tbody tr th:only-of-type {\n",
       "        vertical-align: middle;\n",
       "    }\n",
       "\n",
       "    .dataframe tbody tr th {\n",
       "        vertical-align: top;\n",
       "    }\n",
       "\n",
       "    .dataframe thead th {\n",
       "        text-align: right;\n",
       "    }\n",
       "</style>\n",
       "<table border=\"1\" class=\"dataframe\">\n",
       "  <thead>\n",
       "    <tr style=\"text-align: right;\">\n",
       "      <th></th>\n",
       "      <th>Name</th>\n",
       "      <th>Age</th>\n",
       "      <th>Address</th>\n",
       "      <th>Qualification</th>\n",
       "      <th>Score</th>\n",
       "      <th>Team</th>\n",
       "    </tr>\n",
       "  </thead>\n",
       "  <tbody>\n",
       "    <tr>\n",
       "      <th>2</th>\n",
       "      <td>Anas Amirul</td>\n",
       "      <td>22</td>\n",
       "      <td>Medan</td>\n",
       "      <td>Mcs</td>\n",
       "      <td>73</td>\n",
       "      <td>Team A</td>\n",
       "    </tr>\n",
       "    <tr>\n",
       "      <th>3</th>\n",
       "      <td>Edwin Gama Pradana</td>\n",
       "      <td>30</td>\n",
       "      <td>Surabaya</td>\n",
       "      <td>Phd</td>\n",
       "      <td>92</td>\n",
       "      <td>Team C</td>\n",
       "    </tr>\n",
       "    <tr>\n",
       "      <th>4</th>\n",
       "      <td>Eko Triatmojo</td>\n",
       "      <td>26</td>\n",
       "      <td>Surabaya</td>\n",
       "      <td>Msc</td>\n",
       "      <td>26</td>\n",
       "      <td>Team A</td>\n",
       "    </tr>\n",
       "    <tr>\n",
       "      <th>5</th>\n",
       "      <td>Ismail Akbar</td>\n",
       "      <td>24</td>\n",
       "      <td>Malang</td>\n",
       "      <td>Phd</td>\n",
       "      <td>80</td>\n",
       "      <td>Team A</td>\n",
       "    </tr>\n",
       "    <tr>\n",
       "      <th>6</th>\n",
       "      <td>Irfan Rosyidi</td>\n",
       "      <td>40</td>\n",
       "      <td>Jakarta</td>\n",
       "      <td>Mcs</td>\n",
       "      <td>35</td>\n",
       "      <td>Team C</td>\n",
       "    </tr>\n",
       "  </tbody>\n",
       "</table>\n",
       "</div>"
      ],
      "text/plain": [
       "                 Name  Age   Address Qualification  Score    Team\n",
       "2         Anas Amirul   22     Medan           Mcs     73  Team A\n",
       "3  Edwin Gama Pradana   30  Surabaya           Phd     92  Team C\n",
       "4       Eko Triatmojo   26  Surabaya           Msc     26  Team A\n",
       "5        Ismail Akbar   24    Malang           Phd     80  Team A\n",
       "6       Irfan Rosyidi   40   Jakarta           Mcs     35  Team C"
      ]
     },
     "execution_count": 41,
     "metadata": {},
     "output_type": "execute_result"
    }
   ],
   "source": [
    "# dari indeks ke-2 sampai data terakhir\n",
    "df[2:]"
   ]
  },
  {
   "cell_type": "markdown",
   "metadata": {},
   "source": [
    "Menampilkan semua baris dari indeks ke-1 hingga sebelum indeks ke-4 dengan *index slicing*"
   ]
  },
  {
   "cell_type": "code",
   "execution_count": 43,
   "metadata": {},
   "outputs": [
    {
     "data": {
      "text/html": [
       "<div>\n",
       "<style scoped>\n",
       "    .dataframe tbody tr th:only-of-type {\n",
       "        vertical-align: middle;\n",
       "    }\n",
       "\n",
       "    .dataframe tbody tr th {\n",
       "        vertical-align: top;\n",
       "    }\n",
       "\n",
       "    .dataframe thead th {\n",
       "        text-align: right;\n",
       "    }\n",
       "</style>\n",
       "<table border=\"1\" class=\"dataframe\">\n",
       "  <thead>\n",
       "    <tr style=\"text-align: right;\">\n",
       "      <th></th>\n",
       "      <th>Name</th>\n",
       "      <th>Age</th>\n",
       "      <th>Address</th>\n",
       "      <th>Qualification</th>\n",
       "      <th>Score</th>\n",
       "      <th>Team</th>\n",
       "    </tr>\n",
       "  </thead>\n",
       "  <tbody>\n",
       "    <tr>\n",
       "      <th>1</th>\n",
       "      <td>Agusta Chandra</td>\n",
       "      <td>22</td>\n",
       "      <td>Bandung</td>\n",
       "      <td>BSc</td>\n",
       "      <td>45</td>\n",
       "      <td>Team B</td>\n",
       "    </tr>\n",
       "    <tr>\n",
       "      <th>2</th>\n",
       "      <td>Anas Amirul</td>\n",
       "      <td>22</td>\n",
       "      <td>Medan</td>\n",
       "      <td>Mcs</td>\n",
       "      <td>73</td>\n",
       "      <td>Team A</td>\n",
       "    </tr>\n",
       "    <tr>\n",
       "      <th>3</th>\n",
       "      <td>Edwin Gama Pradana</td>\n",
       "      <td>30</td>\n",
       "      <td>Surabaya</td>\n",
       "      <td>Phd</td>\n",
       "      <td>92</td>\n",
       "      <td>Team C</td>\n",
       "    </tr>\n",
       "  </tbody>\n",
       "</table>\n",
       "</div>"
      ],
      "text/plain": [
       "                 Name  Age   Address Qualification  Score    Team\n",
       "1      Agusta Chandra   22   Bandung           BSc     45  Team B\n",
       "2         Anas Amirul   22     Medan           Mcs     73  Team A\n",
       "3  Edwin Gama Pradana   30  Surabaya           Phd     92  Team C"
      ]
     },
     "execution_count": 43,
     "metadata": {},
     "output_type": "execute_result"
    }
   ],
   "source": [
    "df[1:4]"
   ]
  },
  {
   "cell_type": "markdown",
   "metadata": {
    "id": "OBrhcmr31At3",
    "slideshow": {
     "slide_type": "subslide"
    }
   },
   "source": [
    "Ingat metode `loc()` ?\n",
    "\n",
    "Di sini kita akan menggunakan `loc` untuk memilih data orang yang tinggal di 'Surabaya' dan yang berusia > 20 tahun."
   ]
  },
  {
   "cell_type": "code",
   "execution_count": 46,
   "metadata": {
    "colab": {
     "base_uri": "https://localhost:8080/"
    },
    "id": "7iEv31QW8vbX",
    "outputId": "eb7cf492-c808-4c30-af70-6a95308e5c23"
   },
   "outputs": [
    {
     "data": {
      "text/html": [
       "<div>\n",
       "<style scoped>\n",
       "    .dataframe tbody tr th:only-of-type {\n",
       "        vertical-align: middle;\n",
       "    }\n",
       "\n",
       "    .dataframe tbody tr th {\n",
       "        vertical-align: top;\n",
       "    }\n",
       "\n",
       "    .dataframe thead th {\n",
       "        text-align: right;\n",
       "    }\n",
       "</style>\n",
       "<table border=\"1\" class=\"dataframe\">\n",
       "  <thead>\n",
       "    <tr style=\"text-align: right;\">\n",
       "      <th></th>\n",
       "      <th>Name</th>\n",
       "      <th>Age</th>\n",
       "      <th>Address</th>\n",
       "      <th>Qualification</th>\n",
       "      <th>Score</th>\n",
       "      <th>Team</th>\n",
       "    </tr>\n",
       "  </thead>\n",
       "  <tbody>\n",
       "    <tr>\n",
       "      <th>3</th>\n",
       "      <td>Edwin Gama Pradana</td>\n",
       "      <td>30</td>\n",
       "      <td>Surabaya</td>\n",
       "      <td>Phd</td>\n",
       "      <td>92</td>\n",
       "      <td>Team C</td>\n",
       "    </tr>\n",
       "    <tr>\n",
       "      <th>4</th>\n",
       "      <td>Eko Triatmojo</td>\n",
       "      <td>26</td>\n",
       "      <td>Surabaya</td>\n",
       "      <td>Msc</td>\n",
       "      <td>26</td>\n",
       "      <td>Team A</td>\n",
       "    </tr>\n",
       "  </tbody>\n",
       "</table>\n",
       "</div>"
      ],
      "text/plain": [
       "                 Name  Age   Address Qualification  Score    Team\n",
       "3  Edwin Gama Pradana   30  Surabaya           Phd     92  Team C\n",
       "4       Eko Triatmojo   26  Surabaya           Msc     26  Team A"
      ]
     },
     "execution_count": 46,
     "metadata": {},
     "output_type": "execute_result"
    }
   ],
   "source": [
    "df.loc[(df.Address=='Surabaya') & (df.Age > 20)]"
   ]
  },
  {
   "cell_type": "markdown",
   "metadata": {
    "id": "z8V6Ip_C1X7L",
    "slideshow": {
     "slide_type": "subslide"
    }
   },
   "source": [
    "Ingat ya, sedangkan `iloc()` adalah metode pemilihan berbasis indeks yang berarti bahwa kita menentukan indeks untuk memilih baris/kolom tertentu.\n",
    "\n",
    "Kita lihat contohnya, ini akan mengembalikan baris dengan indeks 0, 2 dan 3."
   ]
  },
  {
   "cell_type": "code",
   "execution_count": 63,
   "metadata": {
    "colab": {
     "base_uri": "https://localhost:8080/",
     "height": 143
    },
    "id": "vUyBPTLuBUAO",
    "outputId": "ab331a75-90c3-4b51-9f57-68f55bbbd3c5"
   },
   "outputs": [
    {
     "data": {
      "text/html": [
       "<div>\n",
       "<style scoped>\n",
       "    .dataframe tbody tr th:only-of-type {\n",
       "        vertical-align: middle;\n",
       "    }\n",
       "\n",
       "    .dataframe tbody tr th {\n",
       "        vertical-align: top;\n",
       "    }\n",
       "\n",
       "    .dataframe thead th {\n",
       "        text-align: right;\n",
       "    }\n",
       "</style>\n",
       "<table border=\"1\" class=\"dataframe\">\n",
       "  <thead>\n",
       "    <tr style=\"text-align: right;\">\n",
       "      <th></th>\n",
       "      <th>Name</th>\n",
       "      <th>Age</th>\n",
       "      <th>Address</th>\n",
       "      <th>Qualification</th>\n",
       "      <th>Score</th>\n",
       "      <th>Team</th>\n",
       "    </tr>\n",
       "  </thead>\n",
       "  <tbody>\n",
       "    <tr>\n",
       "      <th>0</th>\n",
       "      <td>Kuncahyo Setyo Nugroho</td>\n",
       "      <td>27</td>\n",
       "      <td>Jakarta</td>\n",
       "      <td>Msc</td>\n",
       "      <td>80</td>\n",
       "      <td>Team A</td>\n",
       "    </tr>\n",
       "    <tr>\n",
       "      <th>2</th>\n",
       "      <td>Anas Amirul</td>\n",
       "      <td>22</td>\n",
       "      <td>Medan</td>\n",
       "      <td>Mcs</td>\n",
       "      <td>73</td>\n",
       "      <td>Team A</td>\n",
       "    </tr>\n",
       "    <tr>\n",
       "      <th>3</th>\n",
       "      <td>Edwin Gama Pradana</td>\n",
       "      <td>30</td>\n",
       "      <td>Surabaya</td>\n",
       "      <td>Phd</td>\n",
       "      <td>92</td>\n",
       "      <td>Team C</td>\n",
       "    </tr>\n",
       "  </tbody>\n",
       "</table>\n",
       "</div>"
      ],
      "text/plain": [
       "                     Name  Age   Address Qualification  Score    Team\n",
       "0  Kuncahyo Setyo Nugroho   27   Jakarta           Msc     80  Team A\n",
       "2             Anas Amirul   22     Medan           Mcs     73  Team A\n",
       "3      Edwin Gama Pradana   30  Surabaya           Phd     92  Team C"
      ]
     },
     "execution_count": 63,
     "metadata": {},
     "output_type": "execute_result"
    }
   ],
   "source": [
    "df.iloc[[0, 2, 3]]"
   ]
  },
  {
   "cell_type": "markdown",
   "metadata": {
    "id": "hCuUyv8w1akO"
   },
   "source": [
    "Ini akan mengembalikan data **baris** dari indeks ke-1 hingga sebelum indeks ke-3, dan **kolom** indeks ke-1 hingga sebelum indeks ke-4."
   ]
  },
  {
   "cell_type": "code",
   "execution_count": 50,
   "metadata": {},
   "outputs": [
    {
     "data": {
      "text/html": [
       "<div>\n",
       "<style scoped>\n",
       "    .dataframe tbody tr th:only-of-type {\n",
       "        vertical-align: middle;\n",
       "    }\n",
       "\n",
       "    .dataframe tbody tr th {\n",
       "        vertical-align: top;\n",
       "    }\n",
       "\n",
       "    .dataframe thead th {\n",
       "        text-align: right;\n",
       "    }\n",
       "</style>\n",
       "<table border=\"1\" class=\"dataframe\">\n",
       "  <thead>\n",
       "    <tr style=\"text-align: right;\">\n",
       "      <th></th>\n",
       "      <th>Name</th>\n",
       "      <th>Age</th>\n",
       "      <th>Address</th>\n",
       "      <th>Qualification</th>\n",
       "      <th>Score</th>\n",
       "      <th>Team</th>\n",
       "    </tr>\n",
       "  </thead>\n",
       "  <tbody>\n",
       "    <tr>\n",
       "      <th>0</th>\n",
       "      <td>Kuncahyo Setyo Nugroho</td>\n",
       "      <td>27</td>\n",
       "      <td>Jakarta</td>\n",
       "      <td>Msc</td>\n",
       "      <td>80</td>\n",
       "      <td>Team A</td>\n",
       "    </tr>\n",
       "    <tr>\n",
       "      <th>1</th>\n",
       "      <td>Agusta Chandra</td>\n",
       "      <td>22</td>\n",
       "      <td>Bandung</td>\n",
       "      <td>BSc</td>\n",
       "      <td>45</td>\n",
       "      <td>Team B</td>\n",
       "    </tr>\n",
       "    <tr>\n",
       "      <th>2</th>\n",
       "      <td>Anas Amirul</td>\n",
       "      <td>22</td>\n",
       "      <td>Medan</td>\n",
       "      <td>Mcs</td>\n",
       "      <td>73</td>\n",
       "      <td>Team A</td>\n",
       "    </tr>\n",
       "    <tr>\n",
       "      <th>3</th>\n",
       "      <td>Edwin Gama Pradana</td>\n",
       "      <td>30</td>\n",
       "      <td>Surabaya</td>\n",
       "      <td>Phd</td>\n",
       "      <td>92</td>\n",
       "      <td>Team C</td>\n",
       "    </tr>\n",
       "    <tr>\n",
       "      <th>4</th>\n",
       "      <td>Eko Triatmojo</td>\n",
       "      <td>26</td>\n",
       "      <td>Surabaya</td>\n",
       "      <td>Msc</td>\n",
       "      <td>26</td>\n",
       "      <td>Team A</td>\n",
       "    </tr>\n",
       "    <tr>\n",
       "      <th>5</th>\n",
       "      <td>Ismail Akbar</td>\n",
       "      <td>24</td>\n",
       "      <td>Malang</td>\n",
       "      <td>Phd</td>\n",
       "      <td>80</td>\n",
       "      <td>Team A</td>\n",
       "    </tr>\n",
       "    <tr>\n",
       "      <th>6</th>\n",
       "      <td>Irfan Rosyidi</td>\n",
       "      <td>40</td>\n",
       "      <td>Jakarta</td>\n",
       "      <td>Mcs</td>\n",
       "      <td>35</td>\n",
       "      <td>Team C</td>\n",
       "    </tr>\n",
       "  </tbody>\n",
       "</table>\n",
       "</div>"
      ],
      "text/plain": [
       "                     Name  Age   Address Qualification  Score    Team\n",
       "0  Kuncahyo Setyo Nugroho   27   Jakarta           Msc     80  Team A\n",
       "1          Agusta Chandra   22   Bandung           BSc     45  Team B\n",
       "2             Anas Amirul   22     Medan           Mcs     73  Team A\n",
       "3      Edwin Gama Pradana   30  Surabaya           Phd     92  Team C\n",
       "4           Eko Triatmojo   26  Surabaya           Msc     26  Team A\n",
       "5            Ismail Akbar   24    Malang           Phd     80  Team A\n",
       "6           Irfan Rosyidi   40   Jakarta           Mcs     35  Team C"
      ]
     },
     "execution_count": 50,
     "metadata": {},
     "output_type": "execute_result"
    }
   ],
   "source": [
    "df"
   ]
  },
  {
   "cell_type": "code",
   "execution_count": 64,
   "metadata": {
    "colab": {
     "base_uri": "https://localhost:8080/",
     "height": 175
    },
    "id": "gpyhjF_OBwt4",
    "outputId": "f518dbac-cfcb-4bcf-fcb8-f797ccf1867f"
   },
   "outputs": [
    {
     "data": {
      "text/html": [
       "<div>\n",
       "<style scoped>\n",
       "    .dataframe tbody tr th:only-of-type {\n",
       "        vertical-align: middle;\n",
       "    }\n",
       "\n",
       "    .dataframe tbody tr th {\n",
       "        vertical-align: top;\n",
       "    }\n",
       "\n",
       "    .dataframe thead th {\n",
       "        text-align: right;\n",
       "    }\n",
       "</style>\n",
       "<table border=\"1\" class=\"dataframe\">\n",
       "  <thead>\n",
       "    <tr style=\"text-align: right;\">\n",
       "      <th></th>\n",
       "      <th>Age</th>\n",
       "      <th>Address</th>\n",
       "      <th>Qualification</th>\n",
       "    </tr>\n",
       "  </thead>\n",
       "  <tbody>\n",
       "    <tr>\n",
       "      <th>1</th>\n",
       "      <td>22</td>\n",
       "      <td>Bandung</td>\n",
       "      <td>BSc</td>\n",
       "    </tr>\n",
       "    <tr>\n",
       "      <th>2</th>\n",
       "      <td>22</td>\n",
       "      <td>Medan</td>\n",
       "      <td>Mcs</td>\n",
       "    </tr>\n",
       "  </tbody>\n",
       "</table>\n",
       "</div>"
      ],
      "text/plain": [
       "   Age  Address Qualification\n",
       "1   22  Bandung           BSc\n",
       "2   22    Medan           Mcs"
      ]
     },
     "execution_count": 64,
     "metadata": {},
     "output_type": "execute_result"
    }
   ],
   "source": [
    "df.iloc[1:3, 1:4]"
   ]
  },
  {
   "cell_type": "markdown",
   "metadata": {
    "slideshow": {
     "slide_type": "slide"
    }
   },
   "source": [
    "# Pandas: Data Aggregation"
   ]
  },
  {
   "cell_type": "code",
   "execution_count": 65,
   "metadata": {
    "slideshow": {
     "slide_type": "subslide"
    }
   },
   "outputs": [
    {
     "data": {
      "text/html": [
       "<div>\n",
       "<style scoped>\n",
       "    .dataframe tbody tr th:only-of-type {\n",
       "        vertical-align: middle;\n",
       "    }\n",
       "\n",
       "    .dataframe tbody tr th {\n",
       "        vertical-align: top;\n",
       "    }\n",
       "\n",
       "    .dataframe thead th {\n",
       "        text-align: right;\n",
       "    }\n",
       "</style>\n",
       "<table border=\"1\" class=\"dataframe\">\n",
       "  <thead>\n",
       "    <tr style=\"text-align: right;\">\n",
       "      <th></th>\n",
       "      <th>Name</th>\n",
       "      <th>Age</th>\n",
       "      <th>Address</th>\n",
       "      <th>Qualification</th>\n",
       "      <th>Score</th>\n",
       "      <th>Team</th>\n",
       "    </tr>\n",
       "  </thead>\n",
       "  <tbody>\n",
       "    <tr>\n",
       "      <th>0</th>\n",
       "      <td>Kuncahyo Setyo Nugroho</td>\n",
       "      <td>27</td>\n",
       "      <td>Jakarta</td>\n",
       "      <td>Msc</td>\n",
       "      <td>80</td>\n",
       "      <td>Team A</td>\n",
       "    </tr>\n",
       "    <tr>\n",
       "      <th>1</th>\n",
       "      <td>Agusta Chandra</td>\n",
       "      <td>22</td>\n",
       "      <td>Bandung</td>\n",
       "      <td>BSc</td>\n",
       "      <td>45</td>\n",
       "      <td>Team B</td>\n",
       "    </tr>\n",
       "    <tr>\n",
       "      <th>2</th>\n",
       "      <td>Anas Amirul</td>\n",
       "      <td>22</td>\n",
       "      <td>Medan</td>\n",
       "      <td>Mcs</td>\n",
       "      <td>73</td>\n",
       "      <td>Team A</td>\n",
       "    </tr>\n",
       "    <tr>\n",
       "      <th>3</th>\n",
       "      <td>Edwin Gama Pradana</td>\n",
       "      <td>30</td>\n",
       "      <td>Surabaya</td>\n",
       "      <td>Phd</td>\n",
       "      <td>92</td>\n",
       "      <td>Team C</td>\n",
       "    </tr>\n",
       "    <tr>\n",
       "      <th>4</th>\n",
       "      <td>Eko Triatmojo</td>\n",
       "      <td>26</td>\n",
       "      <td>Surabaya</td>\n",
       "      <td>Msc</td>\n",
       "      <td>26</td>\n",
       "      <td>Team A</td>\n",
       "    </tr>\n",
       "    <tr>\n",
       "      <th>5</th>\n",
       "      <td>Ismail Akbar</td>\n",
       "      <td>24</td>\n",
       "      <td>Malang</td>\n",
       "      <td>Phd</td>\n",
       "      <td>80</td>\n",
       "      <td>Team A</td>\n",
       "    </tr>\n",
       "    <tr>\n",
       "      <th>6</th>\n",
       "      <td>Irfan Rosyidi</td>\n",
       "      <td>40</td>\n",
       "      <td>Jakarta</td>\n",
       "      <td>Mcs</td>\n",
       "      <td>35</td>\n",
       "      <td>Team C</td>\n",
       "    </tr>\n",
       "  </tbody>\n",
       "</table>\n",
       "</div>"
      ],
      "text/plain": [
       "                     Name  Age   Address Qualification  Score    Team\n",
       "0  Kuncahyo Setyo Nugroho   27   Jakarta           Msc     80  Team A\n",
       "1          Agusta Chandra   22   Bandung           BSc     45  Team B\n",
       "2             Anas Amirul   22     Medan           Mcs     73  Team A\n",
       "3      Edwin Gama Pradana   30  Surabaya           Phd     92  Team C\n",
       "4           Eko Triatmojo   26  Surabaya           Msc     26  Team A\n",
       "5            Ismail Akbar   24    Malang           Phd     80  Team A\n",
       "6           Irfan Rosyidi   40   Jakarta           Mcs     35  Team C"
      ]
     },
     "execution_count": 65,
     "metadata": {},
     "output_type": "execute_result"
    }
   ],
   "source": [
    "df"
   ]
  },
  {
   "cell_type": "code",
   "execution_count": 66,
   "metadata": {
    "slideshow": {
     "slide_type": "-"
    }
   },
   "outputs": [],
   "source": [
    "df_team = df.groupby(['Team'])"
   ]
  },
  {
   "cell_type": "code",
   "execution_count": 68,
   "metadata": {},
   "outputs": [
    {
     "data": {
      "text/html": [
       "<div>\n",
       "<style scoped>\n",
       "    .dataframe tbody tr th:only-of-type {\n",
       "        vertical-align: middle;\n",
       "    }\n",
       "\n",
       "    .dataframe tbody tr th {\n",
       "        vertical-align: top;\n",
       "    }\n",
       "\n",
       "    .dataframe thead th {\n",
       "        text-align: right;\n",
       "    }\n",
       "</style>\n",
       "<table border=\"1\" class=\"dataframe\">\n",
       "  <thead>\n",
       "    <tr style=\"text-align: right;\">\n",
       "      <th></th>\n",
       "      <th>Name</th>\n",
       "      <th>Age</th>\n",
       "      <th>Address</th>\n",
       "      <th>Qualification</th>\n",
       "      <th>Score</th>\n",
       "    </tr>\n",
       "    <tr>\n",
       "      <th>Team</th>\n",
       "      <th></th>\n",
       "      <th></th>\n",
       "      <th></th>\n",
       "      <th></th>\n",
       "      <th></th>\n",
       "    </tr>\n",
       "  </thead>\n",
       "  <tbody>\n",
       "    <tr>\n",
       "      <th>Team A</th>\n",
       "      <td>Kuncahyo Setyo Nugroho</td>\n",
       "      <td>27</td>\n",
       "      <td>Jakarta</td>\n",
       "      <td>Msc</td>\n",
       "      <td>80</td>\n",
       "    </tr>\n",
       "    <tr>\n",
       "      <th>Team B</th>\n",
       "      <td>Agusta Chandra</td>\n",
       "      <td>22</td>\n",
       "      <td>Bandung</td>\n",
       "      <td>BSc</td>\n",
       "      <td>45</td>\n",
       "    </tr>\n",
       "    <tr>\n",
       "      <th>Team C</th>\n",
       "      <td>Edwin Gama Pradana</td>\n",
       "      <td>30</td>\n",
       "      <td>Surabaya</td>\n",
       "      <td>Phd</td>\n",
       "      <td>92</td>\n",
       "    </tr>\n",
       "  </tbody>\n",
       "</table>\n",
       "</div>"
      ],
      "text/plain": [
       "                          Name  Age   Address Qualification  Score\n",
       "Team                                                              \n",
       "Team A  Kuncahyo Setyo Nugroho   27   Jakarta           Msc     80\n",
       "Team B          Agusta Chandra   22   Bandung           BSc     45\n",
       "Team C      Edwin Gama Pradana   30  Surabaya           Phd     92"
      ]
     },
     "execution_count": 68,
     "metadata": {},
     "output_type": "execute_result"
    }
   ],
   "source": [
    "# menampilkan data pertama hasil groupby\n",
    "df_team.first()"
   ]
  },
  {
   "cell_type": "markdown",
   "metadata": {},
   "source": [
    "Menemukan data dalam group tertentu"
   ]
  },
  {
   "cell_type": "code",
   "execution_count": 74,
   "metadata": {},
   "outputs": [
    {
     "data": {
      "text/html": [
       "<div>\n",
       "<style scoped>\n",
       "    .dataframe tbody tr th:only-of-type {\n",
       "        vertical-align: middle;\n",
       "    }\n",
       "\n",
       "    .dataframe tbody tr th {\n",
       "        vertical-align: top;\n",
       "    }\n",
       "\n",
       "    .dataframe thead th {\n",
       "        text-align: right;\n",
       "    }\n",
       "</style>\n",
       "<table border=\"1\" class=\"dataframe\">\n",
       "  <thead>\n",
       "    <tr style=\"text-align: right;\">\n",
       "      <th></th>\n",
       "      <th>Name</th>\n",
       "      <th>Age</th>\n",
       "      <th>Address</th>\n",
       "      <th>Qualification</th>\n",
       "      <th>Score</th>\n",
       "      <th>Team</th>\n",
       "    </tr>\n",
       "  </thead>\n",
       "  <tbody>\n",
       "    <tr>\n",
       "      <th>0</th>\n",
       "      <td>Kuncahyo Setyo Nugroho</td>\n",
       "      <td>27</td>\n",
       "      <td>Jakarta</td>\n",
       "      <td>Msc</td>\n",
       "      <td>80</td>\n",
       "      <td>Team A</td>\n",
       "    </tr>\n",
       "    <tr>\n",
       "      <th>2</th>\n",
       "      <td>Anas Amirul</td>\n",
       "      <td>22</td>\n",
       "      <td>Medan</td>\n",
       "      <td>Mcs</td>\n",
       "      <td>73</td>\n",
       "      <td>Team A</td>\n",
       "    </tr>\n",
       "    <tr>\n",
       "      <th>4</th>\n",
       "      <td>Eko Triatmojo</td>\n",
       "      <td>26</td>\n",
       "      <td>Surabaya</td>\n",
       "      <td>Msc</td>\n",
       "      <td>26</td>\n",
       "      <td>Team A</td>\n",
       "    </tr>\n",
       "    <tr>\n",
       "      <th>5</th>\n",
       "      <td>Ismail Akbar</td>\n",
       "      <td>24</td>\n",
       "      <td>Malang</td>\n",
       "      <td>Phd</td>\n",
       "      <td>80</td>\n",
       "      <td>Team A</td>\n",
       "    </tr>\n",
       "  </tbody>\n",
       "</table>\n",
       "</div>"
      ],
      "text/plain": [
       "                     Name  Age   Address Qualification  Score    Team\n",
       "0  Kuncahyo Setyo Nugroho   27   Jakarta           Msc     80  Team A\n",
       "2             Anas Amirul   22     Medan           Mcs     73  Team A\n",
       "4           Eko Triatmojo   26  Surabaya           Msc     26  Team A\n",
       "5            Ismail Akbar   24    Malang           Phd     80  Team A"
      ]
     },
     "execution_count": 74,
     "metadata": {},
     "output_type": "execute_result"
    }
   ],
   "source": [
    "df_team.get_group('Team A')"
   ]
  },
  {
   "cell_type": "markdown",
   "metadata": {
    "slideshow": {
     "slide_type": "slide"
    }
   },
   "source": [
    "# Pandas: Descriptive Statistical Analysis"
   ]
  },
  {
   "cell_type": "code",
   "execution_count": 81,
   "metadata": {
    "scrolled": true,
    "slideshow": {
     "slide_type": "subslide"
    }
   },
   "outputs": [
    {
     "name": "stdout",
     "output_type": "stream",
     "text": [
      "<class 'pandas.core.frame.DataFrame'>\n",
      "RangeIndex: 7 entries, 0 to 6\n",
      "Data columns (total 6 columns):\n",
      " #   Column         Non-Null Count  Dtype \n",
      "---  ------         --------------  ----- \n",
      " 0   Name           7 non-null      object\n",
      " 1   Age            7 non-null      int64 \n",
      " 2   Address        7 non-null      object\n",
      " 3   Qualification  7 non-null      object\n",
      " 4   Score          7 non-null      int64 \n",
      " 5   Team           7 non-null      object\n",
      "dtypes: int64(2), object(4)\n",
      "memory usage: 464.0+ bytes\n"
     ]
    }
   ],
   "source": [
    "df.info()"
   ]
  },
  {
   "cell_type": "code",
   "execution_count": 83,
   "metadata": {},
   "outputs": [
    {
     "data": {
      "text/html": [
       "<div>\n",
       "<style scoped>\n",
       "    .dataframe tbody tr th:only-of-type {\n",
       "        vertical-align: middle;\n",
       "    }\n",
       "\n",
       "    .dataframe tbody tr th {\n",
       "        vertical-align: top;\n",
       "    }\n",
       "\n",
       "    .dataframe thead th {\n",
       "        text-align: right;\n",
       "    }\n",
       "</style>\n",
       "<table border=\"1\" class=\"dataframe\">\n",
       "  <thead>\n",
       "    <tr style=\"text-align: right;\">\n",
       "      <th></th>\n",
       "      <th>count</th>\n",
       "      <th>mean</th>\n",
       "      <th>std</th>\n",
       "      <th>min</th>\n",
       "      <th>25%</th>\n",
       "      <th>50%</th>\n",
       "      <th>75%</th>\n",
       "      <th>max</th>\n",
       "    </tr>\n",
       "  </thead>\n",
       "  <tbody>\n",
       "    <tr>\n",
       "      <th>Age</th>\n",
       "      <td>7.0</td>\n",
       "      <td>27.285714</td>\n",
       "      <td>6.290583</td>\n",
       "      <td>22.0</td>\n",
       "      <td>23.0</td>\n",
       "      <td>26.0</td>\n",
       "      <td>28.5</td>\n",
       "      <td>40.0</td>\n",
       "    </tr>\n",
       "    <tr>\n",
       "      <th>Score</th>\n",
       "      <td>7.0</td>\n",
       "      <td>61.571429</td>\n",
       "      <td>25.760804</td>\n",
       "      <td>26.0</td>\n",
       "      <td>40.0</td>\n",
       "      <td>73.0</td>\n",
       "      <td>80.0</td>\n",
       "      <td>92.0</td>\n",
       "    </tr>\n",
       "  </tbody>\n",
       "</table>\n",
       "</div>"
      ],
      "text/plain": [
       "       count       mean        std   min   25%   50%   75%   max\n",
       "Age      7.0  27.285714   6.290583  22.0  23.0  26.0  28.5  40.0\n",
       "Score    7.0  61.571429  25.760804  26.0  40.0  73.0  80.0  92.0"
      ]
     },
     "execution_count": 83,
     "metadata": {},
     "output_type": "execute_result"
    }
   ],
   "source": [
    "df.describe().T"
   ]
  },
  {
   "cell_type": "code",
   "execution_count": 80,
   "metadata": {},
   "outputs": [
    {
     "name": "stdout",
     "output_type": "stream",
     "text": [
      "Mean of Age 27.285714285714285\n",
      "Median of Age 26.0\n",
      "Min of Age 22\n",
      "Max of Age 40\n"
     ]
    }
   ],
   "source": [
    "print('Mean of Age', df['Age'].mean())\n",
    "print('Median of Age', df['Age'].median())\n",
    "print('Min of Age', df['Age'].min())\n",
    "print('Max of Age', df['Age'].max())"
   ]
  },
  {
   "cell_type": "markdown",
   "metadata": {
    "slideshow": {
     "slide_type": "slide"
    }
   },
   "source": [
    "# Pandas: Transformasi Data Menggunakan Map()"
   ]
  },
  {
   "cell_type": "code",
   "execution_count": 84,
   "metadata": {
    "slideshow": {
     "slide_type": "subslide"
    }
   },
   "outputs": [],
   "source": [
    "# buat fungsi sederhana untuk mengembalikan inisial dari nama \n",
    "def get_code(name):\n",
    "    return ''.join([x[0].upper() for x in name.split(' ')])\n",
    "\n",
    "# map() akan memetakan fungsi get_code pada setiap baris\n",
    "df['Code'] = df['Name'].map(get_code)"
   ]
  },
  {
   "cell_type": "code",
   "execution_count": 85,
   "metadata": {
    "slideshow": {
     "slide_type": "-"
    }
   },
   "outputs": [
    {
     "data": {
      "text/html": [
       "<div>\n",
       "<style scoped>\n",
       "    .dataframe tbody tr th:only-of-type {\n",
       "        vertical-align: middle;\n",
       "    }\n",
       "\n",
       "    .dataframe tbody tr th {\n",
       "        vertical-align: top;\n",
       "    }\n",
       "\n",
       "    .dataframe thead th {\n",
       "        text-align: right;\n",
       "    }\n",
       "</style>\n",
       "<table border=\"1\" class=\"dataframe\">\n",
       "  <thead>\n",
       "    <tr style=\"text-align: right;\">\n",
       "      <th></th>\n",
       "      <th>Name</th>\n",
       "      <th>Age</th>\n",
       "      <th>Address</th>\n",
       "      <th>Qualification</th>\n",
       "      <th>Score</th>\n",
       "      <th>Team</th>\n",
       "      <th>Code</th>\n",
       "    </tr>\n",
       "  </thead>\n",
       "  <tbody>\n",
       "    <tr>\n",
       "      <th>0</th>\n",
       "      <td>Kuncahyo Setyo Nugroho</td>\n",
       "      <td>27</td>\n",
       "      <td>Jakarta</td>\n",
       "      <td>Msc</td>\n",
       "      <td>80</td>\n",
       "      <td>Team A</td>\n",
       "      <td>KSN</td>\n",
       "    </tr>\n",
       "    <tr>\n",
       "      <th>1</th>\n",
       "      <td>Agusta Chandra</td>\n",
       "      <td>22</td>\n",
       "      <td>Bandung</td>\n",
       "      <td>BSc</td>\n",
       "      <td>45</td>\n",
       "      <td>Team B</td>\n",
       "      <td>AC</td>\n",
       "    </tr>\n",
       "    <tr>\n",
       "      <th>2</th>\n",
       "      <td>Anas Amirul</td>\n",
       "      <td>22</td>\n",
       "      <td>Medan</td>\n",
       "      <td>Mcs</td>\n",
       "      <td>73</td>\n",
       "      <td>Team A</td>\n",
       "      <td>AA</td>\n",
       "    </tr>\n",
       "    <tr>\n",
       "      <th>3</th>\n",
       "      <td>Edwin Gama Pradana</td>\n",
       "      <td>30</td>\n",
       "      <td>Surabaya</td>\n",
       "      <td>Phd</td>\n",
       "      <td>92</td>\n",
       "      <td>Team C</td>\n",
       "      <td>EGP</td>\n",
       "    </tr>\n",
       "    <tr>\n",
       "      <th>4</th>\n",
       "      <td>Eko Triatmojo</td>\n",
       "      <td>26</td>\n",
       "      <td>Surabaya</td>\n",
       "      <td>Msc</td>\n",
       "      <td>26</td>\n",
       "      <td>Team A</td>\n",
       "      <td>ET</td>\n",
       "    </tr>\n",
       "    <tr>\n",
       "      <th>5</th>\n",
       "      <td>Ismail Akbar</td>\n",
       "      <td>24</td>\n",
       "      <td>Malang</td>\n",
       "      <td>Phd</td>\n",
       "      <td>80</td>\n",
       "      <td>Team A</td>\n",
       "      <td>IA</td>\n",
       "    </tr>\n",
       "    <tr>\n",
       "      <th>6</th>\n",
       "      <td>Irfan Rosyidi</td>\n",
       "      <td>40</td>\n",
       "      <td>Jakarta</td>\n",
       "      <td>Mcs</td>\n",
       "      <td>35</td>\n",
       "      <td>Team C</td>\n",
       "      <td>IR</td>\n",
       "    </tr>\n",
       "  </tbody>\n",
       "</table>\n",
       "</div>"
      ],
      "text/plain": [
       "                     Name  Age   Address Qualification  Score    Team Code\n",
       "0  Kuncahyo Setyo Nugroho   27   Jakarta           Msc     80  Team A  KSN\n",
       "1          Agusta Chandra   22   Bandung           BSc     45  Team B   AC\n",
       "2             Anas Amirul   22     Medan           Mcs     73  Team A   AA\n",
       "3      Edwin Gama Pradana   30  Surabaya           Phd     92  Team C  EGP\n",
       "4           Eko Triatmojo   26  Surabaya           Msc     26  Team A   ET\n",
       "5            Ismail Akbar   24    Malang           Phd     80  Team A   IA\n",
       "6           Irfan Rosyidi   40   Jakarta           Mcs     35  Team C   IR"
      ]
     },
     "execution_count": 85,
     "metadata": {},
     "output_type": "execute_result"
    }
   ],
   "source": [
    "df"
   ]
  },
  {
   "cell_type": "markdown",
   "metadata": {
    "slideshow": {
     "slide_type": "slide"
    }
   },
   "source": [
    "# Pandas: Transformasi Data - Replacing Values"
   ]
  },
  {
   "cell_type": "code",
   "execution_count": 89,
   "metadata": {
    "slideshow": {
     "slide_type": "subslide"
    }
   },
   "outputs": [
    {
     "data": {
      "text/html": [
       "<div>\n",
       "<style scoped>\n",
       "    .dataframe tbody tr th:only-of-type {\n",
       "        vertical-align: middle;\n",
       "    }\n",
       "\n",
       "    .dataframe tbody tr th {\n",
       "        vertical-align: top;\n",
       "    }\n",
       "\n",
       "    .dataframe thead th {\n",
       "        text-align: right;\n",
       "    }\n",
       "</style>\n",
       "<table border=\"1\" class=\"dataframe\">\n",
       "  <thead>\n",
       "    <tr style=\"text-align: right;\">\n",
       "      <th></th>\n",
       "      <th>Name</th>\n",
       "      <th>Age</th>\n",
       "      <th>Address</th>\n",
       "      <th>Qualification</th>\n",
       "      <th>Score</th>\n",
       "      <th>Team</th>\n",
       "      <th>Code</th>\n",
       "    </tr>\n",
       "  </thead>\n",
       "  <tbody>\n",
       "    <tr>\n",
       "      <th>0</th>\n",
       "      <td>Kuncahyo Setyo Nugroho</td>\n",
       "      <td>27</td>\n",
       "      <td>Jakarta</td>\n",
       "      <td>Msc</td>\n",
       "      <td>80</td>\n",
       "      <td>Team Alpha</td>\n",
       "      <td>KSN</td>\n",
       "    </tr>\n",
       "    <tr>\n",
       "      <th>1</th>\n",
       "      <td>Agusta Chandra</td>\n",
       "      <td>22</td>\n",
       "      <td>Bandung</td>\n",
       "      <td>BSc</td>\n",
       "      <td>45</td>\n",
       "      <td>Team B</td>\n",
       "      <td>AC</td>\n",
       "    </tr>\n",
       "    <tr>\n",
       "      <th>2</th>\n",
       "      <td>Anas Amirul</td>\n",
       "      <td>22</td>\n",
       "      <td>Medan</td>\n",
       "      <td>Mcs</td>\n",
       "      <td>73</td>\n",
       "      <td>Team Alpha</td>\n",
       "      <td>AA</td>\n",
       "    </tr>\n",
       "    <tr>\n",
       "      <th>3</th>\n",
       "      <td>Edwin Gama Pradana</td>\n",
       "      <td>30</td>\n",
       "      <td>Surabaya</td>\n",
       "      <td>Phd</td>\n",
       "      <td>92</td>\n",
       "      <td>Team C</td>\n",
       "      <td>EGP</td>\n",
       "    </tr>\n",
       "    <tr>\n",
       "      <th>4</th>\n",
       "      <td>Eko Triatmojo</td>\n",
       "      <td>26</td>\n",
       "      <td>Surabaya</td>\n",
       "      <td>Msc</td>\n",
       "      <td>26</td>\n",
       "      <td>Team Alpha</td>\n",
       "      <td>ET</td>\n",
       "    </tr>\n",
       "    <tr>\n",
       "      <th>5</th>\n",
       "      <td>Ismail Akbar</td>\n",
       "      <td>24</td>\n",
       "      <td>Malang</td>\n",
       "      <td>Phd</td>\n",
       "      <td>80</td>\n",
       "      <td>Team Alpha</td>\n",
       "      <td>IA</td>\n",
       "    </tr>\n",
       "    <tr>\n",
       "      <th>6</th>\n",
       "      <td>Irfan Rosyidi</td>\n",
       "      <td>40</td>\n",
       "      <td>Jakarta</td>\n",
       "      <td>Mcs</td>\n",
       "      <td>35</td>\n",
       "      <td>Team C</td>\n",
       "      <td>IR</td>\n",
       "    </tr>\n",
       "  </tbody>\n",
       "</table>\n",
       "</div>"
      ],
      "text/plain": [
       "                     Name  Age   Address Qualification  Score        Team Code\n",
       "0  Kuncahyo Setyo Nugroho   27   Jakarta           Msc     80  Team Alpha  KSN\n",
       "1          Agusta Chandra   22   Bandung           BSc     45      Team B   AC\n",
       "2             Anas Amirul   22     Medan           Mcs     73  Team Alpha   AA\n",
       "3      Edwin Gama Pradana   30  Surabaya           Phd     92      Team C  EGP\n",
       "4           Eko Triatmojo   26  Surabaya           Msc     26  Team Alpha   ET\n",
       "5            Ismail Akbar   24    Malang           Phd     80  Team Alpha   IA\n",
       "6           Irfan Rosyidi   40   Jakarta           Mcs     35      Team C   IR"
      ]
     },
     "execution_count": 89,
     "metadata": {},
     "output_type": "execute_result"
    }
   ],
   "source": [
    "# kita bisa menentukan kolom mana yang akan kita ubah valuenya\n",
    "# atau semua kolom\n",
    "\n",
    "df['Address'].replace('Papua','Jakarta', inplace=True)\n",
    "\n",
    "df"
   ]
  },
  {
   "cell_type": "markdown",
   "metadata": {
    "slideshow": {
     "slide_type": "slide"
    }
   },
   "source": [
    "# Pandas: Transformasi Data - Discretization & Binning"
   ]
  },
  {
   "cell_type": "code",
   "execution_count": 91,
   "metadata": {
    "slideshow": {
     "slide_type": "subslide"
    }
   },
   "outputs": [
    {
     "data": {
      "text/html": [
       "<div>\n",
       "<style scoped>\n",
       "    .dataframe tbody tr th:only-of-type {\n",
       "        vertical-align: middle;\n",
       "    }\n",
       "\n",
       "    .dataframe tbody tr th {\n",
       "        vertical-align: top;\n",
       "    }\n",
       "\n",
       "    .dataframe thead th {\n",
       "        text-align: right;\n",
       "    }\n",
       "</style>\n",
       "<table border=\"1\" class=\"dataframe\">\n",
       "  <thead>\n",
       "    <tr style=\"text-align: right;\">\n",
       "      <th></th>\n",
       "      <th>Name</th>\n",
       "      <th>Age</th>\n",
       "      <th>Address</th>\n",
       "      <th>Qualification</th>\n",
       "      <th>Score</th>\n",
       "      <th>Team</th>\n",
       "      <th>Code</th>\n",
       "    </tr>\n",
       "  </thead>\n",
       "  <tbody>\n",
       "    <tr>\n",
       "      <th>0</th>\n",
       "      <td>Kuncahyo Setyo Nugroho</td>\n",
       "      <td>27</td>\n",
       "      <td>Jakarta</td>\n",
       "      <td>Msc</td>\n",
       "      <td>80</td>\n",
       "      <td>Team Alpha</td>\n",
       "      <td>KSN</td>\n",
       "    </tr>\n",
       "    <tr>\n",
       "      <th>1</th>\n",
       "      <td>Agusta Chandra</td>\n",
       "      <td>22</td>\n",
       "      <td>Bandung</td>\n",
       "      <td>BSc</td>\n",
       "      <td>45</td>\n",
       "      <td>Team B</td>\n",
       "      <td>AC</td>\n",
       "    </tr>\n",
       "    <tr>\n",
       "      <th>2</th>\n",
       "      <td>Anas Amirul</td>\n",
       "      <td>22</td>\n",
       "      <td>Medan</td>\n",
       "      <td>Mcs</td>\n",
       "      <td>73</td>\n",
       "      <td>Team Alpha</td>\n",
       "      <td>AA</td>\n",
       "    </tr>\n",
       "    <tr>\n",
       "      <th>3</th>\n",
       "      <td>Edwin Gama Pradana</td>\n",
       "      <td>30</td>\n",
       "      <td>Surabaya</td>\n",
       "      <td>Phd</td>\n",
       "      <td>92</td>\n",
       "      <td>Team C</td>\n",
       "      <td>EGP</td>\n",
       "    </tr>\n",
       "    <tr>\n",
       "      <th>4</th>\n",
       "      <td>Eko Triatmojo</td>\n",
       "      <td>26</td>\n",
       "      <td>Surabaya</td>\n",
       "      <td>Msc</td>\n",
       "      <td>26</td>\n",
       "      <td>Team Alpha</td>\n",
       "      <td>ET</td>\n",
       "    </tr>\n",
       "    <tr>\n",
       "      <th>5</th>\n",
       "      <td>Ismail Akbar</td>\n",
       "      <td>24</td>\n",
       "      <td>Malang</td>\n",
       "      <td>Phd</td>\n",
       "      <td>80</td>\n",
       "      <td>Team Alpha</td>\n",
       "      <td>IA</td>\n",
       "    </tr>\n",
       "    <tr>\n",
       "      <th>6</th>\n",
       "      <td>Irfan Rosyidi</td>\n",
       "      <td>40</td>\n",
       "      <td>Jakarta</td>\n",
       "      <td>Mcs</td>\n",
       "      <td>35</td>\n",
       "      <td>Team C</td>\n",
       "      <td>IR</td>\n",
       "    </tr>\n",
       "  </tbody>\n",
       "</table>\n",
       "</div>"
      ],
      "text/plain": [
       "                     Name  Age   Address Qualification  Score        Team Code\n",
       "0  Kuncahyo Setyo Nugroho   27   Jakarta           Msc     80  Team Alpha  KSN\n",
       "1          Agusta Chandra   22   Bandung           BSc     45      Team B   AC\n",
       "2             Anas Amirul   22     Medan           Mcs     73  Team Alpha   AA\n",
       "3      Edwin Gama Pradana   30  Surabaya           Phd     92      Team C  EGP\n",
       "4           Eko Triatmojo   26  Surabaya           Msc     26  Team Alpha   ET\n",
       "5            Ismail Akbar   24    Malang           Phd     80  Team Alpha   IA\n",
       "6           Irfan Rosyidi   40   Jakarta           Mcs     35      Team C   IR"
      ]
     },
     "execution_count": 91,
     "metadata": {},
     "output_type": "execute_result"
    }
   ],
   "source": [
    "df"
   ]
  },
  {
   "cell_type": "code",
   "execution_count": 93,
   "metadata": {},
   "outputs": [
    {
     "data": {
      "text/html": [
       "<div>\n",
       "<style scoped>\n",
       "    .dataframe tbody tr th:only-of-type {\n",
       "        vertical-align: middle;\n",
       "    }\n",
       "\n",
       "    .dataframe tbody tr th {\n",
       "        vertical-align: top;\n",
       "    }\n",
       "\n",
       "    .dataframe thead th {\n",
       "        text-align: right;\n",
       "    }\n",
       "</style>\n",
       "<table border=\"1\" class=\"dataframe\">\n",
       "  <thead>\n",
       "    <tr style=\"text-align: right;\">\n",
       "      <th></th>\n",
       "      <th>Name</th>\n",
       "      <th>Age</th>\n",
       "      <th>Address</th>\n",
       "      <th>Qualification</th>\n",
       "      <th>Score</th>\n",
       "      <th>Team</th>\n",
       "      <th>Code</th>\n",
       "      <th>score_cat</th>\n",
       "    </tr>\n",
       "  </thead>\n",
       "  <tbody>\n",
       "    <tr>\n",
       "      <th>0</th>\n",
       "      <td>Kuncahyo Setyo Nugroho</td>\n",
       "      <td>27</td>\n",
       "      <td>Jakarta</td>\n",
       "      <td>Msc</td>\n",
       "      <td>80</td>\n",
       "      <td>Team Alpha</td>\n",
       "      <td>KSN</td>\n",
       "      <td>Medium</td>\n",
       "    </tr>\n",
       "    <tr>\n",
       "      <th>1</th>\n",
       "      <td>Agusta Chandra</td>\n",
       "      <td>22</td>\n",
       "      <td>Bandung</td>\n",
       "      <td>BSc</td>\n",
       "      <td>45</td>\n",
       "      <td>Team B</td>\n",
       "      <td>AC</td>\n",
       "      <td>Low</td>\n",
       "    </tr>\n",
       "    <tr>\n",
       "      <th>2</th>\n",
       "      <td>Anas Amirul</td>\n",
       "      <td>22</td>\n",
       "      <td>Medan</td>\n",
       "      <td>Mcs</td>\n",
       "      <td>73</td>\n",
       "      <td>Team Alpha</td>\n",
       "      <td>AA</td>\n",
       "      <td>Medium</td>\n",
       "    </tr>\n",
       "    <tr>\n",
       "      <th>3</th>\n",
       "      <td>Edwin Gama Pradana</td>\n",
       "      <td>30</td>\n",
       "      <td>Surabaya</td>\n",
       "      <td>Phd</td>\n",
       "      <td>92</td>\n",
       "      <td>Team C</td>\n",
       "      <td>EGP</td>\n",
       "      <td>High</td>\n",
       "    </tr>\n",
       "    <tr>\n",
       "      <th>4</th>\n",
       "      <td>Eko Triatmojo</td>\n",
       "      <td>26</td>\n",
       "      <td>Surabaya</td>\n",
       "      <td>Msc</td>\n",
       "      <td>26</td>\n",
       "      <td>Team Alpha</td>\n",
       "      <td>ET</td>\n",
       "      <td>Low</td>\n",
       "    </tr>\n",
       "    <tr>\n",
       "      <th>5</th>\n",
       "      <td>Ismail Akbar</td>\n",
       "      <td>24</td>\n",
       "      <td>Malang</td>\n",
       "      <td>Phd</td>\n",
       "      <td>80</td>\n",
       "      <td>Team Alpha</td>\n",
       "      <td>IA</td>\n",
       "      <td>Medium</td>\n",
       "    </tr>\n",
       "    <tr>\n",
       "      <th>6</th>\n",
       "      <td>Irfan Rosyidi</td>\n",
       "      <td>40</td>\n",
       "      <td>Jakarta</td>\n",
       "      <td>Mcs</td>\n",
       "      <td>35</td>\n",
       "      <td>Team C</td>\n",
       "      <td>IR</td>\n",
       "      <td>Low</td>\n",
       "    </tr>\n",
       "  </tbody>\n",
       "</table>\n",
       "</div>"
      ],
      "text/plain": [
       "                     Name  Age   Address Qualification  Score        Team  \\\n",
       "0  Kuncahyo Setyo Nugroho   27   Jakarta           Msc     80  Team Alpha   \n",
       "1          Agusta Chandra   22   Bandung           BSc     45      Team B   \n",
       "2             Anas Amirul   22     Medan           Mcs     73  Team Alpha   \n",
       "3      Edwin Gama Pradana   30  Surabaya           Phd     92      Team C   \n",
       "4           Eko Triatmojo   26  Surabaya           Msc     26  Team Alpha   \n",
       "5            Ismail Akbar   24    Malang           Phd     80  Team Alpha   \n",
       "6           Irfan Rosyidi   40   Jakarta           Mcs     35      Team C   \n",
       "\n",
       "  Code score_cat  \n",
       "0  KSN    Medium  \n",
       "1   AC       Low  \n",
       "2   AA    Medium  \n",
       "3  EGP      High  \n",
       "4   ET       Low  \n",
       "5   IA    Medium  \n",
       "6   IR       Low  "
      ]
     },
     "execution_count": 93,
     "metadata": {},
     "output_type": "execute_result"
    }
   ],
   "source": [
    "df['score_cat'] = pd.cut(df['Score'], bins=[0,60,80,100], labels=['Low','Medium','High'])\n",
    "\n",
    "df"
   ]
  },
  {
   "cell_type": "markdown",
   "metadata": {
    "slideshow": {
     "slide_type": "slide"
    }
   },
   "source": [
    "# Pandas: Joining DataFrame"
   ]
  },
  {
   "cell_type": "code",
   "execution_count": 99,
   "metadata": {
    "slideshow": {
     "slide_type": "subslide"
    }
   },
   "outputs": [
    {
     "data": {
      "text/html": [
       "<div>\n",
       "<style scoped>\n",
       "    .dataframe tbody tr th:only-of-type {\n",
       "        vertical-align: middle;\n",
       "    }\n",
       "\n",
       "    .dataframe tbody tr th {\n",
       "        vertical-align: top;\n",
       "    }\n",
       "\n",
       "    .dataframe thead th {\n",
       "        text-align: right;\n",
       "    }\n",
       "</style>\n",
       "<table border=\"1\" class=\"dataframe\">\n",
       "  <thead>\n",
       "    <tr style=\"text-align: right;\">\n",
       "      <th></th>\n",
       "      <th>subject_id</th>\n",
       "      <th>first_name</th>\n",
       "      <th>last_name</th>\n",
       "    </tr>\n",
       "  </thead>\n",
       "  <tbody>\n",
       "    <tr>\n",
       "      <th>0</th>\n",
       "      <td>1</td>\n",
       "      <td>Alex</td>\n",
       "      <td>Anderson</td>\n",
       "    </tr>\n",
       "    <tr>\n",
       "      <th>1</th>\n",
       "      <td>2</td>\n",
       "      <td>Allan</td>\n",
       "      <td>Ackerman</td>\n",
       "    </tr>\n",
       "    <tr>\n",
       "      <th>2</th>\n",
       "      <td>3</td>\n",
       "      <td>Adit</td>\n",
       "      <td>Aoni</td>\n",
       "    </tr>\n",
       "    <tr>\n",
       "      <th>3</th>\n",
       "      <td>4</td>\n",
       "      <td>Frezco</td>\n",
       "      <td>Ali</td>\n",
       "    </tr>\n",
       "  </tbody>\n",
       "</table>\n",
       "</div>"
      ],
      "text/plain": [
       "  subject_id first_name last_name\n",
       "0          1       Alex  Anderson\n",
       "1          2      Allan  Ackerman\n",
       "2          3       Adit      Aoni\n",
       "3          4     Frezco       Ali"
      ]
     },
     "execution_count": 99,
     "metadata": {},
     "output_type": "execute_result"
    }
   ],
   "source": [
    "# data untuk dataframe A\n",
    "data_a = {\n",
    "    'subject_id': ['1','2','3','4'],\n",
    "    'first_name': ['Alex','Allan', 'Adit','Frezco'],\n",
    "    'last_name':['Anderson', 'Ackerman', 'Aoni','Ali']\n",
    "}\n",
    "\n",
    "# ubah dict menjadi dataframe\n",
    "df_a = pd.DataFrame(data_a)\n",
    "\n",
    "df_a"
   ]
  },
  {
   "cell_type": "code",
   "execution_count": 104,
   "metadata": {},
   "outputs": [
    {
     "data": {
      "text/html": [
       "<div>\n",
       "<style scoped>\n",
       "    .dataframe tbody tr th:only-of-type {\n",
       "        vertical-align: middle;\n",
       "    }\n",
       "\n",
       "    .dataframe tbody tr th {\n",
       "        vertical-align: top;\n",
       "    }\n",
       "\n",
       "    .dataframe thead th {\n",
       "        text-align: right;\n",
       "    }\n",
       "</style>\n",
       "<table border=\"1\" class=\"dataframe\">\n",
       "  <thead>\n",
       "    <tr style=\"text-align: right;\">\n",
       "      <th></th>\n",
       "      <th>id</th>\n",
       "      <th>nama_depan</th>\n",
       "      <th>nama_belakang</th>\n",
       "    </tr>\n",
       "  </thead>\n",
       "  <tbody>\n",
       "    <tr>\n",
       "      <th>0</th>\n",
       "      <td>4</td>\n",
       "      <td>Alexa</td>\n",
       "      <td>Lopez</td>\n",
       "    </tr>\n",
       "    <tr>\n",
       "      <th>1</th>\n",
       "      <td>5</td>\n",
       "      <td>Amy</td>\n",
       "      <td>Horan</td>\n",
       "    </tr>\n",
       "    <tr>\n",
       "      <th>2</th>\n",
       "      <td>6</td>\n",
       "      <td>Aadira</td>\n",
       "      <td>Styles</td>\n",
       "    </tr>\n",
       "  </tbody>\n",
       "</table>\n",
       "</div>"
      ],
      "text/plain": [
       "  id nama_depan nama_belakang\n",
       "0  4      Alexa         Lopez\n",
       "1  5        Amy         Horan\n",
       "2  6     Aadira        Styles"
      ]
     },
     "execution_count": 104,
     "metadata": {},
     "output_type": "execute_result"
    }
   ],
   "source": [
    "# data untuk dataframe B\n",
    "data_b = {\n",
    "    'id': ['4','5','6'],\n",
    "    'nama_depan': ['Alexa','Amy', 'Aadira'],\n",
    "    'nama_belakang':['Lopez', 'Horan', 'Styles']\n",
    "}\n",
    "\n",
    "# ubah dict menjadi dataframe\n",
    "df_b = pd.DataFrame(data_b)\n",
    "\n",
    "df_b"
   ]
  },
  {
   "cell_type": "code",
   "execution_count": 105,
   "metadata": {},
   "outputs": [
    {
     "data": {
      "text/html": [
       "<div>\n",
       "<style scoped>\n",
       "    .dataframe tbody tr th:only-of-type {\n",
       "        vertical-align: middle;\n",
       "    }\n",
       "\n",
       "    .dataframe tbody tr th {\n",
       "        vertical-align: top;\n",
       "    }\n",
       "\n",
       "    .dataframe thead th {\n",
       "        text-align: right;\n",
       "    }\n",
       "</style>\n",
       "<table border=\"1\" class=\"dataframe\">\n",
       "  <thead>\n",
       "    <tr style=\"text-align: right;\">\n",
       "      <th></th>\n",
       "      <th>subject_id</th>\n",
       "      <th>first_name</th>\n",
       "      <th>last_name</th>\n",
       "      <th>id</th>\n",
       "      <th>nama_depan</th>\n",
       "      <th>nama_belakang</th>\n",
       "    </tr>\n",
       "  </thead>\n",
       "  <tbody>\n",
       "    <tr>\n",
       "      <th>0</th>\n",
       "      <td>1</td>\n",
       "      <td>Alex</td>\n",
       "      <td>Anderson</td>\n",
       "      <td>NaN</td>\n",
       "      <td>NaN</td>\n",
       "      <td>NaN</td>\n",
       "    </tr>\n",
       "    <tr>\n",
       "      <th>1</th>\n",
       "      <td>2</td>\n",
       "      <td>Allan</td>\n",
       "      <td>Ackerman</td>\n",
       "      <td>NaN</td>\n",
       "      <td>NaN</td>\n",
       "      <td>NaN</td>\n",
       "    </tr>\n",
       "    <tr>\n",
       "      <th>2</th>\n",
       "      <td>3</td>\n",
       "      <td>Adit</td>\n",
       "      <td>Aoni</td>\n",
       "      <td>NaN</td>\n",
       "      <td>NaN</td>\n",
       "      <td>NaN</td>\n",
       "    </tr>\n",
       "    <tr>\n",
       "      <th>3</th>\n",
       "      <td>4</td>\n",
       "      <td>Frezco</td>\n",
       "      <td>Ali</td>\n",
       "      <td>NaN</td>\n",
       "      <td>NaN</td>\n",
       "      <td>NaN</td>\n",
       "    </tr>\n",
       "    <tr>\n",
       "      <th>0</th>\n",
       "      <td>NaN</td>\n",
       "      <td>NaN</td>\n",
       "      <td>NaN</td>\n",
       "      <td>4</td>\n",
       "      <td>Alexa</td>\n",
       "      <td>Lopez</td>\n",
       "    </tr>\n",
       "    <tr>\n",
       "      <th>1</th>\n",
       "      <td>NaN</td>\n",
       "      <td>NaN</td>\n",
       "      <td>NaN</td>\n",
       "      <td>5</td>\n",
       "      <td>Amy</td>\n",
       "      <td>Horan</td>\n",
       "    </tr>\n",
       "    <tr>\n",
       "      <th>2</th>\n",
       "      <td>NaN</td>\n",
       "      <td>NaN</td>\n",
       "      <td>NaN</td>\n",
       "      <td>6</td>\n",
       "      <td>Aadira</td>\n",
       "      <td>Styles</td>\n",
       "    </tr>\n",
       "  </tbody>\n",
       "</table>\n",
       "</div>"
      ],
      "text/plain": [
       "  subject_id first_name last_name   id nama_depan nama_belakang\n",
       "0          1       Alex  Anderson  NaN        NaN           NaN\n",
       "1          2      Allan  Ackerman  NaN        NaN           NaN\n",
       "2          3       Adit      Aoni  NaN        NaN           NaN\n",
       "3          4     Frezco       Ali  NaN        NaN           NaN\n",
       "0        NaN        NaN       NaN    4      Alexa         Lopez\n",
       "1        NaN        NaN       NaN    5        Amy         Horan\n",
       "2        NaN        NaN       NaN    6     Aadira        Styles"
      ]
     },
     "execution_count": 105,
     "metadata": {},
     "output_type": "execute_result"
    }
   ],
   "source": [
    "full_df = pd.concat([df_a, df_b])\n",
    "\n",
    "full_df"
   ]
  },
  {
   "cell_type": "markdown",
   "metadata": {},
   "source": [
    "Menggabungkan dua DataFrame pada kolom"
   ]
  },
  {
   "cell_type": "code",
   "execution_count": 106,
   "metadata": {},
   "outputs": [
    {
     "data": {
      "text/html": [
       "<div>\n",
       "<style scoped>\n",
       "    .dataframe tbody tr th:only-of-type {\n",
       "        vertical-align: middle;\n",
       "    }\n",
       "\n",
       "    .dataframe tbody tr th {\n",
       "        vertical-align: top;\n",
       "    }\n",
       "\n",
       "    .dataframe thead th {\n",
       "        text-align: right;\n",
       "    }\n",
       "</style>\n",
       "<table border=\"1\" class=\"dataframe\">\n",
       "  <thead>\n",
       "    <tr style=\"text-align: right;\">\n",
       "      <th></th>\n",
       "      <th>subject_id</th>\n",
       "      <th>first_name</th>\n",
       "      <th>last_name</th>\n",
       "      <th>id</th>\n",
       "      <th>nama_depan</th>\n",
       "      <th>nama_belakang</th>\n",
       "    </tr>\n",
       "  </thead>\n",
       "  <tbody>\n",
       "    <tr>\n",
       "      <th>0</th>\n",
       "      <td>1</td>\n",
       "      <td>Alex</td>\n",
       "      <td>Anderson</td>\n",
       "      <td>4</td>\n",
       "      <td>Alexa</td>\n",
       "      <td>Lopez</td>\n",
       "    </tr>\n",
       "    <tr>\n",
       "      <th>1</th>\n",
       "      <td>2</td>\n",
       "      <td>Allan</td>\n",
       "      <td>Ackerman</td>\n",
       "      <td>5</td>\n",
       "      <td>Amy</td>\n",
       "      <td>Horan</td>\n",
       "    </tr>\n",
       "    <tr>\n",
       "      <th>2</th>\n",
       "      <td>3</td>\n",
       "      <td>Adit</td>\n",
       "      <td>Aoni</td>\n",
       "      <td>6</td>\n",
       "      <td>Aadira</td>\n",
       "      <td>Styles</td>\n",
       "    </tr>\n",
       "    <tr>\n",
       "      <th>3</th>\n",
       "      <td>4</td>\n",
       "      <td>Frezco</td>\n",
       "      <td>Ali</td>\n",
       "      <td>NaN</td>\n",
       "      <td>NaN</td>\n",
       "      <td>NaN</td>\n",
       "    </tr>\n",
       "  </tbody>\n",
       "</table>\n",
       "</div>"
      ],
      "text/plain": [
       "  subject_id first_name last_name   id nama_depan nama_belakang\n",
       "0          1       Alex  Anderson    4      Alexa         Lopez\n",
       "1          2      Allan  Ackerman    5        Amy         Horan\n",
       "2          3       Adit      Aoni    6     Aadira        Styles\n",
       "3          4     Frezco       Ali  NaN        NaN           NaN"
      ]
     },
     "execution_count": 106,
     "metadata": {},
     "output_type": "execute_result"
    }
   ],
   "source": [
    "full_df = pd.concat([df_a,df_b], axis=1)\n",
    "\n",
    "full_df\n",
    "\n",
    "# NaN adalah nilai kosong "
   ]
  },
  {
   "cell_type": "markdown",
   "metadata": {
    "id": "j926fx0lkyU6",
    "slideshow": {
     "slide_type": "slide"
    }
   },
   "source": [
    "# Pandas: Importing Files - Excel Sheets &  CSV"
   ]
  },
  {
   "cell_type": "code",
   "execution_count": 107,
   "metadata": {
    "slideshow": {
     "slide_type": "subslide"
    }
   },
   "outputs": [],
   "source": [
    "!pip -q install wget\n",
    "\n",
    "# jika di google colab\n",
    "# !wget url"
   ]
  },
  {
   "cell_type": "code",
   "execution_count": 108,
   "metadata": {},
   "outputs": [
    {
     "data": {
      "text/plain": [
       "'iris (1).csv'"
      ]
     },
     "execution_count": 108,
     "metadata": {},
     "output_type": "execute_result"
    }
   ],
   "source": [
    "import wget\n",
    "\n",
    "url = 'https://raw.githubusercontent.com/venky14/Machine-Learning-with-Iris-Dataset/master/Iris.csv'\n",
    "\n",
    "wget.download(url,'iris.csv')"
   ]
  },
  {
   "cell_type": "code",
   "execution_count": 123,
   "metadata": {
    "colab": {
     "base_uri": "https://localhost:8080/"
    },
    "id": "Smjpd6wsk3-F",
    "outputId": "9e3fd963-f7f7-4f5d-9029-1e7a19c43e3f"
   },
   "outputs": [
    {
     "data": {
      "text/html": [
       "<div>\n",
       "<style scoped>\n",
       "    .dataframe tbody tr th:only-of-type {\n",
       "        vertical-align: middle;\n",
       "    }\n",
       "\n",
       "    .dataframe tbody tr th {\n",
       "        vertical-align: top;\n",
       "    }\n",
       "\n",
       "    .dataframe thead th {\n",
       "        text-align: right;\n",
       "    }\n",
       "</style>\n",
       "<table border=\"1\" class=\"dataframe\">\n",
       "  <thead>\n",
       "    <tr style=\"text-align: right;\">\n",
       "      <th></th>\n",
       "      <th>Id</th>\n",
       "      <th>SepalLengthCm</th>\n",
       "      <th>SepalWidthCm</th>\n",
       "      <th>PetalLengthCm</th>\n",
       "      <th>PetalWidthCm</th>\n",
       "      <th>Species</th>\n",
       "    </tr>\n",
       "  </thead>\n",
       "  <tbody>\n",
       "    <tr>\n",
       "      <th>0</th>\n",
       "      <td>1</td>\n",
       "      <td>5.1</td>\n",
       "      <td>3.5</td>\n",
       "      <td>1.4</td>\n",
       "      <td>0.2</td>\n",
       "      <td>Iris-setosa</td>\n",
       "    </tr>\n",
       "    <tr>\n",
       "      <th>1</th>\n",
       "      <td>2</td>\n",
       "      <td>4.9</td>\n",
       "      <td>3.0</td>\n",
       "      <td>1.4</td>\n",
       "      <td>0.2</td>\n",
       "      <td>Iris-setosa</td>\n",
       "    </tr>\n",
       "    <tr>\n",
       "      <th>2</th>\n",
       "      <td>3</td>\n",
       "      <td>4.7</td>\n",
       "      <td>3.2</td>\n",
       "      <td>1.3</td>\n",
       "      <td>0.2</td>\n",
       "      <td>Iris-setosa</td>\n",
       "    </tr>\n",
       "    <tr>\n",
       "      <th>3</th>\n",
       "      <td>4</td>\n",
       "      <td>4.6</td>\n",
       "      <td>3.1</td>\n",
       "      <td>1.5</td>\n",
       "      <td>0.2</td>\n",
       "      <td>Iris-setosa</td>\n",
       "    </tr>\n",
       "    <tr>\n",
       "      <th>4</th>\n",
       "      <td>5</td>\n",
       "      <td>5.0</td>\n",
       "      <td>3.6</td>\n",
       "      <td>1.4</td>\n",
       "      <td>0.2</td>\n",
       "      <td>Iris-setosa</td>\n",
       "    </tr>\n",
       "    <tr>\n",
       "      <th>...</th>\n",
       "      <td>...</td>\n",
       "      <td>...</td>\n",
       "      <td>...</td>\n",
       "      <td>...</td>\n",
       "      <td>...</td>\n",
       "      <td>...</td>\n",
       "    </tr>\n",
       "    <tr>\n",
       "      <th>145</th>\n",
       "      <td>146</td>\n",
       "      <td>6.7</td>\n",
       "      <td>3.0</td>\n",
       "      <td>5.2</td>\n",
       "      <td>2.3</td>\n",
       "      <td>Iris-virginica</td>\n",
       "    </tr>\n",
       "    <tr>\n",
       "      <th>146</th>\n",
       "      <td>147</td>\n",
       "      <td>6.3</td>\n",
       "      <td>2.5</td>\n",
       "      <td>5.0</td>\n",
       "      <td>1.9</td>\n",
       "      <td>Iris-virginica</td>\n",
       "    </tr>\n",
       "    <tr>\n",
       "      <th>147</th>\n",
       "      <td>148</td>\n",
       "      <td>6.5</td>\n",
       "      <td>3.0</td>\n",
       "      <td>5.2</td>\n",
       "      <td>2.0</td>\n",
       "      <td>Iris-virginica</td>\n",
       "    </tr>\n",
       "    <tr>\n",
       "      <th>148</th>\n",
       "      <td>149</td>\n",
       "      <td>6.2</td>\n",
       "      <td>3.4</td>\n",
       "      <td>5.4</td>\n",
       "      <td>2.3</td>\n",
       "      <td>Iris-virginica</td>\n",
       "    </tr>\n",
       "    <tr>\n",
       "      <th>149</th>\n",
       "      <td>150</td>\n",
       "      <td>5.9</td>\n",
       "      <td>3.0</td>\n",
       "      <td>5.1</td>\n",
       "      <td>1.8</td>\n",
       "      <td>Iris-virginica</td>\n",
       "    </tr>\n",
       "  </tbody>\n",
       "</table>\n",
       "<p>150 rows × 6 columns</p>\n",
       "</div>"
      ],
      "text/plain": [
       "      Id  SepalLengthCm  SepalWidthCm  PetalLengthCm  PetalWidthCm  \\\n",
       "0      1            5.1           3.5            1.4           0.2   \n",
       "1      2            4.9           3.0            1.4           0.2   \n",
       "2      3            4.7           3.2            1.3           0.2   \n",
       "3      4            4.6           3.1            1.5           0.2   \n",
       "4      5            5.0           3.6            1.4           0.2   \n",
       "..   ...            ...           ...            ...           ...   \n",
       "145  146            6.7           3.0            5.2           2.3   \n",
       "146  147            6.3           2.5            5.0           1.9   \n",
       "147  148            6.5           3.0            5.2           2.0   \n",
       "148  149            6.2           3.4            5.4           2.3   \n",
       "149  150            5.9           3.0            5.1           1.8   \n",
       "\n",
       "            Species  \n",
       "0       Iris-setosa  \n",
       "1       Iris-setosa  \n",
       "2       Iris-setosa  \n",
       "3       Iris-setosa  \n",
       "4       Iris-setosa  \n",
       "..              ...  \n",
       "145  Iris-virginica  \n",
       "146  Iris-virginica  \n",
       "147  Iris-virginica  \n",
       "148  Iris-virginica  \n",
       "149  Iris-virginica  \n",
       "\n",
       "[150 rows x 6 columns]"
      ]
     },
     "execution_count": 123,
     "metadata": {},
     "output_type": "execute_result"
    }
   ],
   "source": [
    "import pandas as pd \n",
    "\n",
    "df_iris = pd.read_csv('iris.csv')\n",
    "\n",
    "# df_iris.columns = ['id','SL','SW','PL','PW','class']\n",
    "\n",
    "df_iris"
   ]
  },
  {
   "cell_type": "code",
   "execution_count": 126,
   "metadata": {},
   "outputs": [
    {
     "data": {
      "text/html": [
       "<div>\n",
       "<style scoped>\n",
       "    .dataframe tbody tr th:only-of-type {\n",
       "        vertical-align: middle;\n",
       "    }\n",
       "\n",
       "    .dataframe tbody tr th {\n",
       "        vertical-align: top;\n",
       "    }\n",
       "\n",
       "    .dataframe thead th {\n",
       "        text-align: right;\n",
       "    }\n",
       "</style>\n",
       "<table border=\"1\" class=\"dataframe\">\n",
       "  <thead>\n",
       "    <tr style=\"text-align: right;\">\n",
       "      <th></th>\n",
       "      <th>Id</th>\n",
       "      <th>Sepallengthcm</th>\n",
       "      <th>Sepalwidthcm</th>\n",
       "      <th>Petallengthcm</th>\n",
       "      <th>Petalwidthcm</th>\n",
       "      <th>Species</th>\n",
       "    </tr>\n",
       "  </thead>\n",
       "  <tbody>\n",
       "    <tr>\n",
       "      <th>0</th>\n",
       "      <td>1</td>\n",
       "      <td>5.1</td>\n",
       "      <td>3.5</td>\n",
       "      <td>1.4</td>\n",
       "      <td>0.2</td>\n",
       "      <td>Iris-setosa</td>\n",
       "    </tr>\n",
       "    <tr>\n",
       "      <th>1</th>\n",
       "      <td>2</td>\n",
       "      <td>4.9</td>\n",
       "      <td>3.0</td>\n",
       "      <td>1.4</td>\n",
       "      <td>0.2</td>\n",
       "      <td>Iris-setosa</td>\n",
       "    </tr>\n",
       "    <tr>\n",
       "      <th>2</th>\n",
       "      <td>3</td>\n",
       "      <td>4.7</td>\n",
       "      <td>3.2</td>\n",
       "      <td>1.3</td>\n",
       "      <td>0.2</td>\n",
       "      <td>Iris-setosa</td>\n",
       "    </tr>\n",
       "    <tr>\n",
       "      <th>3</th>\n",
       "      <td>4</td>\n",
       "      <td>4.6</td>\n",
       "      <td>3.1</td>\n",
       "      <td>1.5</td>\n",
       "      <td>0.2</td>\n",
       "      <td>Iris-setosa</td>\n",
       "    </tr>\n",
       "    <tr>\n",
       "      <th>4</th>\n",
       "      <td>5</td>\n",
       "      <td>5.0</td>\n",
       "      <td>3.6</td>\n",
       "      <td>1.4</td>\n",
       "      <td>0.2</td>\n",
       "      <td>Iris-setosa</td>\n",
       "    </tr>\n",
       "    <tr>\n",
       "      <th>...</th>\n",
       "      <td>...</td>\n",
       "      <td>...</td>\n",
       "      <td>...</td>\n",
       "      <td>...</td>\n",
       "      <td>...</td>\n",
       "      <td>...</td>\n",
       "    </tr>\n",
       "    <tr>\n",
       "      <th>145</th>\n",
       "      <td>146</td>\n",
       "      <td>6.7</td>\n",
       "      <td>3.0</td>\n",
       "      <td>5.2</td>\n",
       "      <td>2.3</td>\n",
       "      <td>Iris-virginica</td>\n",
       "    </tr>\n",
       "    <tr>\n",
       "      <th>146</th>\n",
       "      <td>147</td>\n",
       "      <td>6.3</td>\n",
       "      <td>2.5</td>\n",
       "      <td>5.0</td>\n",
       "      <td>1.9</td>\n",
       "      <td>Iris-virginica</td>\n",
       "    </tr>\n",
       "    <tr>\n",
       "      <th>147</th>\n",
       "      <td>148</td>\n",
       "      <td>6.5</td>\n",
       "      <td>3.0</td>\n",
       "      <td>5.2</td>\n",
       "      <td>2.0</td>\n",
       "      <td>Iris-virginica</td>\n",
       "    </tr>\n",
       "    <tr>\n",
       "      <th>148</th>\n",
       "      <td>149</td>\n",
       "      <td>6.2</td>\n",
       "      <td>3.4</td>\n",
       "      <td>5.4</td>\n",
       "      <td>2.3</td>\n",
       "      <td>Iris-virginica</td>\n",
       "    </tr>\n",
       "    <tr>\n",
       "      <th>149</th>\n",
       "      <td>150</td>\n",
       "      <td>5.9</td>\n",
       "      <td>3.0</td>\n",
       "      <td>5.1</td>\n",
       "      <td>1.8</td>\n",
       "      <td>Iris-virginica</td>\n",
       "    </tr>\n",
       "  </tbody>\n",
       "</table>\n",
       "<p>150 rows × 6 columns</p>\n",
       "</div>"
      ],
      "text/plain": [
       "      Id  Sepallengthcm  Sepalwidthcm  Petallengthcm  Petalwidthcm  \\\n",
       "0      1            5.1           3.5            1.4           0.2   \n",
       "1      2            4.9           3.0            1.4           0.2   \n",
       "2      3            4.7           3.2            1.3           0.2   \n",
       "3      4            4.6           3.1            1.5           0.2   \n",
       "4      5            5.0           3.6            1.4           0.2   \n",
       "..   ...            ...           ...            ...           ...   \n",
       "145  146            6.7           3.0            5.2           2.3   \n",
       "146  147            6.3           2.5            5.0           1.9   \n",
       "147  148            6.5           3.0            5.2           2.0   \n",
       "148  149            6.2           3.4            5.4           2.3   \n",
       "149  150            5.9           3.0            5.1           1.8   \n",
       "\n",
       "            Species  \n",
       "0       Iris-setosa  \n",
       "1       Iris-setosa  \n",
       "2       Iris-setosa  \n",
       "3       Iris-setosa  \n",
       "4       Iris-setosa  \n",
       "..              ...  \n",
       "145  Iris-virginica  \n",
       "146  Iris-virginica  \n",
       "147  Iris-virginica  \n",
       "148  Iris-virginica  \n",
       "149  Iris-virginica  \n",
       "\n",
       "[150 rows x 6 columns]"
      ]
     },
     "execution_count": 126,
     "metadata": {},
     "output_type": "execute_result"
    }
   ],
   "source": [
    "df_iris.rename(columns=str.title)"
   ]
  },
  {
   "cell_type": "code",
   "execution_count": 110,
   "metadata": {},
   "outputs": [
    {
     "data": {
      "text/plain": [
       "'cobb (1).xls'"
      ]
     },
     "execution_count": 110,
     "metadata": {},
     "output_type": "execute_result"
    }
   ],
   "source": [
    "url = 'https://github.com/bharathirajatut/sample-excel-dataset/raw/master/cobb.xls'\n",
    "\n",
    "wget.download(url,'cobb.xls')"
   ]
  },
  {
   "cell_type": "code",
   "execution_count": 121,
   "metadata": {},
   "outputs": [
    {
     "data": {
      "text/html": [
       "<div>\n",
       "<style scoped>\n",
       "    .dataframe tbody tr th:only-of-type {\n",
       "        vertical-align: middle;\n",
       "    }\n",
       "\n",
       "    .dataframe tbody tr th {\n",
       "        vertical-align: top;\n",
       "    }\n",
       "\n",
       "    .dataframe thead th {\n",
       "        text-align: right;\n",
       "    }\n",
       "</style>\n",
       "<table border=\"1\" class=\"dataframe\">\n",
       "  <thead>\n",
       "    <tr style=\"text-align: right;\">\n",
       "      <th></th>\n",
       "      <th>A</th>\n",
       "      <th>B</th>\n",
       "      <th>C</th>\n",
       "    </tr>\n",
       "  </thead>\n",
       "  <tbody>\n",
       "    <tr>\n",
       "      <th>0</th>\n",
       "      <td>10.100000</td>\n",
       "      <td>12.200000</td>\n",
       "      <td>11.000000</td>\n",
       "    </tr>\n",
       "    <tr>\n",
       "      <th>1</th>\n",
       "      <td>28.200001</td>\n",
       "      <td>30.200001</td>\n",
       "      <td>34.599998</td>\n",
       "    </tr>\n",
       "    <tr>\n",
       "      <th>2</th>\n",
       "      <td>24.000000</td>\n",
       "      <td>23.000000</td>\n",
       "      <td>21.900000</td>\n",
       "    </tr>\n",
       "    <tr>\n",
       "      <th>3</th>\n",
       "      <td>21.299999</td>\n",
       "      <td>22.299999</td>\n",
       "      <td>28.200001</td>\n",
       "    </tr>\n",
       "    <tr>\n",
       "      <th>4</th>\n",
       "      <td>14.300000</td>\n",
       "      <td>15.700000</td>\n",
       "      <td>14.700000</td>\n",
       "    </tr>\n",
       "    <tr>\n",
       "      <th>5</th>\n",
       "      <td>18.400000</td>\n",
       "      <td>20.799999</td>\n",
       "      <td>20.200001</td>\n",
       "    </tr>\n",
       "    <tr>\n",
       "      <th>6</th>\n",
       "      <td>10.000000</td>\n",
       "      <td>11.500000</td>\n",
       "      <td>9.700000</td>\n",
       "    </tr>\n",
       "    <tr>\n",
       "      <th>7</th>\n",
       "      <td>24.000000</td>\n",
       "      <td>25.900000</td>\n",
       "      <td>22.200001</td>\n",
       "    </tr>\n",
       "    <tr>\n",
       "      <th>8</th>\n",
       "      <td>20.299999</td>\n",
       "      <td>21.500000</td>\n",
       "      <td>17.299999</td>\n",
       "    </tr>\n",
       "    <tr>\n",
       "      <th>9</th>\n",
       "      <td>20.500000</td>\n",
       "      <td>22.400000</td>\n",
       "      <td>19.500000</td>\n",
       "    </tr>\n",
       "    <tr>\n",
       "      <th>10</th>\n",
       "      <td>12.200000</td>\n",
       "      <td>14.400000</td>\n",
       "      <td>13.600000</td>\n",
       "    </tr>\n",
       "    <tr>\n",
       "      <th>11</th>\n",
       "      <td>29.200001</td>\n",
       "      <td>29.500000</td>\n",
       "      <td>34.000000</td>\n",
       "    </tr>\n",
       "    <tr>\n",
       "      <th>12</th>\n",
       "      <td>25.500000</td>\n",
       "      <td>26.799999</td>\n",
       "      <td>35.099998</td>\n",
       "    </tr>\n",
       "    <tr>\n",
       "      <th>13</th>\n",
       "      <td>10.800000</td>\n",
       "      <td>12.700000</td>\n",
       "      <td>10.600000</td>\n",
       "    </tr>\n",
       "    <tr>\n",
       "      <th>14</th>\n",
       "      <td>19.900000</td>\n",
       "      <td>19.600000</td>\n",
       "      <td>18.600000</td>\n",
       "    </tr>\n",
       "    <tr>\n",
       "      <th>15</th>\n",
       "      <td>24.000000</td>\n",
       "      <td>25.000000</td>\n",
       "      <td>22.900000</td>\n",
       "    </tr>\n",
       "    <tr>\n",
       "      <th>16</th>\n",
       "      <td>23.200001</td>\n",
       "      <td>25.700001</td>\n",
       "      <td>27.400000</td>\n",
       "    </tr>\n",
       "    <tr>\n",
       "      <th>17</th>\n",
       "      <td>16.200001</td>\n",
       "      <td>18.000000</td>\n",
       "      <td>16.400000</td>\n",
       "    </tr>\n",
       "    <tr>\n",
       "      <th>18</th>\n",
       "      <td>19.400000</td>\n",
       "      <td>18.299999</td>\n",
       "      <td>22.000000</td>\n",
       "    </tr>\n",
       "    <tr>\n",
       "      <th>19</th>\n",
       "      <td>17.200001</td>\n",
       "      <td>19.700001</td>\n",
       "      <td>27.000000</td>\n",
       "    </tr>\n",
       "    <tr>\n",
       "      <th>20</th>\n",
       "      <td>25.000000</td>\n",
       "      <td>23.700001</td>\n",
       "      <td>27.100000</td>\n",
       "    </tr>\n",
       "    <tr>\n",
       "      <th>21</th>\n",
       "      <td>20.500000</td>\n",
       "      <td>21.200001</td>\n",
       "      <td>15.600000</td>\n",
       "    </tr>\n",
       "    <tr>\n",
       "      <th>22</th>\n",
       "      <td>22.100000</td>\n",
       "      <td>23.000000</td>\n",
       "      <td>13.200000</td>\n",
       "    </tr>\n",
       "    <tr>\n",
       "      <th>23</th>\n",
       "      <td>24.299999</td>\n",
       "      <td>26.299999</td>\n",
       "      <td>27.299999</td>\n",
       "    </tr>\n",
       "    <tr>\n",
       "      <th>24</th>\n",
       "      <td>20.799999</td>\n",
       "      <td>22.600000</td>\n",
       "      <td>15.400000</td>\n",
       "    </tr>\n",
       "    <tr>\n",
       "      <th>25</th>\n",
       "      <td>28.900000</td>\n",
       "      <td>30.500000</td>\n",
       "      <td>30.600000</td>\n",
       "    </tr>\n",
       "    <tr>\n",
       "      <th>26</th>\n",
       "      <td>28.100000</td>\n",
       "      <td>28.600000</td>\n",
       "      <td>24.400000</td>\n",
       "    </tr>\n",
       "    <tr>\n",
       "      <th>27</th>\n",
       "      <td>27.900000</td>\n",
       "      <td>26.700001</td>\n",
       "      <td>36.099998</td>\n",
       "    </tr>\n",
       "    <tr>\n",
       "      <th>28</th>\n",
       "      <td>20.700001</td>\n",
       "      <td>21.700001</td>\n",
       "      <td>24.799999</td>\n",
       "    </tr>\n",
       "    <tr>\n",
       "      <th>29</th>\n",
       "      <td>17.100000</td>\n",
       "      <td>18.500000</td>\n",
       "      <td>21.000000</td>\n",
       "    </tr>\n",
       "    <tr>\n",
       "      <th>30</th>\n",
       "      <td>11.100000</td>\n",
       "      <td>13.500000</td>\n",
       "      <td>10.200000</td>\n",
       "    </tr>\n",
       "    <tr>\n",
       "      <th>31</th>\n",
       "      <td>11.700000</td>\n",
       "      <td>13.400000</td>\n",
       "      <td>20.400000</td>\n",
       "    </tr>\n",
       "    <tr>\n",
       "      <th>32</th>\n",
       "      <td>15.400000</td>\n",
       "      <td>15.700000</td>\n",
       "      <td>14.300000</td>\n",
       "    </tr>\n",
       "  </tbody>\n",
       "</table>\n",
       "</div>"
      ],
      "text/plain": [
       "            A          B          C\n",
       "0   10.100000  12.200000  11.000000\n",
       "1   28.200001  30.200001  34.599998\n",
       "2   24.000000  23.000000  21.900000\n",
       "3   21.299999  22.299999  28.200001\n",
       "4   14.300000  15.700000  14.700000\n",
       "5   18.400000  20.799999  20.200001\n",
       "6   10.000000  11.500000   9.700000\n",
       "7   24.000000  25.900000  22.200001\n",
       "8   20.299999  21.500000  17.299999\n",
       "9   20.500000  22.400000  19.500000\n",
       "10  12.200000  14.400000  13.600000\n",
       "11  29.200001  29.500000  34.000000\n",
       "12  25.500000  26.799999  35.099998\n",
       "13  10.800000  12.700000  10.600000\n",
       "14  19.900000  19.600000  18.600000\n",
       "15  24.000000  25.000000  22.900000\n",
       "16  23.200001  25.700001  27.400000\n",
       "17  16.200001  18.000000  16.400000\n",
       "18  19.400000  18.299999  22.000000\n",
       "19  17.200001  19.700001  27.000000\n",
       "20  25.000000  23.700001  27.100000\n",
       "21  20.500000  21.200001  15.600000\n",
       "22  22.100000  23.000000  13.200000\n",
       "23  24.299999  26.299999  27.299999\n",
       "24  20.799999  22.600000  15.400000\n",
       "25  28.900000  30.500000  30.600000\n",
       "26  28.100000  28.600000  24.400000\n",
       "27  27.900000  26.700001  36.099998\n",
       "28  20.700001  21.700001  24.799999\n",
       "29  17.100000  18.500000  21.000000\n",
       "30  11.100000  13.500000  10.200000\n",
       "31  11.700000  13.400000  20.400000\n",
       "32  15.400000  15.700000  14.300000"
      ]
     },
     "execution_count": 121,
     "metadata": {},
     "output_type": "execute_result"
    }
   ],
   "source": [
    "df_cobb = pd.read_excel('cobb.xls')\n",
    "\n",
    "# mengubah nama kolom\n",
    "df_cobb.columns = ['A','B','C']\n",
    "\n",
    "df_cobb"
   ]
  },
  {
   "cell_type": "markdown",
   "metadata": {
    "id": "RJOK90Ge128V"
   },
   "source": [
    "Ketika kita tidak ingin nama kolom (header) dibaca, kita menggunakan `header=None`."
   ]
  },
  {
   "cell_type": "code",
   "execution_count": 115,
   "metadata": {
    "colab": {
     "base_uri": "https://localhost:8080/"
    },
    "id": "vLRHp1QOatUH",
    "outputId": "57a059c9-26bf-4349-956a-122c2a8ea08c"
   },
   "outputs": [
    {
     "data": {
      "text/html": [
       "<div>\n",
       "<style scoped>\n",
       "    .dataframe tbody tr th:only-of-type {\n",
       "        vertical-align: middle;\n",
       "    }\n",
       "\n",
       "    .dataframe tbody tr th {\n",
       "        vertical-align: top;\n",
       "    }\n",
       "\n",
       "    .dataframe thead th {\n",
       "        text-align: right;\n",
       "    }\n",
       "</style>\n",
       "<table border=\"1\" class=\"dataframe\">\n",
       "  <thead>\n",
       "    <tr style=\"text-align: right;\">\n",
       "      <th></th>\n",
       "      <th>0</th>\n",
       "      <th>1</th>\n",
       "      <th>2</th>\n",
       "    </tr>\n",
       "  </thead>\n",
       "  <tbody>\n",
       "    <tr>\n",
       "      <th>0</th>\n",
       "      <td>K</td>\n",
       "      <td>L</td>\n",
       "      <td>Q</td>\n",
       "    </tr>\n",
       "    <tr>\n",
       "      <th>1</th>\n",
       "      <td>10.1</td>\n",
       "      <td>12.2</td>\n",
       "      <td>11</td>\n",
       "    </tr>\n",
       "    <tr>\n",
       "      <th>2</th>\n",
       "      <td>28.200001</td>\n",
       "      <td>30.200001</td>\n",
       "      <td>34.599998</td>\n",
       "    </tr>\n",
       "    <tr>\n",
       "      <th>3</th>\n",
       "      <td>24</td>\n",
       "      <td>23</td>\n",
       "      <td>21.9</td>\n",
       "    </tr>\n",
       "    <tr>\n",
       "      <th>4</th>\n",
       "      <td>21.299999</td>\n",
       "      <td>22.299999</td>\n",
       "      <td>28.200001</td>\n",
       "    </tr>\n",
       "    <tr>\n",
       "      <th>5</th>\n",
       "      <td>14.3</td>\n",
       "      <td>15.7</td>\n",
       "      <td>14.7</td>\n",
       "    </tr>\n",
       "    <tr>\n",
       "      <th>6</th>\n",
       "      <td>18.4</td>\n",
       "      <td>20.799999</td>\n",
       "      <td>20.200001</td>\n",
       "    </tr>\n",
       "    <tr>\n",
       "      <th>7</th>\n",
       "      <td>10</td>\n",
       "      <td>11.5</td>\n",
       "      <td>9.7</td>\n",
       "    </tr>\n",
       "    <tr>\n",
       "      <th>8</th>\n",
       "      <td>24</td>\n",
       "      <td>25.9</td>\n",
       "      <td>22.200001</td>\n",
       "    </tr>\n",
       "    <tr>\n",
       "      <th>9</th>\n",
       "      <td>20.299999</td>\n",
       "      <td>21.5</td>\n",
       "      <td>17.299999</td>\n",
       "    </tr>\n",
       "    <tr>\n",
       "      <th>10</th>\n",
       "      <td>20.5</td>\n",
       "      <td>22.4</td>\n",
       "      <td>19.5</td>\n",
       "    </tr>\n",
       "    <tr>\n",
       "      <th>11</th>\n",
       "      <td>12.2</td>\n",
       "      <td>14.4</td>\n",
       "      <td>13.6</td>\n",
       "    </tr>\n",
       "    <tr>\n",
       "      <th>12</th>\n",
       "      <td>29.200001</td>\n",
       "      <td>29.5</td>\n",
       "      <td>34</td>\n",
       "    </tr>\n",
       "    <tr>\n",
       "      <th>13</th>\n",
       "      <td>25.5</td>\n",
       "      <td>26.799999</td>\n",
       "      <td>35.099998</td>\n",
       "    </tr>\n",
       "    <tr>\n",
       "      <th>14</th>\n",
       "      <td>10.8</td>\n",
       "      <td>12.7</td>\n",
       "      <td>10.6</td>\n",
       "    </tr>\n",
       "    <tr>\n",
       "      <th>15</th>\n",
       "      <td>19.9</td>\n",
       "      <td>19.6</td>\n",
       "      <td>18.6</td>\n",
       "    </tr>\n",
       "    <tr>\n",
       "      <th>16</th>\n",
       "      <td>24</td>\n",
       "      <td>25</td>\n",
       "      <td>22.9</td>\n",
       "    </tr>\n",
       "    <tr>\n",
       "      <th>17</th>\n",
       "      <td>23.200001</td>\n",
       "      <td>25.700001</td>\n",
       "      <td>27.4</td>\n",
       "    </tr>\n",
       "    <tr>\n",
       "      <th>18</th>\n",
       "      <td>16.200001</td>\n",
       "      <td>18</td>\n",
       "      <td>16.4</td>\n",
       "    </tr>\n",
       "    <tr>\n",
       "      <th>19</th>\n",
       "      <td>19.4</td>\n",
       "      <td>18.299999</td>\n",
       "      <td>22</td>\n",
       "    </tr>\n",
       "    <tr>\n",
       "      <th>20</th>\n",
       "      <td>17.200001</td>\n",
       "      <td>19.700001</td>\n",
       "      <td>27</td>\n",
       "    </tr>\n",
       "    <tr>\n",
       "      <th>21</th>\n",
       "      <td>25</td>\n",
       "      <td>23.700001</td>\n",
       "      <td>27.1</td>\n",
       "    </tr>\n",
       "    <tr>\n",
       "      <th>22</th>\n",
       "      <td>20.5</td>\n",
       "      <td>21.200001</td>\n",
       "      <td>15.6</td>\n",
       "    </tr>\n",
       "    <tr>\n",
       "      <th>23</th>\n",
       "      <td>22.1</td>\n",
       "      <td>23</td>\n",
       "      <td>13.2</td>\n",
       "    </tr>\n",
       "    <tr>\n",
       "      <th>24</th>\n",
       "      <td>24.299999</td>\n",
       "      <td>26.299999</td>\n",
       "      <td>27.299999</td>\n",
       "    </tr>\n",
       "    <tr>\n",
       "      <th>25</th>\n",
       "      <td>20.799999</td>\n",
       "      <td>22.6</td>\n",
       "      <td>15.4</td>\n",
       "    </tr>\n",
       "    <tr>\n",
       "      <th>26</th>\n",
       "      <td>28.9</td>\n",
       "      <td>30.5</td>\n",
       "      <td>30.6</td>\n",
       "    </tr>\n",
       "    <tr>\n",
       "      <th>27</th>\n",
       "      <td>28.1</td>\n",
       "      <td>28.6</td>\n",
       "      <td>24.4</td>\n",
       "    </tr>\n",
       "    <tr>\n",
       "      <th>28</th>\n",
       "      <td>27.9</td>\n",
       "      <td>26.700001</td>\n",
       "      <td>36.099998</td>\n",
       "    </tr>\n",
       "    <tr>\n",
       "      <th>29</th>\n",
       "      <td>20.700001</td>\n",
       "      <td>21.700001</td>\n",
       "      <td>24.799999</td>\n",
       "    </tr>\n",
       "    <tr>\n",
       "      <th>30</th>\n",
       "      <td>17.1</td>\n",
       "      <td>18.5</td>\n",
       "      <td>21</td>\n",
       "    </tr>\n",
       "    <tr>\n",
       "      <th>31</th>\n",
       "      <td>11.1</td>\n",
       "      <td>13.5</td>\n",
       "      <td>10.2</td>\n",
       "    </tr>\n",
       "    <tr>\n",
       "      <th>32</th>\n",
       "      <td>11.7</td>\n",
       "      <td>13.4</td>\n",
       "      <td>20.4</td>\n",
       "    </tr>\n",
       "    <tr>\n",
       "      <th>33</th>\n",
       "      <td>15.4</td>\n",
       "      <td>15.7</td>\n",
       "      <td>14.3</td>\n",
       "    </tr>\n",
       "  </tbody>\n",
       "</table>\n",
       "</div>"
      ],
      "text/plain": [
       "            0          1          2\n",
       "0           K          L          Q\n",
       "1        10.1       12.2         11\n",
       "2   28.200001  30.200001  34.599998\n",
       "3          24         23       21.9\n",
       "4   21.299999  22.299999  28.200001\n",
       "5        14.3       15.7       14.7\n",
       "6        18.4  20.799999  20.200001\n",
       "7          10       11.5        9.7\n",
       "8          24       25.9  22.200001\n",
       "9   20.299999       21.5  17.299999\n",
       "10       20.5       22.4       19.5\n",
       "11       12.2       14.4       13.6\n",
       "12  29.200001       29.5         34\n",
       "13       25.5  26.799999  35.099998\n",
       "14       10.8       12.7       10.6\n",
       "15       19.9       19.6       18.6\n",
       "16         24         25       22.9\n",
       "17  23.200001  25.700001       27.4\n",
       "18  16.200001         18       16.4\n",
       "19       19.4  18.299999         22\n",
       "20  17.200001  19.700001         27\n",
       "21         25  23.700001       27.1\n",
       "22       20.5  21.200001       15.6\n",
       "23       22.1         23       13.2\n",
       "24  24.299999  26.299999  27.299999\n",
       "25  20.799999       22.6       15.4\n",
       "26       28.9       30.5       30.6\n",
       "27       28.1       28.6       24.4\n",
       "28       27.9  26.700001  36.099998\n",
       "29  20.700001  21.700001  24.799999\n",
       "30       17.1       18.5         21\n",
       "31       11.1       13.5       10.2\n",
       "32       11.7       13.4       20.4\n",
       "33       15.4       15.7       14.3"
      ]
     },
     "execution_count": 115,
     "metadata": {},
     "output_type": "execute_result"
    }
   ],
   "source": [
    "df_cobb = pd.read_excel('cobb.xls', header=None)\n",
    "\n",
    "df_cobb"
   ]
  },
  {
   "cell_type": "markdown",
   "metadata": {
    "id": "8lFEe263bmVc",
    "slideshow": {
     "slide_type": "slide"
    }
   },
   "source": [
    "# Thank You !!!\n"
   ]
  }
 ],
 "metadata": {
  "celltoolbar": "Slideshow",
  "colab": {
   "collapsed_sections": [],
   "name": "Module3_Section1_Lab1_Data_Manipultion_With_Pandas.ipynb",
   "provenance": []
  },
  "kernelspec": {
   "display_name": "Python 3 (ipykernel)",
   "language": "python",
   "name": "python3"
  },
  "language_info": {
   "codemirror_mode": {
    "name": "ipython",
    "version": 3
   },
   "file_extension": ".py",
   "mimetype": "text/x-python",
   "name": "python",
   "nbconvert_exporter": "python",
   "pygments_lexer": "ipython3",
   "version": "3.9.7"
  }
 },
 "nbformat": 4,
 "nbformat_minor": 1
}
