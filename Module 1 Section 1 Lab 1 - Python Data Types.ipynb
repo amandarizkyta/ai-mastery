{
 "cells": [
  {
   "cell_type": "markdown",
   "metadata": {},
   "source": [
    "# Module 1 Section 1 Lab 1 - Python Data Types"
   ]
  },
  {
   "cell_type": "markdown",
   "metadata": {},
   "source": [
    "# Numbers, Type Conversion, Math\n",
    "\n",
    "## Numbers\n",
    "Bilangan *integer*, *floating point*, dan *complex* termasuk dalam kategori bilangan Python yang didefinisikan sebagai kelas `int`, `float` dan `complex`. *Integer* dan *floating point* dipisahkan oleh ada atau tidaknya titik desimal. Misalnya, 5 adalah *integer* sedangkan 5.0 adalah *floating-point*. Bilangan *complex* ditulis dalam bentuk, `x + yj`, di mana `x` adalah bagian real dan `y` adalah bagian imajiner.\n",
    "\n",
    "Kita dapat menggunakan fungsi `type()` untuk mengetahui tipe data suatu variabel. Demikian pula, fungsi `isinstance()` digunakan untuk memeriksa apakah suatu objek milik kelas tertentu."
   ]
  },
  {
   "cell_type": "code",
   "execution_count": 2,
   "metadata": {},
   "outputs": [
    {
     "name": "stdout",
     "output_type": "stream",
     "text": [
      "<class 'int'>\n",
      "<class 'float'>\n",
      "(9+3j)\n",
      "True\n"
     ]
    }
   ],
   "source": [
    "a = 5               # type integer\n",
    "b = 5.0             # type float\n",
    "c = 6 + 3j          # type complex\n",
    "\n",
    "print(type(a))      \n",
    "print(type(b))      \n",
    "\n",
    "print(c + 3)\n",
    "print(isinstance(c, complex))"
   ]
  },
  {
   "cell_type": "markdown",
   "metadata": {},
   "source": [
    "Bilangan *integer* dapat memiliki panjang berapa pun, tetapi dibatasi oleh memori yang tersedia.\n",
    "\n",
    "Angka-angka yang kita tangani setiap hari adalah sistem angka desimal (basis 10). Tetapi pemrograman komputer (umumnya *embedded programming*) perlu bekerja dengan sistem bilangan biner (basis 2), heksadesimal (basis 16) dan oktal (basis 8).\n",
    "\n",
    "Dalam Python, kita dapat merepresentasikan angka-angka ini dengan menempatkan awalan yang tepat sebelum angka itu. Perhatikan Tabel berikut ini.\n",
    "\n",
    "| Number System | Prefix |\n",
    "|:----| :--- |\n",
    "| **`Binary`** |   '0b' or '0B' | \n",
    "| **`Octal`** |   '0o' or '0O' | \n",
    "| **`Hexadecimal`** |   '0x' or '0X' | "
   ]
  },
  {
   "cell_type": "code",
   "execution_count": 3,
   "metadata": {},
   "outputs": [
    {
     "name": "stdout",
     "output_type": "stream",
     "text": [
      "1\n",
      "10\n",
      "10\n"
     ]
    }
   ],
   "source": [
    "# Output: 1\n",
    "print(0b0001)  # 0001 in binary is 1 in decimal and i have use prefix '0b'\n",
    "\n",
    "# Output: 10  \n",
    "print(0o12)    # 12 in octadecimal is 10 in decimal and i have use prefix '0o'\n",
    "\n",
    "# Output: 10\n",
    "print(0x000A)  # 000A in hexadecimal is 10 in decimal and i have use prefix '0x'"
   ]
  },
  {
   "cell_type": "markdown",
   "metadata": {},
   "source": [
    "## Type Conversion\n",
    "Kita dapat mengubah satu jenis angka menjadi yang lain. Ini juga dikenal sebagai paksaan. Operasi seperti penambahan, pengurangan memaksa *integer* untuk menjadi *floating point* secara implisit (otomatis), jika salah satu operan adalah *float*."
   ]
  },
  {
   "cell_type": "code",
   "execution_count": 4,
   "metadata": {},
   "outputs": [
    {
     "data": {
      "text/plain": [
       "4.0"
      ]
     },
     "execution_count": 4,
     "metadata": {},
     "output_type": "execute_result"
    }
   ],
   "source": [
    "1 + 3.0  # Menambahkan integer dan float menghasilkan float"
   ]
  },
  {
   "cell_type": "markdown",
   "metadata": {},
   "source": [
    "Kita bisa lihat di atas bahwa 1 (integer) dipaksa menjadi 1.0 (float) untuk penjumlahan dan hasilnya juga bilangan *floating point*. Kita juga dapat menggunakan fungsi bawaan seperti `int()`, `float()` dan `complex()` untuk mengonversi tipe data secara eksplisit. Fungsi-fungsi ini bahkan dapat mengkonversi dari string."
   ]
  },
  {
   "cell_type": "code",
   "execution_count": 5,
   "metadata": {},
   "outputs": [
    {
     "data": {
      "text/plain": [
       "6"
      ]
     },
     "execution_count": 5,
     "metadata": {},
     "output_type": "execute_result"
    }
   ],
   "source": [
    "int(6.5)"
   ]
  },
  {
   "cell_type": "code",
   "execution_count": 6,
   "metadata": {},
   "outputs": [
    {
     "data": {
      "text/plain": [
       "-2"
      ]
     },
     "execution_count": 6,
     "metadata": {},
     "output_type": "execute_result"
    }
   ],
   "source": [
    "int(-2.7)"
   ]
  },
  {
   "cell_type": "code",
   "execution_count": 7,
   "metadata": {},
   "outputs": [
    {
     "data": {
      "text/plain": [
       "5.0"
      ]
     },
     "execution_count": 7,
     "metadata": {},
     "output_type": "execute_result"
    }
   ],
   "source": [
    "float(5)"
   ]
  },
  {
   "cell_type": "code",
   "execution_count": 8,
   "metadata": {},
   "outputs": [
    {
     "name": "stdout",
     "output_type": "stream",
     "text": [
      "1234567890123456789\n",
      "0.12345678901234568\n",
      "(1+2j)\n"
     ]
    }
   ],
   "source": [
    "a = 1234567890123456789\n",
    "print (a)\n",
    "\n",
    "b = 0.1234567890123456789     # Hanya 17 angka setelah desimal yang dapat dicetak\n",
    "print (b)\n",
    "\n",
    "c = 1+2j\n",
    "print (c)"
   ]
  },
  {
   "cell_type": "markdown",
   "metadata": {},
   "source": [
    "Saat mengonversi dari *float* ke *integer*, nomor akan terpotong (bagian desimal dihapus)."
   ]
  },
  {
   "cell_type": "code",
   "execution_count": 9,
   "metadata": {},
   "outputs": [
    {
     "data": {
      "text/plain": [
       "(3+6j)"
      ]
     },
     "execution_count": 9,
     "metadata": {},
     "output_type": "execute_result"
    }
   ],
   "source": [
    "complex('3+6j')"
   ]
  },
  {
   "cell_type": "markdown",
   "metadata": {},
   "source": [
    "## Python Decimal\n",
    "*Float* pada Python melakukan beberapa perhitungan yang mungkin membuat kita takjub. Kita semua tahu bahwa jumlah 1.1 dan 2.2 adalah 3.3, tetapi Python tampaknya tidak setuju."
   ]
  },
  {
   "cell_type": "code",
   "execution_count": 10,
   "metadata": {},
   "outputs": [
    {
     "data": {
      "text/plain": [
       "False"
      ]
     },
     "execution_count": 10,
     "metadata": {},
     "output_type": "execute_result"
    }
   ],
   "source": [
    "(1.1 + 2.2) == 3.3  # Jawabannya seharusnya True"
   ]
  },
  {
   "cell_type": "markdown",
   "metadata": {},
   "source": [
    "**Apa yang terjadi?**\n",
    "\n",
    "Bilangan *floating-point* diimplementasikan pada perangkat keras komputer sebagai pecahan biner karena komputer hanya memahami biner (0 dan 1). Karena alasan ini, sebagian besar pecahan desimal yang kita ketahui, tidak dapat disimpan secara akurat di komputer kita.\n",
    "\n",
    "Mari kita ambil contoh. Kita tidak dapat menyatakan pecahan 1/3 sebagai bilangan desimal. Ini akan memberikan 0.33333333 yang panjangnya tak terhingga, dan kita hanya dapat memperkirakannya.\n",
    "\n",
    "Ternyata, pecahan desimal 0.1 akan menghasilkan pecahan biner yang panjangnya tak terhingga dari 0.000110011001100110011 dan komputer kita hanya menyimpannya dalam jumlah terbatas. Ini hanya akan mendekati 0.1 tetapi tidak pernah sama. Oleh karena itu, ini adalah keterbatasan perangkat keras komputer kita dan bukan kesalahan dalam Python."
   ]
  },
  {
   "cell_type": "code",
   "execution_count": 11,
   "metadata": {},
   "outputs": [
    {
     "data": {
      "text/plain": [
       "3.3000000000000003"
      ]
     },
     "execution_count": 11,
     "metadata": {},
     "output_type": "execute_result"
    }
   ],
   "source": [
    "1.1 + 2.2"
   ]
  },
  {
   "cell_type": "markdown",
   "metadata": {},
   "source": [
    "Untuk mengatasi masalah ini, kita dapat menggunakan modul desimal yang disertakan Python. Sementara *floating-point* memiliki presisi hingga 15 tempat desimal, modul `desimal` memiliki presisi yang dapat diatur pengguna. Mari kita lihat perbedaannya."
   ]
  },
  {
   "cell_type": "code",
   "execution_count": 12,
   "metadata": {},
   "outputs": [
    {
     "name": "stdout",
     "output_type": "stream",
     "text": [
      "0.1\n",
      "0.1000000000000000055511151231257827021181583404541015625\n"
     ]
    }
   ],
   "source": [
    "import decimal\n",
    "\n",
    "print(0.1)\n",
    "print(decimal.Decimal(0.1))"
   ]
  },
  {
   "cell_type": "markdown",
   "metadata": {},
   "source": [
    "Modul ini digunakan ketika kita ingin melakukan perhitungan desimal seperti yang kita pelajari di sekolah. Ini juga mempertahankan signifikansi. Kita tahu 25.50 kg lebih akurat daripada 25.5 kg karena memiliki dua tempat desimal yang signifikan dibandingkan dengan satu desimal."
   ]
  },
  {
   "cell_type": "code",
   "execution_count": 14,
   "metadata": {},
   "outputs": [
    {
     "name": "stdout",
     "output_type": "stream",
     "text": [
      "3.3\n",
      "3.000\n"
     ]
    }
   ],
   "source": [
    "from decimal import Decimal\n",
    "\n",
    "print(Decimal('1.1') + Decimal('2.2'))\n",
    "print(Decimal('1.2') * Decimal('2.50'))"
   ]
  },
  {
   "cell_type": "markdown",
   "metadata": {},
   "source": [
    "Perhatikan angka nol pada contoh di atas. Kita mungkin bertanya, mengapa tidak mengimplementasikan `Decimal` setiap saat, bukan *float*? Alasan utamanya adalah efisiensi. Operasi *floating point* yang dilakukan harus lebih cepat dari operasi `Decimal`.\n",
    "\n",
    "**Kapan menggunakan Decimal daripada float?** Kita biasanya menggunakan dalam kasus berikut:\n",
    "1. Saat kita membuat aplikasi keuangan yang membutuhkan representasi desimal yang tepat.\n",
    "2. Saat kita ingin mengontrol tingkat presisi yang dibutuhkan.\n",
    "3. Ketika kita ingin menerapkan gagasan tempat desimal yang signifikan."
   ]
  },
  {
   "cell_type": "markdown",
   "metadata": {},
   "source": [
    "## Python Fractions\n",
    "Python menyediakan operasi yang melibatkan bilangan pecahan melalui modul `fractions`. Pecahan memiliki pembilang dan penyebut, keduanya bilangan bulat. Modul ini memiliki dukungan untuk aritmatika bilangan rasional. Kita dapat membuat objek Pecahan dengan berbagai cara."
   ]
  },
  {
   "cell_type": "code",
   "execution_count": 15,
   "metadata": {},
   "outputs": [
    {
     "name": "stdout",
     "output_type": "stream",
     "text": [
      "3/2\n",
      "9\n",
      "1/6\n"
     ]
    }
   ],
   "source": [
    "import fractions\n",
    "\n",
    "print(fractions.Fraction(1.5))\n",
    "print(fractions.Fraction(9))\n",
    "print(fractions.Fraction(1,6))"
   ]
  },
  {
   "cell_type": "markdown",
   "metadata": {},
   "source": [
    "Saat membuat `Fraction` dari *float*, kita mungkin mendapatkan beberapa hasil yang tidak biasa. Hal ini disebabkan oleh representasi bilangan *floating point* biner yang tidak sempurna seperti yang telah dibahas pada bagian sebelumnya.\n",
    "\n",
    "Untungnya, `Fraction` memungkinkan kita untuk membuat *instance* dengan string juga. Ini adalah pilihan yang lebih disukai saat menggunakan angka desimal."
   ]
  },
  {
   "cell_type": "code",
   "execution_count": 16,
   "metadata": {},
   "outputs": [
    {
     "name": "stdout",
     "output_type": "stream",
     "text": [
      "2476979795053773/2251799813685248\n",
      "11/10\n"
     ]
    }
   ],
   "source": [
    "import fractions\n",
    "\n",
    "# As float\n",
    "# Output: 2476979795053773/2251799813685248\n",
    "print(fractions.Fraction(1.1))      # 1.1 is a number\n",
    "\n",
    "# As string\n",
    "# Output: 11/10\n",
    "print(fractions.Fraction('1.1'))    #'1.1' is a string and not a number"
   ]
  },
  {
   "cell_type": "markdown",
   "metadata": {},
   "source": [
    "Tipe data ini juga mendukung semua operasi dasar. Berikut adalah beberapa contohnya."
   ]
  },
  {
   "cell_type": "code",
   "execution_count": 17,
   "metadata": {},
   "outputs": [
    {
     "name": "stdout",
     "output_type": "stream",
     "text": [
      "5854679515581645/2251799813685248\n",
      "2/3\n",
      "6/5\n",
      "False\n",
      "True\n"
     ]
    }
   ],
   "source": [
    "from fractions import Fraction as F\n",
    "\n",
    "print(F(1.3) + F(1.3))\n",
    "print(F(1, 3) + F(1, 3))\n",
    "print(1 / F(5, 6))\n",
    "print(F(-3, 10) > 0)\n",
    "print(F(-3, 10) < 0)"
   ]
  },
  {
   "cell_type": "markdown",
   "metadata": {},
   "source": [
    "## Python Mathematics\n",
    "Python menawarkan modul seperti `math` dan `random` untuk melakukan berbagai operasi matematika seperti trigonometri, logaritma, probabilitas dan statistik, dll."
   ]
  },
  {
   "cell_type": "code",
   "execution_count": 18,
   "metadata": {},
   "outputs": [
    {
     "name": "stdout",
     "output_type": "stream",
     "text": [
      "3.141592653589793\n",
      "-1.0\n",
      "22026.465794806718\n",
      "3.0\n",
      "1.1752011936438014\n",
      "720\n"
     ]
    }
   ],
   "source": [
    "import math\n",
    "\n",
    "print(math.pi)\n",
    "print(math.cos(math.pi))    # cos(pi) = -1\n",
    "print(math.exp(10))\n",
    "print(math.log10(1000))     # log10(1000) = 3\n",
    "print(math.sinh(1))\n",
    "print(math.factorial(6))"
   ]
  },
  {
   "cell_type": "code",
   "execution_count": 19,
   "metadata": {},
   "outputs": [
    {
     "name": "stdout",
     "output_type": "stream",
     "text": [
      "11\n",
      "d\n",
      "['e', 'd', 'b', 'c', 'a']\n",
      "0.7591236078275825\n"
     ]
    }
   ],
   "source": [
    "import random\n",
    "\n",
    "print(random.randrange(10, 20))\n",
    "\n",
    "x = ['a', 'b', 'c', 'd', 'e']       # x is a list class of variable and it has 5 elements.\n",
    "\n",
    "# Get random choice\n",
    "print(random.choice(x))\n",
    "\n",
    "# Shuffle x\n",
    "random.shuffle(x)\n",
    "\n",
    "# Print the shuffled x\n",
    "print(x)\n",
    "\n",
    "# Print random element\n",
    "print(random.random())"
   ]
  },
  {
   "cell_type": "markdown",
   "metadata": {},
   "source": [
    "# Strings\n",
    "Sebuah string adalah urutan karakter. String digunakan untuk menangani data tekstual pada python.\n",
    "\n",
    "Komputer tidak berurusan dengan karakter, tetapi berurusan dengan angka (biner). Meskipun kita melihat karakter di layar, secara internal itu disimpan dan dimanipulasi sebagai kombinasi angka 0 dan 1. Konversi karakter ke angka disebut encoding dan proses sebaliknya adalah decoding. ASCII dan Unicode adalah beberapa pengkodean populer yang digunakan.\n",
    "\n",
    "Dalam Python, string adalah urutan karakter Unicode. Unicode diperkenalkan untuk memasukkan setiap karakter dalam semua bahasa dan membawa keseragaman dalam pengkodean. Unicode ini berkisar dari **$0_{hex}$** hingga **$10FFFF_{hex}$**. Biasanya, sebuah Unicode dirujuk dengan menulis **\"U+\"** diikuti dengan angka **heksadesimal**-nya. Jadi string dalam Python adalah urutan nilai Unicode. \n",
    "\n",
    "https://docs.python.org/3.3/howto/unicode.html\n",
    "\n",
    "<img src='https://raw.githubusercontent.com/milaan9/02_Python_Datatypes/f7bc7d7caed16f357cc712630b562182355e072b/img/s0.png' width=800></img>\n",
    "\n",
    "String dapat dibuat dengan melampirkan karakter di dalam tanda kutip tunggal atau tanda kutip ganda. Bahkan tanda kutip tiga dapat digunakan dalam Python tetapi umumnya digunakan untuk mewakili string multiline dan docstring."
   ]
  },
  {
   "cell_type": "code",
   "execution_count": 1,
   "metadata": {},
   "outputs": [
    {
     "name": "stdout",
     "output_type": "stream",
     "text": [
      "999\n",
      "<class 'int'>\n",
      "999\n",
      "<class 'str'>\n"
     ]
    }
   ],
   "source": [
    "print(999)          \n",
    "print(type(999))    \n",
    "\n",
    "print('999')        \n",
    "print(type('999'))"
   ]
  },
  {
   "cell_type": "code",
   "execution_count": 2,
   "metadata": {},
   "outputs": [
    {
     "name": "stdout",
     "output_type": "stream",
     "text": [
      "Hello\n",
      "Hello\n",
      "Hello\n",
      "Hello, welcome to\n",
      "           the world of Python\n"
     ]
    }
   ],
   "source": [
    "my_string = 'Hello'\n",
    "print(my_string)    \n",
    "\n",
    "my_string = \"Hello\"\n",
    "print(my_string) \n",
    "\n",
    "my_string = '''Hello'''\n",
    "print(my_string)\n",
    "\n",
    "# triple quotes string can extend multiple lines\n",
    "my_string = \"\"\"Hello, welcome to\n",
    "           the world of Python\"\"\"\n",
    "print(my_string)     "
   ]
  },
  {
   "cell_type": "code",
   "execution_count": 3,
   "metadata": {},
   "outputs": [
    {
     "name": "stdout",
     "output_type": "stream",
     "text": [
      "I am a resarcher cum teacher and I enjoy teaching.\n",
      "I didn't find anything as rewarding as empowering people.\n",
      "That's why I created this repository.\n"
     ]
    }
   ],
   "source": [
    "# Multiline String\n",
    "\n",
    "multiline_string = '''I am a resarcher, teacher and I enjoy teaching.\n",
    "I didn't find anything as rewarding as empowering people.\n",
    "That's why I created this repository.'''\n",
    "\n",
    "print(multiline_string)"
   ]
  },
  {
   "cell_type": "code",
   "execution_count": 4,
   "metadata": {},
   "outputs": [
    {
     "name": "stdout",
     "output_type": "stream",
     "text": [
      "I am a researcher cum teacher and I enjoy teaching.\n",
      "I didn't find anything as rewarding as empowering people.\n",
      "That's why I created this repository.\n"
     ]
    }
   ],
   "source": [
    "# Another way of doing the same thing\n",
    "\n",
    "multiline_string = \"\"\"I am a researcher cum teacher and I enjoy teaching.\n",
    "I didn't find anything as rewarding as empowering people.\n",
    "That's why I created this repository.\"\"\"\n",
    "\n",
    "print(multiline_string)"
   ]
  },
  {
   "cell_type": "code",
   "execution_count": 5,
   "metadata": {},
   "outputs": [
    {
     "name": "stdout",
     "output_type": "stream",
     "text": [
      "P\n",
      "y\n",
      "t\n",
      "h\n",
      "o\n",
      "n\n"
     ]
    },
    {
     "ename": "NameError",
     "evalue": "name 'h' is not defined",
     "output_type": "error",
     "traceback": [
      "\u001b[1;31m---------------------------------------------------------------------------\u001b[0m",
      "\u001b[1;31mNameError\u001b[0m                                 Traceback (most recent call last)",
      "\u001b[1;32m<ipython-input-5-fb1c4806a454>\u001b[0m in \u001b[0;36m<module>\u001b[1;34m\u001b[0m\n\u001b[0;32m      9\u001b[0m \u001b[0mprint\u001b[0m\u001b[1;33m(\u001b[0m\u001b[0me\u001b[0m\u001b[1;33m)\u001b[0m \u001b[1;31m# ▶ o\u001b[0m\u001b[1;33m\u001b[0m\u001b[1;33m\u001b[0m\u001b[0m\n\u001b[0;32m     10\u001b[0m \u001b[0mprint\u001b[0m\u001b[1;33m(\u001b[0m\u001b[0mf\u001b[0m\u001b[1;33m)\u001b[0m \u001b[1;31m# ▶ n\u001b[0m\u001b[1;33m\u001b[0m\u001b[1;33m\u001b[0m\u001b[0m\n\u001b[1;32m---> 11\u001b[1;33m \u001b[0mprint\u001b[0m\u001b[1;33m(\u001b[0m\u001b[0mh\u001b[0m\u001b[1;33m)\u001b[0m \u001b[1;31m# ▶ NameError: name 'h' is not defined\u001b[0m\u001b[1;33m\u001b[0m\u001b[1;33m\u001b[0m\u001b[0m\n\u001b[0m",
      "\u001b[1;31mNameError\u001b[0m: name 'h' is not defined"
     ]
    }
   ],
   "source": [
    "# Unpacking characters \n",
    "\n",
    "language = 'Python'\n",
    "a,b,c,d,e,f = language # unpacking sequence characters into variables\n",
    "print(a) # ▶ P\n",
    "print(b) # ▶ y\n",
    "print(c) # ▶ t \n",
    "print(d) # ▶ h\n",
    "print(e) # ▶ o\n",
    "print(f) # ▶ n\n",
    "print(h) # ▶ NameError: name 'h' is not defined"
   ]
  },
  {
   "cell_type": "markdown",
   "metadata": {},
   "source": [
    "### Mengakses karakter pada String\n",
    "- Dalam Python, String disimpan sebagai karakter individual di lokasi memori yang berdekatan.\n",
    "- Manfaat menggunakan String adalah dapat diakses menggunakan arah (Forward indexing dan backward indexing).\n",
    "- Forward indexing dimulai dengan `0,1,2,3,.... `.\n",
    "- Backward indexing dimulai dengan `-1,-2,-3,-4,.... `.\n",
    "- Mengakses karakter di luar rentang indeks akan memunculkan `IndexError`. Indeks harus berupa bilangan bulat. Kita tidak bisa menggunakan float atau tipe lainnya, ini akan menghasilkan `IndexError`.\n",
    "- String dapat diindeks dengan tanda kurung siku. Pengindeksan dimulai dari 0.\n",
    "- Kita dapat mengakses berbagai item dalam string dengan menggunakan operator `:` (titik dua).\n",
    "- Fungsi `len()` mengembalikan nilai panjang string.\n",
    "\n",
    "<img src='https://raw.githubusercontent.com/milaan9/02_Python_Datatypes/main/img/s3.png' width=500></img>"
   ]
  },
  {
   "cell_type": "code",
   "execution_count": 6,
   "metadata": {},
   "outputs": [
    {
     "name": "stdout",
     "output_type": "stream",
     "text": [
      "P\n",
      "y\n",
      "n\n"
     ]
    }
   ],
   "source": [
    "language = 'Python'\n",
    "\n",
    "first_letter = language[0]\n",
    "print(first_letter)   \n",
    "\n",
    "second_letter = language[1]\n",
    "print(second_letter)  \n",
    "\n",
    "last_index = len(language) - 1 \n",
    "last_letter = language[last_index]\n",
    "print(last_letter)"
   ]
  },
  {
   "cell_type": "code",
   "execution_count": 7,
   "metadata": {},
   "outputs": [
    {
     "name": "stdout",
     "output_type": "stream",
     "text": [
      "n\n",
      "o\n"
     ]
    }
   ],
   "source": [
    "# Jika kita ingin memulai dari ujung kanan kita dapat menggunakan negatif indexing dimana -1 adalah indeks terakhir\n",
    "\n",
    "language = 'Python'\n",
    "\n",
    "last_letter = language[-1]\n",
    "print(last_letter)\n",
    "\n",
    "second_last = language[-2]\n",
    "print(second_last)"
   ]
  },
  {
   "cell_type": "code",
   "execution_count": 8,
   "metadata": {},
   "outputs": [
    {
     "name": "stdout",
     "output_type": "stream",
     "text": [
      "str =  Python\n"
     ]
    },
    {
     "ename": "TypeError",
     "evalue": "string indices must be integers",
     "output_type": "error",
     "traceback": [
      "\u001b[1;31m---------------------------------------------------------------------------\u001b[0m",
      "\u001b[1;31mTypeError\u001b[0m                                 Traceback (most recent call last)",
      "\u001b[1;32m<ipython-input-8-f6a5d3556247>\u001b[0m in \u001b[0;36m<module>\u001b[1;34m\u001b[0m\n\u001b[0;32m      6\u001b[0m \u001b[1;33m\u001b[0m\u001b[0m\n\u001b[0;32m      7\u001b[0m \u001b[1;31m# index must be an integer\u001b[0m\u001b[1;33m\u001b[0m\u001b[1;33m\u001b[0m\u001b[1;33m\u001b[0m\u001b[0m\n\u001b[1;32m----> 8\u001b[1;33m \u001b[0mprint\u001b[0m\u001b[1;33m(\u001b[0m\u001b[1;34m'str[1.50] = '\u001b[0m\u001b[1;33m,\u001b[0m \u001b[0mstr\u001b[0m\u001b[1;33m[\u001b[0m\u001b[1;36m1.5\u001b[0m\u001b[1;33m]\u001b[0m\u001b[1;33m)\u001b[0m\u001b[1;33m\u001b[0m\u001b[1;33m\u001b[0m\u001b[0m\n\u001b[0m\u001b[0;32m      9\u001b[0m \u001b[1;33m\u001b[0m\u001b[0m\n\u001b[0;32m     10\u001b[0m \u001b[1;31m# index must be in range\u001b[0m\u001b[1;33m\u001b[0m\u001b[1;33m\u001b[0m\u001b[1;33m\u001b[0m\u001b[0m\n",
      "\u001b[1;31mTypeError\u001b[0m: string indices must be integers"
     ]
    }
   ],
   "source": [
    "# Jika kita mencoba mengakses indeks di luar rentang atau menggunakan angka selain bilangan bulat akan mendapatkan Error.\n",
    "\n",
    "str = 'Python'\n",
    "\n",
    "print('str = ', str)\n",
    "\n",
    "# index must be an integer\n",
    "print('str[1.50] = ', str[1.5]) \n",
    "\n",
    "# index must be in range\n",
    "print('str[15] = ', str[15])"
   ]
  },
  {
   "cell_type": "code",
   "execution_count": 9,
   "metadata": {},
   "outputs": [
    {
     "name": "stdout",
     "output_type": "stream",
     "text": [
      "L \t a\n",
      "i \t y\n",
      "d \t d\n",
      "y \t i\n",
      "a \t L\n"
     ]
    }
   ],
   "source": [
    "name = 'Lidya'\n",
    "length=len(name)\n",
    "i=0\n",
    "\n",
    "for n in range(-1,(-length-1),-1):\n",
    "    print(name[i],\"\\t\",name[n])\n",
    "    i+=1"
   ]
  },
  {
   "cell_type": "markdown",
   "metadata": {},
   "source": [
    "### Memotong Slicing\n",
    "String slicing dapat didefinisikan sebagai substring yang merupakan bagian dari string. Oleh karena itu substring dapat diperoleh dari sebuah string. Ada banyak cara untuk string slicing. Karena string dapat diakses atau diindeks dari kedua arah dan karenanya string juga dapat diiris dari kedua arah.\n",
    "\n",
    "Jika kita ingin mengakses suatu range, kita memerlukan indeks yang akan memotong bagian dari string.\n",
    "\n",
    "```\n",
    "str[start : stop : step ]\n",
    "str[start : stop]  \n",
    "str[start : ]      \n",
    "str[ : stop]       \n",
    "str[ : ]           \n",
    "```"
   ]
  },
  {
   "cell_type": "code",
   "execution_count": 13,
   "metadata": {},
   "outputs": [
    {
     "name": "stdout",
     "output_type": "stream",
     "text": [
      "The string '123456789' string is 9 characters long\n",
      "First character of 123456789 is 1\n",
      "Last character of 123456789 is 9\n",
      "Last character of 123456789 is 9\n"
     ]
    }
   ],
   "source": [
    "s = '123456789'\n",
    "\n",
    "print(\"The string '%s' string is %d characters long\" %(s, len(s)))  \n",
    "print('First character of',s,'is',s[0]) \n",
    "print('Last character of',s,'is',s[8])\n",
    "print('Last character of',s,'is',s[len(s)-1])"
   ]
  },
  {
   "cell_type": "code",
   "execution_count": 14,
   "metadata": {},
   "outputs": [
    {
     "name": "stdout",
     "output_type": "stream",
     "text": [
      "First character of 123456789 is 1\n",
      "Second character of 123456789 is 2\n",
      "Last character of 123456789 is 9\n"
     ]
    }
   ],
   "source": [
    "# Negative slicing\n",
    "\n",
    "# print('First character of',s,'is',s[-len(s)])\n",
    "print('First character of',s,'is',s[(-9)])\n",
    "print('Second character of',s,'is',s[(-8)])\n",
    "print('Last character of',s,'is',s[-1])"
   ]
  },
  {
   "cell_type": "markdown",
   "metadata": {},
   "source": [
    "Substring (rentang karakter) yang ditentukan menggunakan $a:b$ untuk menentukan karakter pada indeks $a, a+1,\\ldots,b-1$. Perhatikan bahwa karakter terakhir *tidak* disertakan."
   ]
  },
  {
   "cell_type": "code",
   "execution_count": 16,
   "metadata": {},
   "outputs": [
    {
     "name": "stdout",
     "output_type": "stream",
     "text": [
      "First three characters 123\n",
      "Next three characters 456\n"
     ]
    }
   ],
   "source": [
    "print(\"First three characters\",s[0:3])\n",
    "print(\"Next three characters\",s[3:6])"
   ]
  },
  {
   "cell_type": "markdown",
   "metadata": {},
   "source": [
    "Awal dan akhir rentang yang kosong menunjukkan awal/akhir string"
   ]
  },
  {
   "cell_type": "code",
   "execution_count": 17,
   "metadata": {},
   "outputs": [
    {
     "name": "stdout",
     "output_type": "stream",
     "text": [
      "First three characters 123\n",
      "Last three characters 789\n"
     ]
    }
   ],
   "source": [
    "print(\"First three characters\", s[:3])\n",
    "print(\"Last three characters\", s[-3:])"
   ]
  },
  {
   "cell_type": "code",
   "execution_count": 19,
   "metadata": {},
   "outputs": [
    {
     "name": "stdout",
     "output_type": "stream",
     "text": [
      "str =  PYTHON\n",
      "str[0] =  P\n",
      "str[-1] =  N\n",
      "str[1:5] =  YTHO\n",
      "str[5:-2] =  HO\n"
     ]
    }
   ],
   "source": [
    "str = 'PYTHON'\n",
    "\n",
    "print('str = ', str)\n",
    "print('str[0] = ', str[0])          # first character\n",
    "print('str[-1] = ', str[-1])        # last character\n",
    "print('str[1:5] = ', str[1:5])      # slicing 2nd to 5th character\n",
    "print('str[5:-2] = ', str[3:-1])    # slicing 6th to 2nd last character"
   ]
  },
  {
   "cell_type": "code",
   "execution_count": 21,
   "metadata": {},
   "outputs": [
    {
     "name": "stdout",
     "output_type": "stream",
     "text": [
      " Lan\n",
      "hon L\n",
      "egaugnaL nohtyP\n",
      "to a\n",
      "egaugnaL nohtyP\n",
      "Pytho\n",
      "hon Language\n",
      "Python Language\n"
     ]
    }
   ],
   "source": [
    "str = \"Python Language\"\n",
    "\n",
    "print(str[6:10])\n",
    "print(str[-12:-7])\n",
    "print(str[-1: :-1])       # reversed all string\n",
    "print(str[2: 10: 2])      # step = 2\n",
    "print(str[ : : -1])       # reversed all string\n",
    "print(str[ : 5])          # from 0 to 4\n",
    "print(str[3 : ])          # from 3 to end of the string\n",
    "print(str[ : ])           # copy all string"
   ]
  },
  {
   "cell_type": "markdown",
   "metadata": {},
   "source": [
    "### Memisahkan dan Menggabungkan String\n",
    "\n",
    "Saat memproses teks, kemampuan untuk memisahkan string sangat berguna.\n",
    "- `partition(separator)`: memecah string berdasarkan pemisah\n",
    "- `split()`: memecah string menjadi kata-kata yang dipisahkan oleh spasi (opsional mengambil pemisah sebagai argumen)\n",
    "- `join()`: menggabungkan hasil split menggunakan string sebagai pemisah"
   ]
  },
  {
   "cell_type": "code",
   "execution_count": 25,
   "metadata": {},
   "outputs": [
    {
     "name": "stdout",
     "output_type": "stream",
     "text": [
      "('one ', '>', ' two > three')\n",
      "['one', '>', 'two', '>', 'three']\n",
      "['one', 'two', 'three']\n",
      "one;two;three\n"
     ]
    }
   ],
   "source": [
    "s = \"one > two > three\"\n",
    "print( s.partition(\">\") )\n",
    "print( s.split() )\n",
    "print( s.split(\" > \") )\n",
    "print( \";\".join( s.split(\" > \") ) )"
   ]
  },
  {
   "cell_type": "code",
   "execution_count": 26,
   "metadata": {},
   "outputs": [
    {
     "data": {
      "text/plain": [
       "['This', 'will', 'split', 'all', 'words', 'into', 'a', 'list']"
      ]
     },
     "execution_count": 26,
     "metadata": {},
     "output_type": "execute_result"
    }
   ],
   "source": [
    "str = \"This will split all words into a list\"\n",
    "\n",
    "str.split()"
   ]
  },
  {
   "cell_type": "code",
   "execution_count": 27,
   "metadata": {},
   "outputs": [
    {
     "data": {
      "text/plain": [
       "'This will join all words into a string'"
      ]
     },
     "execution_count": 27,
     "metadata": {},
     "output_type": "execute_result"
    }
   ],
   "source": [
    "lst= ['This', 'will', 'join', 'all', 'words', 'into', 'a', 'string']\n",
    "\n",
    "' '.join(lst)"
   ]
  },
  {
   "cell_type": "code",
   "execution_count": 28,
   "metadata": {},
   "outputs": [
    {
     "data": {
      "text/plain": [
       "7"
      ]
     },
     "execution_count": 28,
     "metadata": {},
     "output_type": "execute_result"
    }
   ],
   "source": [
    "'Happy New Year'.find('ew')"
   ]
  },
  {
   "cell_type": "code",
   "execution_count": 29,
   "metadata": {},
   "outputs": [
    {
     "data": {
      "text/plain": [
       "'Brilliant New Year'"
      ]
     },
     "execution_count": 29,
     "metadata": {},
     "output_type": "execute_result"
    }
   ],
   "source": [
    "'Happy New Year'.replace('Happy','Brilliant')"
   ]
  },
  {
   "cell_type": "markdown",
   "metadata": {},
   "source": [
    "### Mengganti dan Menghapus String\n",
    "String adalah tipe data *immutable*. Ini berarti bahwa elemen string tidak dapat diubah setelah ditetapkan. Kita hanya dapat menetapkan kembali string yang berbeda dengan nama yang sama."
   ]
  },
  {
   "cell_type": "code",
   "execution_count": 30,
   "metadata": {},
   "outputs": [
    {
     "ename": "TypeError",
     "evalue": "'str' object does not support item assignment",
     "output_type": "error",
     "traceback": [
      "\u001b[1;31m---------------------------------------------------------------------------\u001b[0m",
      "\u001b[1;31mTypeError\u001b[0m                                 Traceback (most recent call last)",
      "\u001b[1;32m<ipython-input-30-9df797f83624>\u001b[0m in \u001b[0;36m<module>\u001b[1;34m\u001b[0m\n\u001b[0;32m      1\u001b[0m \u001b[0mmy_string\u001b[0m \u001b[1;33m=\u001b[0m \u001b[1;34m'python'\u001b[0m\u001b[1;33m\u001b[0m\u001b[1;33m\u001b[0m\u001b[0m\n\u001b[1;32m----> 2\u001b[1;33m \u001b[0mmy_string\u001b[0m\u001b[1;33m[\u001b[0m\u001b[1;36m5\u001b[0m\u001b[1;33m]\u001b[0m \u001b[1;33m=\u001b[0m \u001b[1;34m'a'\u001b[0m\u001b[1;33m\u001b[0m\u001b[1;33m\u001b[0m\u001b[0m\n\u001b[0m",
      "\u001b[1;31mTypeError\u001b[0m: 'str' object does not support item assignment"
     ]
    }
   ],
   "source": [
    "my_string = 'python'\n",
    "my_string[5] = 'a'"
   ]
  },
  {
   "cell_type": "code",
   "execution_count": 31,
   "metadata": {},
   "outputs": [
    {
     "ename": "TypeError",
     "evalue": "'str' object doesn't support item deletion",
     "output_type": "error",
     "traceback": [
      "\u001b[1;31m---------------------------------------------------------------------------\u001b[0m",
      "\u001b[1;31mTypeError\u001b[0m                                 Traceback (most recent call last)",
      "\u001b[1;32m<ipython-input-31-34738fc1b65c>\u001b[0m in \u001b[0;36m<module>\u001b[1;34m\u001b[0m\n\u001b[0;32m      1\u001b[0m \u001b[0mmy_string\u001b[0m \u001b[1;33m=\u001b[0m \u001b[1;34m'python'\u001b[0m\u001b[1;33m\u001b[0m\u001b[1;33m\u001b[0m\u001b[0m\n\u001b[1;32m----> 2\u001b[1;33m \u001b[1;32mdel\u001b[0m \u001b[0mmy_string\u001b[0m\u001b[1;33m[\u001b[0m\u001b[1;36m1\u001b[0m\u001b[1;33m]\u001b[0m\u001b[1;33m\u001b[0m\u001b[1;33m\u001b[0m\u001b[0m\n\u001b[0m",
      "\u001b[1;31mTypeError\u001b[0m: 'str' object doesn't support item deletion"
     ]
    }
   ],
   "source": [
    "my_string = 'python'\n",
    "del my_string[1]"
   ]
  },
  {
   "cell_type": "markdown",
   "metadata": {},
   "source": [
    "### Operasi String\n",
    "Ada banyak operasi yang dapat dilakukan dengan string sehingga menjadikannya salah satu tipe data yang paling banyak digunakan di Python. Untuk melakukan operasi pada string, Python pada dasarnya menyediakan 3 jenis Operator yang diberikan di bawah ini.\n",
    "- Operator Dasar/Penggabungan Dua atau Lebih String\n",
    "- Operator Keanggotaan\n",
    "- Operator Relasional"
   ]
  },
  {
   "cell_type": "markdown",
   "metadata": {},
   "source": [
    "**Operator untuk penggabungan dua atau lebih string**\n",
    "\n",
    "Operator `+` (penggabungan) dapat digunakan untuk menggabungkan dua string atau lebih, atau disebut concatenation. Operator `*` (replikasi) dapat digunakan untuk mengulang string beberapa kali."
   ]
  },
  {
   "cell_type": "code",
   "execution_count": 32,
   "metadata": {},
   "outputs": [
    {
     "name": "stdout",
     "output_type": "stream",
     "text": [
      "Hello,World!\n",
      "Hello, World!\n"
     ]
    }
   ],
   "source": [
    "a = \"Hello,\"\n",
    "b = 'World!'\n",
    "\n",
    "print(a+b)\n",
    "print(a+\" \"+b)"
   ]
  },
  {
   "cell_type": "code",
   "execution_count": 33,
   "metadata": {},
   "outputs": [
    {
     "name": "stdout",
     "output_type": "stream",
     "text": [
      "Hello, World!\n"
     ]
    }
   ],
   "source": [
    "string1 = 'World'\n",
    "string2 = '!'\n",
    "\n",
    "print('Hello,' + \" \" + string1 + string2)"
   ]
  },
  {
   "cell_type": "markdown",
   "metadata": {},
   "source": [
    "Catatan: Kedua operan yang diteruskan untuk rangkaian harus bertipe data sama, jika tidak maka akan muncul error."
   ]
  },
  {
   "cell_type": "code",
   "execution_count": 34,
   "metadata": {},
   "outputs": [
    {
     "ename": "TypeError",
     "evalue": "can only concatenate str (not \"int\") to str",
     "output_type": "error",
     "traceback": [
      "\u001b[1;31m---------------------------------------------------------------------------\u001b[0m",
      "\u001b[1;31mTypeError\u001b[0m                                 Traceback (most recent call last)",
      "\u001b[1;32m<ipython-input-34-d0ab8d594156>\u001b[0m in \u001b[0;36m<module>\u001b[1;34m\u001b[0m\n\u001b[1;32m----> 1\u001b[1;33m \u001b[0mprint\u001b[0m\u001b[1;33m(\u001b[0m\u001b[1;34m\"HelloWorld\"\u001b[0m\u001b[1;33m+\u001b[0m\u001b[1;36m99\u001b[0m\u001b[1;33m)\u001b[0m\u001b[1;33m\u001b[0m\u001b[1;33m\u001b[0m\u001b[0m\n\u001b[0m",
      "\u001b[1;31mTypeError\u001b[0m: can only concatenate str (not \"int\") to str"
     ]
    }
   ],
   "source": [
    "print(\"HelloWorld\"+99)"
   ]
  },
  {
   "cell_type": "code",
   "execution_count": 35,
   "metadata": {},
   "outputs": [
    {
     "name": "stdout",
     "output_type": "stream",
     "text": [
      "HelloWorldHelloWorldHelloWorldHelloWorldHelloWorld\n",
      "PythonPythonPython\n"
     ]
    }
   ],
   "source": [
    "print(\"HelloWorld\" * 5)\n",
    "print(3 * \"Python\")"
   ]
  },
  {
   "cell_type": "code",
   "execution_count": 36,
   "metadata": {},
   "outputs": [
    {
     "name": "stdout",
     "output_type": "stream",
     "text": [
      "str1 + str2 =  HelloWorld!\n",
      "str1 * 3 = HelloHelloHello\n"
     ]
    }
   ],
   "source": [
    "str1 = 'Hello'\n",
    "str2 ='World!'\n",
    "\n",
    "print('str1 + str2 = ', str1 + str2)\n",
    "\n",
    "print('str1 * 3 =', str1 * 3)"
   ]
  },
  {
   "cell_type": "markdown",
   "metadata": {},
   "source": [
    "Jika kita ingin menggabungkan string dalam baris yang berbeda, kita dapat menggunakan tanda kurung `()`."
   ]
  },
  {
   "cell_type": "code",
   "execution_count": 37,
   "metadata": {},
   "outputs": [
    {
     "data": {
      "text/plain": [
       "'Hello World!'"
      ]
     },
     "execution_count": 37,
     "metadata": {},
     "output_type": "execute_result"
    }
   ],
   "source": [
    "'Hello ''World!'"
   ]
  },
  {
   "cell_type": "code",
   "execution_count": 38,
   "metadata": {},
   "outputs": [
    {
     "data": {
      "text/plain": [
       "'Hello World'"
      ]
     },
     "execution_count": 38,
     "metadata": {},
     "output_type": "execute_result"
    }
   ],
   "source": [
    "s = ('Hello '\n",
    "     'World')\n",
    "s"
   ]
  },
  {
   "cell_type": "markdown",
   "metadata": {},
   "source": [
    "# List"
   ]
  },
  {
   "cell_type": "code",
   "execution_count": null,
   "metadata": {},
   "outputs": [],
   "source": [
    "# Sabar"
   ]
  },
  {
   "cell_type": "markdown",
   "metadata": {},
   "source": [
    "# Tuple"
   ]
  },
  {
   "cell_type": "code",
   "execution_count": null,
   "metadata": {},
   "outputs": [],
   "source": [
    "# Sabar"
   ]
  },
  {
   "cell_type": "markdown",
   "metadata": {},
   "source": [
    "# Dictionary"
   ]
  },
  {
   "cell_type": "code",
   "execution_count": null,
   "metadata": {},
   "outputs": [],
   "source": [
    "# Sabar"
   ]
  },
  {
   "cell_type": "markdown",
   "metadata": {},
   "source": [
    "# Set"
   ]
  },
  {
   "cell_type": "code",
   "execution_count": null,
   "metadata": {},
   "outputs": [],
   "source": [
    "# Sabar"
   ]
  }
 ],
 "metadata": {
  "interpreter": {
   "hash": "b3ba2566441a7c06988d0923437866b63cedc61552a5af99d1f4fb67d367b25f"
  },
  "kernelspec": {
   "display_name": "Python 3.8.8 ('base')",
   "language": "python",
   "name": "python3"
  },
  "language_info": {
   "codemirror_mode": {
    "name": "ipython",
    "version": 3
   },
   "file_extension": ".py",
   "mimetype": "text/x-python",
   "name": "python",
   "nbconvert_exporter": "python",
   "pygments_lexer": "ipython3",
   "version": "3.8.8"
  },
  "orig_nbformat": 4
 },
 "nbformat": 4,
 "nbformat_minor": 2
}
