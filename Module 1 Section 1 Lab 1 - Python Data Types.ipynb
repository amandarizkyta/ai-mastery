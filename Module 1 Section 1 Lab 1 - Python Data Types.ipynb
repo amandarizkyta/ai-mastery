{
 "cells": [
  {
   "cell_type": "markdown",
   "metadata": {},
   "source": [
    "# Module 1 Section 1 Lab 1 - Python Data Types"
   ]
  },
  {
   "cell_type": "markdown",
   "metadata": {},
   "source": [
    "# Numbers, Type Conversion, Math\n",
    "\n",
    "## Numbers\n",
    "Bilangan *integer*, *floating point*, dan *complex* termasuk dalam kategori bilangan Python yang didefinisikan sebagai kelas `int`, `float` dan `complex`. *Integer* dan *floating point* dipisahkan oleh ada atau tidaknya titik desimal. Misalnya, 5 adalah *integer* sedangkan 5.0 adalah *floating-point*. Bilangan *complex* ditulis dalam bentuk, `x + yj`, di mana `x` adalah bagian real dan `y` adalah bagian imajiner.\n",
    "\n",
    "Kita dapat menggunakan fungsi `type()` untuk mengetahui tipe data suatu variabel. Demikian pula, fungsi `isinstance()` digunakan untuk memeriksa apakah suatu objek milik kelas tertentu."
   ]
  },
  {
   "cell_type": "code",
   "execution_count": 2,
   "metadata": {},
   "outputs": [
    {
     "name": "stdout",
     "output_type": "stream",
     "text": [
      "<class 'int'>\n",
      "<class 'float'>\n",
      "(9+3j)\n",
      "True\n"
     ]
    }
   ],
   "source": [
    "a = 5               # type integer\n",
    "b = 5.0             # type float\n",
    "c = 6 + 3j          # type complex\n",
    "\n",
    "print(type(a))      \n",
    "print(type(b))      \n",
    "\n",
    "print(c + 3)\n",
    "print(isinstance(c, complex))"
   ]
  },
  {
   "cell_type": "markdown",
   "metadata": {},
   "source": [
    "Bilangan *integer* dapat memiliki panjang berapa pun, tetapi dibatasi oleh memori yang tersedia.\n",
    "\n",
    "Angka-angka yang kita tangani setiap hari adalah sistem angka desimal (basis 10). Tetapi pemrograman komputer (umumnya *embedded programming*) perlu bekerja dengan sistem bilangan biner (basis 2), heksadesimal (basis 16) dan oktal (basis 8).\n",
    "\n",
    "Dalam Python, kita dapat merepresentasikan angka-angka ini dengan menempatkan awalan yang tepat sebelum angka itu. Perhatikan Tabel berikut ini.\n",
    "\n",
    "| Number System | Prefix |\n",
    "|:----| :--- |\n",
    "| **`Binary`** |   '0b' or '0B' | \n",
    "| **`Octal`** |   '0o' or '0O' | \n",
    "| **`Hexadecimal`** |   '0x' or '0X' | "
   ]
  },
  {
   "cell_type": "code",
   "execution_count": 3,
   "metadata": {},
   "outputs": [
    {
     "name": "stdout",
     "output_type": "stream",
     "text": [
      "1\n",
      "10\n",
      "10\n"
     ]
    }
   ],
   "source": [
    "# Output: 1\n",
    "print(0b0001)  # 0001 in binary is 1 in decimal and i have use prefix '0b'\n",
    "\n",
    "# Output: 10  \n",
    "print(0o12)    # 12 in octadecimal is 10 in decimal and i have use prefix '0o'\n",
    "\n",
    "# Output: 10\n",
    "print(0x000A)  # 000A in hexadecimal is 10 in decimal and i have use prefix '0x'"
   ]
  },
  {
   "cell_type": "markdown",
   "metadata": {},
   "source": [
    "## Type Conversion\n",
    "Kita dapat mengubah satu jenis angka menjadi yang lain. Ini juga dikenal sebagai paksaan. Operasi seperti penambahan, pengurangan memaksa *integer* untuk menjadi *floating point* secara implisit (otomatis), jika salah satu operan adalah *float*."
   ]
  },
  {
   "cell_type": "code",
   "execution_count": 4,
   "metadata": {},
   "outputs": [
    {
     "data": {
      "text/plain": [
       "4.0"
      ]
     },
     "execution_count": 4,
     "metadata": {},
     "output_type": "execute_result"
    }
   ],
   "source": [
    "1 + 3.0  # Menambahkan integer dan float menghasilkan float"
   ]
  },
  {
   "cell_type": "markdown",
   "metadata": {},
   "source": [
    "Kita bisa lihat di atas bahwa 1 (integer) dipaksa menjadi 1.0 (float) untuk penjumlahan dan hasilnya juga bilangan *floating point*. Kita juga dapat menggunakan fungsi bawaan seperti `int()`, `float()` dan `complex()` untuk mengonversi tipe data secara eksplisit. Fungsi-fungsi ini bahkan dapat mengkonversi dari string."
   ]
  },
  {
   "cell_type": "code",
   "execution_count": 5,
   "metadata": {},
   "outputs": [
    {
     "data": {
      "text/plain": [
       "6"
      ]
     },
     "execution_count": 5,
     "metadata": {},
     "output_type": "execute_result"
    }
   ],
   "source": [
    "int(6.5)"
   ]
  },
  {
   "cell_type": "code",
   "execution_count": 6,
   "metadata": {},
   "outputs": [
    {
     "data": {
      "text/plain": [
       "-2"
      ]
     },
     "execution_count": 6,
     "metadata": {},
     "output_type": "execute_result"
    }
   ],
   "source": [
    "int(-2.7)"
   ]
  },
  {
   "cell_type": "code",
   "execution_count": 7,
   "metadata": {},
   "outputs": [
    {
     "data": {
      "text/plain": [
       "5.0"
      ]
     },
     "execution_count": 7,
     "metadata": {},
     "output_type": "execute_result"
    }
   ],
   "source": [
    "float(5)"
   ]
  },
  {
   "cell_type": "code",
   "execution_count": 8,
   "metadata": {},
   "outputs": [
    {
     "name": "stdout",
     "output_type": "stream",
     "text": [
      "1234567890123456789\n",
      "0.12345678901234568\n",
      "(1+2j)\n"
     ]
    }
   ],
   "source": [
    "a = 1234567890123456789\n",
    "print (a)\n",
    "\n",
    "b = 0.1234567890123456789     # Hanya 17 angka setelah desimal yang dapat dicetak\n",
    "print (b)\n",
    "\n",
    "c = 1+2j\n",
    "print (c)"
   ]
  },
  {
   "cell_type": "markdown",
   "metadata": {},
   "source": [
    "Saat mengonversi dari *float* ke *integer*, nomor akan terpotong (bagian desimal dihapus)."
   ]
  },
  {
   "cell_type": "code",
   "execution_count": 9,
   "metadata": {},
   "outputs": [
    {
     "data": {
      "text/plain": [
       "(3+6j)"
      ]
     },
     "execution_count": 9,
     "metadata": {},
     "output_type": "execute_result"
    }
   ],
   "source": [
    "complex('3+6j')"
   ]
  },
  {
   "cell_type": "markdown",
   "metadata": {},
   "source": [
    "## Python Decimal\n",
    "*Float* pada Python melakukan beberapa perhitungan yang mungkin membuat kita takjub. Kita semua tahu bahwa jumlah 1.1 dan 2.2 adalah 3.3, tetapi Python tampaknya tidak setuju."
   ]
  },
  {
   "cell_type": "code",
   "execution_count": 10,
   "metadata": {},
   "outputs": [
    {
     "data": {
      "text/plain": [
       "False"
      ]
     },
     "execution_count": 10,
     "metadata": {},
     "output_type": "execute_result"
    }
   ],
   "source": [
    "(1.1 + 2.2) == 3.3  # Jawabannya seharusnya True"
   ]
  },
  {
   "cell_type": "markdown",
   "metadata": {},
   "source": [
    "**Apa yang terjadi?**\n",
    "\n",
    "Bilangan *floating-point* diimplementasikan pada perangkat keras komputer sebagai pecahan biner karena komputer hanya memahami biner (0 dan 1). Karena alasan ini, sebagian besar pecahan desimal yang kita ketahui, tidak dapat disimpan secara akurat di komputer kita.\n",
    "\n",
    "Mari kita ambil contoh. Kita tidak dapat menyatakan pecahan 1/3 sebagai bilangan desimal. Ini akan memberikan 0.33333333 yang panjangnya tak terhingga, dan kita hanya dapat memperkirakannya.\n",
    "\n",
    "Ternyata, pecahan desimal 0.1 akan menghasilkan pecahan biner yang panjangnya tak terhingga dari 0.000110011001100110011 dan komputer kita hanya menyimpannya dalam jumlah terbatas. Ini hanya akan mendekati 0.1 tetapi tidak pernah sama. Oleh karena itu, ini adalah keterbatasan perangkat keras komputer kita dan bukan kesalahan dalam Python."
   ]
  },
  {
   "cell_type": "code",
   "execution_count": 11,
   "metadata": {},
   "outputs": [
    {
     "data": {
      "text/plain": [
       "3.3000000000000003"
      ]
     },
     "execution_count": 11,
     "metadata": {},
     "output_type": "execute_result"
    }
   ],
   "source": [
    "1.1 + 2.2"
   ]
  },
  {
   "cell_type": "markdown",
   "metadata": {},
   "source": [
    "Untuk mengatasi masalah ini, kita dapat menggunakan modul desimal yang disertakan Python. Sementara *floating-point* memiliki presisi hingga 15 tempat desimal, modul `desimal` memiliki presisi yang dapat diatur pengguna. Mari kita lihat perbedaannya."
   ]
  },
  {
   "cell_type": "code",
   "execution_count": 12,
   "metadata": {},
   "outputs": [
    {
     "name": "stdout",
     "output_type": "stream",
     "text": [
      "0.1\n",
      "0.1000000000000000055511151231257827021181583404541015625\n"
     ]
    }
   ],
   "source": [
    "import decimal\n",
    "\n",
    "print(0.1)\n",
    "print(decimal.Decimal(0.1))"
   ]
  },
  {
   "cell_type": "markdown",
   "metadata": {},
   "source": [
    "Modul ini digunakan ketika kita ingin melakukan perhitungan desimal seperti yang kita pelajari di sekolah. Ini juga mempertahankan signifikansi. Kita tahu 25.50 kg lebih akurat daripada 25.5 kg karena memiliki dua tempat desimal yang signifikan dibandingkan dengan satu desimal."
   ]
  },
  {
   "cell_type": "code",
   "execution_count": 14,
   "metadata": {},
   "outputs": [
    {
     "name": "stdout",
     "output_type": "stream",
     "text": [
      "3.3\n",
      "3.000\n"
     ]
    }
   ],
   "source": [
    "from decimal import Decimal\n",
    "\n",
    "print(Decimal('1.1') + Decimal('2.2'))\n",
    "print(Decimal('1.2') * Decimal('2.50'))"
   ]
  },
  {
   "cell_type": "markdown",
   "metadata": {},
   "source": [
    "Perhatikan angka nol pada contoh di atas. Kita mungkin bertanya, mengapa tidak mengimplementasikan `Decimal` setiap saat, bukan *float*? Alasan utamanya adalah efisiensi. Operasi *floating point* yang dilakukan harus lebih cepat dari operasi `Decimal`.\n",
    "\n",
    "**Kapan menggunakan Decimal daripada float?** Kita biasanya menggunakan dalam kasus berikut:\n",
    "1. Saat kita membuat aplikasi keuangan yang membutuhkan representasi desimal yang tepat.\n",
    "2. Saat kita ingin mengontrol tingkat presisi yang dibutuhkan.\n",
    "3. Ketika kita ingin menerapkan gagasan tempat desimal yang signifikan."
   ]
  },
  {
   "cell_type": "markdown",
   "metadata": {},
   "source": [
    "## Python Fractions\n",
    "Python menyediakan operasi yang melibatkan bilangan pecahan melalui modul `fractions`. Pecahan memiliki pembilang dan penyebut, keduanya bilangan bulat. Modul ini memiliki dukungan untuk aritmatika bilangan rasional. Kita dapat membuat objek Pecahan dengan berbagai cara."
   ]
  },
  {
   "cell_type": "code",
   "execution_count": 15,
   "metadata": {},
   "outputs": [
    {
     "name": "stdout",
     "output_type": "stream",
     "text": [
      "3/2\n",
      "9\n",
      "1/6\n"
     ]
    }
   ],
   "source": [
    "import fractions\n",
    "\n",
    "print(fractions.Fraction(1.5))\n",
    "print(fractions.Fraction(9))\n",
    "print(fractions.Fraction(1,6))"
   ]
  },
  {
   "cell_type": "markdown",
   "metadata": {},
   "source": [
    "Saat membuat `Fraction` dari *float*, kita mungkin mendapatkan beberapa hasil yang tidak biasa. Hal ini disebabkan oleh representasi bilangan *floating point* biner yang tidak sempurna seperti yang telah dibahas pada bagian sebelumnya.\n",
    "\n",
    "Untungnya, `Fraction` memungkinkan kita untuk membuat *instance* dengan string juga. Ini adalah pilihan yang lebih disukai saat menggunakan angka desimal."
   ]
  },
  {
   "cell_type": "code",
   "execution_count": 16,
   "metadata": {},
   "outputs": [
    {
     "name": "stdout",
     "output_type": "stream",
     "text": [
      "2476979795053773/2251799813685248\n",
      "11/10\n"
     ]
    }
   ],
   "source": [
    "import fractions\n",
    "\n",
    "# As float\n",
    "# Output: 2476979795053773/2251799813685248\n",
    "print(fractions.Fraction(1.1))      # 1.1 is a number\n",
    "\n",
    "# As string\n",
    "# Output: 11/10\n",
    "print(fractions.Fraction('1.1'))    #'1.1' is a string and not a number"
   ]
  },
  {
   "cell_type": "markdown",
   "metadata": {},
   "source": [
    "Tipe data ini juga mendukung semua operasi dasar. Berikut adalah beberapa contohnya."
   ]
  },
  {
   "cell_type": "code",
   "execution_count": 17,
   "metadata": {},
   "outputs": [
    {
     "name": "stdout",
     "output_type": "stream",
     "text": [
      "5854679515581645/2251799813685248\n",
      "2/3\n",
      "6/5\n",
      "False\n",
      "True\n"
     ]
    }
   ],
   "source": [
    "from fractions import Fraction as F\n",
    "\n",
    "print(F(1.3) + F(1.3))\n",
    "print(F(1, 3) + F(1, 3))\n",
    "print(1 / F(5, 6))\n",
    "print(F(-3, 10) > 0)\n",
    "print(F(-3, 10) < 0)"
   ]
  },
  {
   "cell_type": "markdown",
   "metadata": {},
   "source": [
    "## Python Mathematics\n",
    "Python menawarkan modul seperti `math` dan `random` untuk melakukan berbagai operasi matematika seperti trigonometri, logaritma, probabilitas dan statistik, dll."
   ]
  },
  {
   "cell_type": "code",
   "execution_count": 18,
   "metadata": {},
   "outputs": [
    {
     "name": "stdout",
     "output_type": "stream",
     "text": [
      "3.141592653589793\n",
      "-1.0\n",
      "22026.465794806718\n",
      "3.0\n",
      "1.1752011936438014\n",
      "720\n"
     ]
    }
   ],
   "source": [
    "import math\n",
    "\n",
    "print(math.pi)\n",
    "print(math.cos(math.pi))    # cos(pi) = -1\n",
    "print(math.exp(10))\n",
    "print(math.log10(1000))     # log10(1000) = 3\n",
    "print(math.sinh(1))\n",
    "print(math.factorial(6))"
   ]
  },
  {
   "cell_type": "code",
   "execution_count": 19,
   "metadata": {},
   "outputs": [
    {
     "name": "stdout",
     "output_type": "stream",
     "text": [
      "11\n",
      "d\n",
      "['e', 'd', 'b', 'c', 'a']\n",
      "0.7591236078275825\n"
     ]
    }
   ],
   "source": [
    "import random\n",
    "\n",
    "print(random.randrange(10, 20))\n",
    "\n",
    "x = ['a', 'b', 'c', 'd', 'e']       # x is a list class of variable and it has 5 elements.\n",
    "\n",
    "# Get random choice\n",
    "print(random.choice(x))\n",
    "\n",
    "# Shuffle x\n",
    "random.shuffle(x)\n",
    "\n",
    "# Print the shuffled x\n",
    "print(x)\n",
    "\n",
    "# Print random element\n",
    "print(random.random())"
   ]
  },
  {
   "cell_type": "markdown",
   "metadata": {},
   "source": [
    "# Strings"
   ]
  },
  {
   "cell_type": "code",
   "execution_count": null,
   "metadata": {},
   "outputs": [],
   "source": [
    "# Sabar"
   ]
  },
  {
   "cell_type": "markdown",
   "metadata": {},
   "source": [
    "# List"
   ]
  },
  {
   "cell_type": "code",
   "execution_count": null,
   "metadata": {},
   "outputs": [],
   "source": [
    "# Sabar"
   ]
  },
  {
   "cell_type": "markdown",
   "metadata": {},
   "source": [
    "# Tuple"
   ]
  },
  {
   "cell_type": "code",
   "execution_count": null,
   "metadata": {},
   "outputs": [],
   "source": [
    "# Sabar"
   ]
  },
  {
   "cell_type": "markdown",
   "metadata": {},
   "source": [
    "# Dictionary"
   ]
  },
  {
   "cell_type": "code",
   "execution_count": null,
   "metadata": {},
   "outputs": [],
   "source": [
    "# Sabar"
   ]
  },
  {
   "cell_type": "markdown",
   "metadata": {},
   "source": [
    "# Set"
   ]
  },
  {
   "cell_type": "code",
   "execution_count": null,
   "metadata": {},
   "outputs": [],
   "source": [
    "# Sabar"
   ]
  }
 ],
 "metadata": {
  "interpreter": {
   "hash": "b3ba2566441a7c06988d0923437866b63cedc61552a5af99d1f4fb67d367b25f"
  },
  "kernelspec": {
   "display_name": "Python 3.8.8 ('base')",
   "language": "python",
   "name": "python3"
  },
  "language_info": {
   "codemirror_mode": {
    "name": "ipython",
    "version": 3
   },
   "file_extension": ".py",
   "mimetype": "text/x-python",
   "name": "python",
   "nbconvert_exporter": "python",
   "pygments_lexer": "ipython3",
   "version": "3.8.8"
  },
  "orig_nbformat": 4
 },
 "nbformat": 4,
 "nbformat_minor": 2
}
